{
 "cells": [
  {
   "cell_type": "markdown",
   "metadata": {},
   "source": [
    "# DATA 1030 Midterm Project Notebook - Part II, Data Preprocessing"
   ]
  },
  {
   "cell_type": "code",
   "execution_count": 1,
   "metadata": {},
   "outputs": [],
   "source": [
    "import pandas as pd\n",
    "import numpy as np\n",
    "from sklearn.compose import ColumnTransformer\n",
    "from sklearn.pipeline import Pipeline\n",
    "from sklearn.model_selection import train_test_split, KFold\n",
    "from sklearn.preprocessing import MinMaxScaler, StandardScaler"
   ]
  },
  {
   "cell_type": "markdown",
   "metadata": {},
   "source": [
    "### 1. Read in data and feature names with descriptions; separate data and target columns"
   ]
  },
  {
   "cell_type": "code",
   "execution_count": 2,
   "metadata": {},
   "outputs": [],
   "source": [
    "df = pd.read_csv('../data/raw_data_plus_labeled_targets.csv')\n",
    "\n",
    "features = pd.read_csv('../data/features_plus_descriptions.csv')\n",
    "features.set_index('Feature Type and Number', inplace=True)\n",
    "features.drop(['S5', 'D21'], axis=0, inplace=True)\n",
    "\n",
    "X = df.loc[:,features.index]\n",
    "y = df['Best Heuristic']"
   ]
  },
  {
   "cell_type": "code",
   "execution_count": 3,
   "metadata": {},
   "outputs": [
    {
     "data": {
      "text/html": [
       "<div>\n",
       "<style scoped>\n",
       "    .dataframe tbody tr th:only-of-type {\n",
       "        vertical-align: middle;\n",
       "    }\n",
       "\n",
       "    .dataframe tbody tr th {\n",
       "        vertical-align: top;\n",
       "    }\n",
       "\n",
       "    .dataframe thead th {\n",
       "        text-align: right;\n",
       "    }\n",
       "</style>\n",
       "<table border=\"1\" class=\"dataframe\">\n",
       "  <thead>\n",
       "    <tr style=\"text-align: right;\">\n",
       "      <th></th>\n",
       "      <th>Column Type</th>\n",
       "    </tr>\n",
       "  </thead>\n",
       "  <tbody>\n",
       "    <tr>\n",
       "      <th>S1</th>\n",
       "      <td>fractionlike</td>\n",
       "    </tr>\n",
       "    <tr>\n",
       "      <th>S2</th>\n",
       "      <td>lengthlike</td>\n",
       "    </tr>\n",
       "    <tr>\n",
       "      <th>S3</th>\n",
       "      <td>fractionlike</td>\n",
       "    </tr>\n",
       "    <tr>\n",
       "      <th>S4</th>\n",
       "      <td>fractionlike</td>\n",
       "    </tr>\n",
       "    <tr>\n",
       "      <th>S6</th>\n",
       "      <td>fractionlike</td>\n",
       "    </tr>\n",
       "  </tbody>\n",
       "</table>\n",
       "</div>"
      ],
      "text/plain": [
       "     Column Type\n",
       "S1  fractionlike\n",
       "S2    lengthlike\n",
       "S3  fractionlike\n",
       "S4  fractionlike\n",
       "S6  fractionlike"
      ]
     },
     "execution_count": 3,
     "metadata": {},
     "output_type": "execute_result"
    }
   ],
   "source": [
    "tell_types = dict.fromkeys(features.index, 'lengthlike')\n",
    "fraclike = ['S1','S3', 'S4', 'S6', 'S8','S11', 'S12', 'D3', 'D39']\n",
    "\n",
    "for feat in fraclike:\n",
    "    tell_types[feat] = 'fractionlike'\n",
    "\n",
    "    coltypes = pd.DataFrame.from_dict(tell_types, orient='index', columns=['Column Type'])#, index = features.index, columns=['Column Type'])\n",
    "coltypes.head()"
   ]
  },
  {
   "cell_type": "markdown",
   "metadata": {},
   "source": [
    "### 2. Split Data into testing and other sets\n",
    "* 20% for testing\n",
    "* 80% to other\n",
    "* KFold with 4 splits, so that 80% of points in "
   ]
  },
  {
   "cell_type": "code",
   "execution_count": 4,
   "metadata": {},
   "outputs": [
    {
     "name": "stdout",
     "output_type": "stream",
     "text": [
      "0.7999346191565871\n"
     ]
    }
   ],
   "source": [
    "random_state = 431\n",
    "X_other, X_test, y_other, y_test = train_test_split(X, y, train_size = 0.8, random_state=random_state)\n",
    "print(X_other.shape[0]/X.shape[0])"
   ]
  },
  {
   "cell_type": "code",
   "execution_count": 5,
   "metadata": {},
   "outputs": [],
   "source": [
    "kf = KFold(n_splits=4, shuffle=True, random_state=random_state)"
   ]
  },
  {
   "cell_type": "markdown",
   "metadata": {},
   "source": [
    "### 3. Specify the columns for each scaler"
   ]
  },
  {
   "cell_type": "code",
   "execution_count": 6,
   "metadata": {},
   "outputs": [
    {
     "name": "stdout",
     "output_type": "stream",
     "text": [
      "MinMax Scaler Features:   ['S1', 'S3', 'S4', 'S6', 'S8', 'S11', 'S12', 'D3', 'D39']\n",
      "Standard Scaler Features:   ['S2', 'S7', 'S9', 'S10', 'S13', 'S14', 'D1', 'D2', 'D4', 'D5', 'D6', 'D7', 'D8', 'D9', 'D10', 'D11', 'D12', 'D13', 'D14', 'D15', 'D16', 'D17', 'D18', 'D19', 'D20', 'D22', 'D23', 'D24', 'D25', 'D26', 'D27', 'D28', 'D29', 'D30', 'D31', 'D32', 'D33', 'D34', 'D35', 'D36', 'D37', 'D38']\n"
     ]
    }
   ],
   "source": [
    "minmax_feats = []\n",
    "std_feats = []\n",
    "\n",
    "for feat in coltypes.index:\n",
    "    if coltypes.loc[feat, 'Column Type'] == 'fractionlike':\n",
    "        minmax_feats.append(feat)\n",
    "    elif coltypes.loc[feat, 'Column Type'] == 'lengthlike':\n",
    "        std_feats.append(feat)\n",
    "\n",
    "print('MinMax Scaler Features:  ',minmax_feats)\n",
    "print('Standard Scaler Features:  ', std_feats)\n",
    "        \n"
   ]
  },
  {
   "cell_type": "markdown",
   "metadata": {},
   "source": [
    "### 4. Create preprocessor pipline"
   ]
  },
  {
   "cell_type": "code",
   "execution_count": 7,
   "metadata": {},
   "outputs": [],
   "source": [
    "preprocessor = ColumnTransformer(\n",
    "    transformers=[\n",
    "        ('mm_scaler', MinMaxScaler(), minmax_feats),\n",
    "        ('std_scaler', StandardScaler(), std_feats)])\n",
    "\n",
    "clf = Pipeline(steps=[('preprocessor', preprocessor)])"
   ]
  },
  {
   "cell_type": "markdown",
   "metadata": {},
   "source": [
    "### 5. Run the splitting process and transform pipeline on each subset of the data"
   ]
  },
  {
   "cell_type": "code",
   "execution_count": 8,
   "metadata": {},
   "outputs": [
    {
     "name": "stdout",
     "output_type": "stream",
     "text": [
      "0    1568\n",
      "1     633\n",
      "3     449\n",
      "5     372\n",
      "4     365\n",
      "2     283\n",
      "Name: Best Heuristic, dtype: int64\n",
      "7.301381967304095\n",
      "5.345019179319519\n",
      "0    1551\n",
      "1     654\n",
      "3     444\n",
      "4     362\n",
      "5     360\n",
      "2     299\n",
      "Name: Best Heuristic, dtype: int64\n",
      "7.553495541120039\n",
      "5.5316202473237315\n",
      "0    1576\n",
      "1     631\n",
      "3     441\n",
      "4     376\n",
      "5     354\n",
      "2     293\n",
      "Name: Best Heuristic, dtype: int64\n",
      "5.931662926906916\n",
      "5.363875953265935\n",
      "0    1542\n",
      "1     656\n",
      "3     448\n",
      "5     381\n",
      "4     355\n",
      "2     289\n",
      "Name: Best Heuristic, dtype: int64\n",
      "7.4656064025775555\n",
      "5.468316521730148\n"
     ]
    }
   ],
   "source": [
    "for train_index, val_index in kf.split(X_other,y_other):\n",
    "    X_train = X_other.iloc[train_index]\n",
    "    y_train = y_other.iloc[train_index]\n",
    "    X_valid = X_other.iloc[val_index]\n",
    "    y_valid = y_other.iloc[val_index]\n",
    "    print(pd.value_counts(y_train))\n",
    "    X_train_prep = clf.fit_transform(X_train)\n",
    "    X_valid_prep = clf.transform(X_valid)\n",
    "    X_test_prep = clf.transform(X_test)\n",
    "    print(max(X_train_prep[:,10]))\n",
    "    print(max(X_test_prep[:,10]))"
   ]
  },
  {
   "cell_type": "code",
   "execution_count": null,
   "metadata": {},
   "outputs": [],
   "source": []
  }
 ],
 "metadata": {
  "kernelspec": {
   "display_name": "Python 3",
   "language": "python",
   "name": "python3"
  },
  "language_info": {
   "codemirror_mode": {
    "name": "ipython",
    "version": 3
   },
   "file_extension": ".py",
   "mimetype": "text/x-python",
   "name": "python",
   "nbconvert_exporter": "python",
   "pygments_lexer": "ipython3",
   "version": "3.7.8"
  }
 },
 "nbformat": 4,
 "nbformat_minor": 4
}
