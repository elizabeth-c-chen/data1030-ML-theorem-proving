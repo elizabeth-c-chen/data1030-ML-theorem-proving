{
 "cells": [
  {
   "cell_type": "code",
   "execution_count": 1,
   "id": "neither-riding",
   "metadata": {},
   "outputs": [],
   "source": [
    "import pandas as pd\n",
    "import numpy as np\n",
    "import pickle\n",
    "from sklearn.pipeline import  Pipeline\n",
    "from sklearn.model_selection import train_test_split, KFold, GridSearchCV\n",
    "from sklearn.preprocessing import StandardScaler\n",
    "from sklearn.metrics import f1_score,  precision_score, recall_score\n",
    "\n",
    "from skmultilearn.problem_transform import LabelPowerset\n",
    "\n",
    "from sklearn.dummy import DummyClassifier\n",
    "from sklearn.linear_model import LogisticRegression\n",
    "from sklearn.neighbors import KNeighborsClassifier\n",
    "from sklearn.svm import SVC\n",
    "from sklearn.ensemble import RandomForestClassifier\n",
    "from sklearn.multiclass import OneVsRestClassifier"
   ]
  },
  {
   "cell_type": "code",
   "execution_count": 2,
   "id": "virgin-raising",
   "metadata": {},
   "outputs": [
    {
     "name": "stdout",
     "output_type": "stream",
     "text": [
      "number of features: 51\n"
     ]
    }
   ],
   "source": [
    "features = pd.read_csv('../data/features_plus_descriptions.csv')\n",
    "features.set_index('Feature Type and Number', inplace=True)\n",
    "features.drop(['S5', 'D21'], axis=0, inplace=True)\n",
    "print('number of features:', len(features.index))"
   ]
  },
  {
   "cell_type": "code",
   "execution_count": 3,
   "id": "falling-transfer",
   "metadata": {},
   "outputs": [
    {
     "data": {
      "text/html": [
       "<div>\n",
       "<style scoped>\n",
       "    .dataframe tbody tr th:only-of-type {\n",
       "        vertical-align: middle;\n",
       "    }\n",
       "\n",
       "    .dataframe tbody tr th {\n",
       "        vertical-align: top;\n",
       "    }\n",
       "\n",
       "    .dataframe thead th {\n",
       "        text-align: right;\n",
       "    }\n",
       "</style>\n",
       "<table border=\"1\" class=\"dataframe\">\n",
       "  <thead>\n",
       "    <tr style=\"text-align: right;\">\n",
       "      <th></th>\n",
       "      <th>H0_Best</th>\n",
       "      <th>H1_Best</th>\n",
       "      <th>H2_Best</th>\n",
       "      <th>H3_Best</th>\n",
       "      <th>H4_Best</th>\n",
       "      <th>H5_Best</th>\n",
       "    </tr>\n",
       "  </thead>\n",
       "  <tbody>\n",
       "    <tr>\n",
       "      <th>0</th>\n",
       "      <td>1</td>\n",
       "      <td>0</td>\n",
       "      <td>0</td>\n",
       "      <td>0</td>\n",
       "      <td>0</td>\n",
       "      <td>0</td>\n",
       "    </tr>\n",
       "    <tr>\n",
       "      <th>1</th>\n",
       "      <td>0</td>\n",
       "      <td>1</td>\n",
       "      <td>1</td>\n",
       "      <td>0</td>\n",
       "      <td>1</td>\n",
       "      <td>1</td>\n",
       "    </tr>\n",
       "    <tr>\n",
       "      <th>2</th>\n",
       "      <td>1</td>\n",
       "      <td>0</td>\n",
       "      <td>0</td>\n",
       "      <td>0</td>\n",
       "      <td>0</td>\n",
       "      <td>0</td>\n",
       "    </tr>\n",
       "    <tr>\n",
       "      <th>3</th>\n",
       "      <td>1</td>\n",
       "      <td>0</td>\n",
       "      <td>0</td>\n",
       "      <td>0</td>\n",
       "      <td>0</td>\n",
       "      <td>0</td>\n",
       "    </tr>\n",
       "    <tr>\n",
       "      <th>4</th>\n",
       "      <td>1</td>\n",
       "      <td>0</td>\n",
       "      <td>0</td>\n",
       "      <td>0</td>\n",
       "      <td>0</td>\n",
       "      <td>0</td>\n",
       "    </tr>\n",
       "    <tr>\n",
       "      <th>5</th>\n",
       "      <td>1</td>\n",
       "      <td>0</td>\n",
       "      <td>0</td>\n",
       "      <td>0</td>\n",
       "      <td>0</td>\n",
       "      <td>0</td>\n",
       "    </tr>\n",
       "    <tr>\n",
       "      <th>6</th>\n",
       "      <td>1</td>\n",
       "      <td>0</td>\n",
       "      <td>0</td>\n",
       "      <td>0</td>\n",
       "      <td>0</td>\n",
       "      <td>0</td>\n",
       "    </tr>\n",
       "    <tr>\n",
       "      <th>7</th>\n",
       "      <td>1</td>\n",
       "      <td>0</td>\n",
       "      <td>0</td>\n",
       "      <td>0</td>\n",
       "      <td>0</td>\n",
       "      <td>0</td>\n",
       "    </tr>\n",
       "    <tr>\n",
       "      <th>8</th>\n",
       "      <td>1</td>\n",
       "      <td>0</td>\n",
       "      <td>0</td>\n",
       "      <td>0</td>\n",
       "      <td>0</td>\n",
       "      <td>0</td>\n",
       "    </tr>\n",
       "    <tr>\n",
       "      <th>9</th>\n",
       "      <td>1</td>\n",
       "      <td>0</td>\n",
       "      <td>0</td>\n",
       "      <td>0</td>\n",
       "      <td>0</td>\n",
       "      <td>0</td>\n",
       "    </tr>\n",
       "    <tr>\n",
       "      <th>10</th>\n",
       "      <td>1</td>\n",
       "      <td>0</td>\n",
       "      <td>0</td>\n",
       "      <td>0</td>\n",
       "      <td>0</td>\n",
       "      <td>0</td>\n",
       "    </tr>\n",
       "    <tr>\n",
       "      <th>11</th>\n",
       "      <td>0</td>\n",
       "      <td>1</td>\n",
       "      <td>1</td>\n",
       "      <td>0</td>\n",
       "      <td>1</td>\n",
       "      <td>1</td>\n",
       "    </tr>\n",
       "    <tr>\n",
       "      <th>12</th>\n",
       "      <td>0</td>\n",
       "      <td>1</td>\n",
       "      <td>1</td>\n",
       "      <td>0</td>\n",
       "      <td>1</td>\n",
       "      <td>1</td>\n",
       "    </tr>\n",
       "    <tr>\n",
       "      <th>13</th>\n",
       "      <td>0</td>\n",
       "      <td>0</td>\n",
       "      <td>0</td>\n",
       "      <td>1</td>\n",
       "      <td>0</td>\n",
       "      <td>0</td>\n",
       "    </tr>\n",
       "  </tbody>\n",
       "</table>\n",
       "</div>"
      ],
      "text/plain": [
       "    H0_Best  H1_Best  H2_Best  H3_Best  H4_Best  H5_Best\n",
       "0         1        0        0        0        0        0\n",
       "1         0        1        1        0        1        1\n",
       "2         1        0        0        0        0        0\n",
       "3         1        0        0        0        0        0\n",
       "4         1        0        0        0        0        0\n",
       "5         1        0        0        0        0        0\n",
       "6         1        0        0        0        0        0\n",
       "7         1        0        0        0        0        0\n",
       "8         1        0        0        0        0        0\n",
       "9         1        0        0        0        0        0\n",
       "10        1        0        0        0        0        0\n",
       "11        0        1        1        0        1        1\n",
       "12        0        1        1        0        1        1\n",
       "13        0        0        0        1        0        0"
      ]
     },
     "execution_count": 3,
     "metadata": {},
     "output_type": "execute_result"
    }
   ],
   "source": [
    "target = ['H0_Best','H1_Best', 'H2_Best', 'H3_Best', 'H4_Best', 'H5_Best']\n",
    "\n",
    "df = pd.read_csv('../data/multilabel_with_tol_raw_data.csv')\n",
    "X = df.loc[:, features.index]\n",
    "y = df[target]\n",
    "y[:14] # Display the target columns"
   ]
  },
  {
   "cell_type": "code",
   "execution_count": 4,
   "id": "further-updating",
   "metadata": {},
   "outputs": [],
   "source": [
    "def run_pipeline(X, y, param_grid):\n",
    "    test_scores = []\n",
    "    best_models = []\n",
    "    for i in range(10):\n",
    "        random_state = 431 * i\n",
    "        X_other, X_test, y_other, y_test = train_test_split(X, y, test_size = 0.2, random_state=random_state)\n",
    "        kf = KFold(n_splits=4, shuffle=True, random_state=random_state)\n",
    "        pipe = Pipeline([\n",
    "            (\"preprocessor\", StandardScaler()), \n",
    "            (\"clf\", LabelPowerset())\n",
    "        ])\n",
    "        grid = GridSearchCV(pipe, param_grid, scoring=\"f1_micro\", cv=kf, return_train_score=True, verbose=5, n_jobs=-1)   \n",
    "        grid.fit(X_other, y_other)\n",
    "        y_pred = grid.predict(X_test)\n",
    "        prec = precision_score(y_test, y_pred, average=\"micro\")\n",
    "        rec = recall_score(y_test, y_pred, average=\"micro\")\n",
    "        f1 = f1_score(y_test, y_pred, average=\"micro\")\n",
    "        print(\"Best Params: {} \\nBest CV Score: {}\".format(grid.best_params_, np.round(grid.best_score_, decimals=6)))\n",
    "        print(\"Precision:     {}\\nRecall:        {}\\nf1_micro:      {} \\n\".format(np.round(prec, decimals=6), np.round(rec, decimals=6),np.round(f1, decimals=6)))\n",
    "        test_scores.append(f1)\n",
    "        best_models.append(grid)\n",
    "    return test_scores, best_models\n",
    "\n",
    "def run_pipeline_and_save_test_sets(X, y, param_grid):\n",
    "    test_scores = []\n",
    "    best_models = []\n",
    "    for i in range(10):\n",
    "        random_state = 431 * i\n",
    "        X_other, X_test, y_other, y_test = train_test_split(X, y, test_size = 0.2, random_state=random_state)\n",
    "        kf = KFold(n_splits=4, shuffle=True, random_state=random_state)\n",
    "        pipe = Pipeline([\n",
    "            (\"preprocessor\", StandardScaler()), \n",
    "            (\"clf\", LabelPowerset())\n",
    "        ])\n",
    "        grid = GridSearchCV(pipe, param_grid, scoring=\"f1_micro\", cv=kf, return_train_score=True, verbose=5, n_jobs=-1)   \n",
    "        grid.fit(X_other, y_other)\n",
    "        y_pred = grid.predict(X_test)\n",
    "        prec = precision_score(y_test, y_pred, average=\"micro\")\n",
    "        rec = recall_score(y_test, y_pred, average=\"micro\")\n",
    "        f1 = f1_score(y_test, y_pred, average=\"micro\")\n",
    "        print(\"Best Params: {} \\nBest CV Score: {}\".format(grid.best_params_, np.round(grid.best_score_, decimals=6)))\n",
    "        print(\"Precision:     {}\\nRecall:        {}\\nf1_micro:      {} \\n\".format(np.round(prec, decimals=6), np.round(rec, decimals=6),np.round(f1, decimals=6)))\n",
    "        test_scores.append(f1)\n",
    "        best_models.append(grid)\n",
    "    return test_scores, best_models, X_test, y_test"
   ]
  },
  {
   "cell_type": "markdown",
   "id": "backed-shift",
   "metadata": {},
   "source": [
    "## Dummy Classifier (Baseline Test Score)"
   ]
  },
  {
   "cell_type": "code",
   "execution_count": 6,
   "id": "facial-customer",
   "metadata": {
    "scrolled": true
   },
   "outputs": [
    {
     "name": "stdout",
     "output_type": "stream",
     "text": [
      "Fitting 4 folds for each of 4 candidates, totalling 16 fits\n",
      "Best Params: {'clf': DummyClassifier(strategy='uniform'), 'clf__strategy': 'uniform'} \n",
      "Best CV Score: 0.351148\n",
      "Precision:     0.260165\n",
      "Recall:        0.488144\n",
      "f1_micro:      0.339427 \n",
      "\n",
      "Fitting 4 folds for each of 4 candidates, totalling 16 fits\n",
      "Best Params: {'clf': DummyClassifier(strategy='uniform'), 'clf__strategy': 'uniform'} \n",
      "Best CV Score: 0.348368\n",
      "Precision:     0.272381\n",
      "Recall:        0.505556\n",
      "f1_micro:      0.354023 \n",
      "\n",
      "Fitting 4 folds for each of 4 candidates, totalling 16 fits\n",
      "Best Params: {'clf': DummyClassifier(strategy='uniform'), 'clf__strategy': 'uniform'} \n",
      "Best CV Score: 0.343813\n",
      "Precision:     0.256094\n",
      "Recall:        0.486979\n",
      "f1_micro:      0.335667 \n",
      "\n",
      "Fitting 4 folds for each of 4 candidates, totalling 16 fits\n",
      "Best Params: {'clf': DummyClassifier(strategy='uniform'), 'clf__strategy': 'uniform'} \n",
      "Best CV Score: 0.346196\n",
      "Precision:     0.265616\n",
      "Recall:        0.490807\n",
      "f1_micro:      0.344692 \n",
      "\n",
      "Fitting 4 folds for each of 4 candidates, totalling 16 fits\n",
      "Best Params: {'clf': DummyClassifier(strategy='uniform'), 'clf__strategy': 'uniform'} \n",
      "Best CV Score: 0.346243\n",
      "Precision:     0.271409\n",
      "Recall:        0.498743\n",
      "f1_micro:      0.351524 \n",
      "\n",
      "Fitting 4 folds for each of 4 candidates, totalling 16 fits\n",
      "Best Params: {'clf': DummyClassifier(strategy='uniform'), 'clf__strategy': 'uniform'} \n",
      "Best CV Score: 0.352682\n",
      "Precision:     0.266416\n",
      "Recall:        0.517782\n",
      "f1_micro:      0.351812 \n",
      "\n",
      "Fitting 4 folds for each of 4 candidates, totalling 16 fits\n",
      "Best Params: {'clf': DummyClassifier(strategy='uniform'), 'clf__strategy': 'uniform'} \n",
      "Best CV Score: 0.345785\n",
      "Precision:     0.249455\n",
      "Recall:        0.48084\n",
      "f1_micro:      0.328492 \n",
      "\n",
      "Fitting 4 folds for each of 4 candidates, totalling 16 fits\n",
      "Best Params: {'clf': DummyClassifier(strategy='uniform'), 'clf__strategy': 'uniform'} \n",
      "Best CV Score: 0.347665\n",
      "Precision:     0.273521\n",
      "Recall:        0.502757\n",
      "f1_micro:      0.354292 \n",
      "\n",
      "Fitting 4 folds for each of 4 candidates, totalling 16 fits\n",
      "Best Params: {'clf': DummyClassifier(strategy='uniform'), 'clf__strategy': 'uniform'} \n",
      "Best CV Score: 0.346909\n",
      "Precision:     0.263915\n",
      "Recall:        0.494405\n",
      "f1_micro:      0.344132 \n",
      "\n",
      "Fitting 4 folds for each of 4 candidates, totalling 16 fits\n",
      "Best Params: {'clf': DummyClassifier(strategy='uniform'), 'clf__strategy': 'uniform'} \n",
      "Best CV Score: 0.350358\n",
      "Precision:     0.263501\n",
      "Recall:        0.504154\n",
      "f1_micro:      0.346106 \n",
      "\n",
      "best test score for DummyClassifier: 0.35429176969268805\n",
      "best params for DummyClassifier: {'clf': DummyClassifier(strategy='uniform'), 'clf__strategy': 'uniform'}\n"
     ]
    }
   ],
   "source": [
    "param_grid = { 'clf': [DummyClassifier()],\n",
    "               'clf__strategy': [\"stratified\", \"most_frequent\", \"prior\", \"uniform\"]}\n",
    "test_scores_dummy, best_models_dummy = run_pipeline(X, y, param_grid)\n",
    "amax = np.argmax(test_scores_dummy)\n",
    "print('best test score for DummyClassifier:', test_scores_dummy[amax])\n",
    "print('best params for DummyClassifier:', best_models_dummy[amax].best_params_)"
   ]
  },
  {
   "cell_type": "code",
   "execution_count": 7,
   "id": "august-remove",
   "metadata": {},
   "outputs": [
    {
     "name": "stdout",
     "output_type": "stream",
     "text": [
      "mean test score for Dummy Classifier: 0.34501653605875554\n",
      "stdev of test score for Dummy Classifier: 0.008058988294839793\n"
     ]
    }
   ],
   "source": [
    "print('mean test score for Dummy Classifier:', np.mean(test_scores_dummy) )\n",
    "print('stdev of test score for Dummy Classifier:', np.std(test_scores_dummy))"
   ]
  },
  {
   "cell_type": "markdown",
   "id": "selective-caution",
   "metadata": {},
   "source": [
    "## Random Forest Classifier"
   ]
  },
  {
   "cell_type": "code",
   "execution_count": 8,
   "id": "polyphonic-product",
   "metadata": {},
   "outputs": [
    {
     "name": "stdout",
     "output_type": "stream",
     "text": [
      "Fitting 4 folds for each of 48 candidates, totalling 192 fits\n"
     ]
    },
    {
     "name": "stderr",
     "output_type": "stream",
     "text": [
      "Exception in thread Thread-4:\n",
      "Traceback (most recent call last):\n",
      "  File \"/Users/elizabeth/miniconda3/envs/data1030/lib/python3.7/threading.py\", line 926, in _bootstrap_inner\n",
      "    self.run()\n",
      "  File \"/Users/elizabeth/miniconda3/envs/data1030/lib/python3.7/site-packages/joblib/externals/loky/process_executor.py\", line 567, in run\n",
      "    self.flag_executor_shutting_down()\n",
      "  File \"/Users/elizabeth/miniconda3/envs/data1030/lib/python3.7/site-packages/joblib/externals/loky/process_executor.py\", line 756, in flag_executor_shutting_down\n",
      "    self.kill_workers()\n",
      "  File \"/Users/elizabeth/miniconda3/envs/data1030/lib/python3.7/site-packages/joblib/externals/loky/process_executor.py\", line 766, in kill_workers\n",
      "    recursive_terminate(p)\n",
      "  File \"/Users/elizabeth/miniconda3/envs/data1030/lib/python3.7/site-packages/joblib/externals/loky/backend/utils.py\", line 28, in recursive_terminate\n",
      "    _recursive_terminate_without_psutil(process)\n",
      "  File \"/Users/elizabeth/miniconda3/envs/data1030/lib/python3.7/site-packages/joblib/externals/loky/backend/utils.py\", line 53, in _recursive_terminate_without_psutil\n",
      "    _recursive_terminate(process.pid)\n",
      "  File \"/Users/elizabeth/miniconda3/envs/data1030/lib/python3.7/site-packages/joblib/externals/loky/backend/utils.py\", line 94, in _recursive_terminate\n",
      "    stderr=None\n",
      "  File \"/Users/elizabeth/miniconda3/envs/data1030/lib/python3.7/subprocess.py\", line 411, in check_output\n",
      "    **kwargs).stdout\n",
      "  File \"/Users/elizabeth/miniconda3/envs/data1030/lib/python3.7/subprocess.py\", line 512, in run\n",
      "    output=stdout, stderr=stderr)\n",
      "subprocess.CalledProcessError: Command '['pgrep', '-P', '30703']' died with <Signals.SIGINT: 2>.\n",
      "\n"
     ]
    },
    {
     "ename": "KeyboardInterrupt",
     "evalue": "",
     "output_type": "error",
     "traceback": [
      "\u001b[0;31m---------------------------------------------------------------------------\u001b[0m",
      "\u001b[0;31mKeyboardInterrupt\u001b[0m                         Traceback (most recent call last)",
      "\u001b[0;32m~/miniconda3/envs/data1030/lib/python3.7/site-packages/joblib/parallel.py\u001b[0m in \u001b[0;36mretrieve\u001b[0;34m(self)\u001b[0m\n\u001b[1;32m    932\u001b[0m                 \u001b[0;32mif\u001b[0m \u001b[0mgetattr\u001b[0m\u001b[0;34m(\u001b[0m\u001b[0mself\u001b[0m\u001b[0;34m.\u001b[0m\u001b[0m_backend\u001b[0m\u001b[0;34m,\u001b[0m \u001b[0;34m'supports_timeout'\u001b[0m\u001b[0;34m,\u001b[0m \u001b[0;32mFalse\u001b[0m\u001b[0;34m)\u001b[0m\u001b[0;34m:\u001b[0m\u001b[0;34m\u001b[0m\u001b[0;34m\u001b[0m\u001b[0m\n\u001b[0;32m--> 933\u001b[0;31m                     \u001b[0mself\u001b[0m\u001b[0;34m.\u001b[0m\u001b[0m_output\u001b[0m\u001b[0;34m.\u001b[0m\u001b[0mextend\u001b[0m\u001b[0;34m(\u001b[0m\u001b[0mjob\u001b[0m\u001b[0;34m.\u001b[0m\u001b[0mget\u001b[0m\u001b[0;34m(\u001b[0m\u001b[0mtimeout\u001b[0m\u001b[0;34m=\u001b[0m\u001b[0mself\u001b[0m\u001b[0;34m.\u001b[0m\u001b[0mtimeout\u001b[0m\u001b[0;34m)\u001b[0m\u001b[0;34m)\u001b[0m\u001b[0;34m\u001b[0m\u001b[0;34m\u001b[0m\u001b[0m\n\u001b[0m\u001b[1;32m    934\u001b[0m                 \u001b[0;32melse\u001b[0m\u001b[0;34m:\u001b[0m\u001b[0;34m\u001b[0m\u001b[0;34m\u001b[0m\u001b[0m\n",
      "\u001b[0;32m~/miniconda3/envs/data1030/lib/python3.7/site-packages/joblib/_parallel_backends.py\u001b[0m in \u001b[0;36mwrap_future_result\u001b[0;34m(future, timeout)\u001b[0m\n\u001b[1;32m    541\u001b[0m         \u001b[0;32mtry\u001b[0m\u001b[0;34m:\u001b[0m\u001b[0;34m\u001b[0m\u001b[0;34m\u001b[0m\u001b[0m\n\u001b[0;32m--> 542\u001b[0;31m             \u001b[0;32mreturn\u001b[0m \u001b[0mfuture\u001b[0m\u001b[0;34m.\u001b[0m\u001b[0mresult\u001b[0m\u001b[0;34m(\u001b[0m\u001b[0mtimeout\u001b[0m\u001b[0;34m=\u001b[0m\u001b[0mtimeout\u001b[0m\u001b[0;34m)\u001b[0m\u001b[0;34m\u001b[0m\u001b[0;34m\u001b[0m\u001b[0m\n\u001b[0m\u001b[1;32m    543\u001b[0m         \u001b[0;32mexcept\u001b[0m \u001b[0mCfTimeoutError\u001b[0m \u001b[0;32mas\u001b[0m \u001b[0me\u001b[0m\u001b[0;34m:\u001b[0m\u001b[0;34m\u001b[0m\u001b[0;34m\u001b[0m\u001b[0m\n",
      "\u001b[0;32m~/miniconda3/envs/data1030/lib/python3.7/concurrent/futures/_base.py\u001b[0m in \u001b[0;36mresult\u001b[0;34m(self, timeout)\u001b[0m\n\u001b[1;32m    429\u001b[0m \u001b[0;34m\u001b[0m\u001b[0m\n\u001b[0;32m--> 430\u001b[0;31m             \u001b[0mself\u001b[0m\u001b[0;34m.\u001b[0m\u001b[0m_condition\u001b[0m\u001b[0;34m.\u001b[0m\u001b[0mwait\u001b[0m\u001b[0;34m(\u001b[0m\u001b[0mtimeout\u001b[0m\u001b[0;34m)\u001b[0m\u001b[0;34m\u001b[0m\u001b[0;34m\u001b[0m\u001b[0m\n\u001b[0m\u001b[1;32m    431\u001b[0m \u001b[0;34m\u001b[0m\u001b[0m\n",
      "\u001b[0;32m~/miniconda3/envs/data1030/lib/python3.7/threading.py\u001b[0m in \u001b[0;36mwait\u001b[0;34m(self, timeout)\u001b[0m\n\u001b[1;32m    295\u001b[0m             \u001b[0;32mif\u001b[0m \u001b[0mtimeout\u001b[0m \u001b[0;32mis\u001b[0m \u001b[0;32mNone\u001b[0m\u001b[0;34m:\u001b[0m\u001b[0;34m\u001b[0m\u001b[0;34m\u001b[0m\u001b[0m\n\u001b[0;32m--> 296\u001b[0;31m                 \u001b[0mwaiter\u001b[0m\u001b[0;34m.\u001b[0m\u001b[0macquire\u001b[0m\u001b[0;34m(\u001b[0m\u001b[0;34m)\u001b[0m\u001b[0;34m\u001b[0m\u001b[0;34m\u001b[0m\u001b[0m\n\u001b[0m\u001b[1;32m    297\u001b[0m                 \u001b[0mgotit\u001b[0m \u001b[0;34m=\u001b[0m \u001b[0;32mTrue\u001b[0m\u001b[0;34m\u001b[0m\u001b[0;34m\u001b[0m\u001b[0m\n",
      "\u001b[0;31mKeyboardInterrupt\u001b[0m: ",
      "\nDuring handling of the above exception, another exception occurred:\n",
      "\u001b[0;31mKeyboardInterrupt\u001b[0m                         Traceback (most recent call last)",
      "\u001b[0;32m<ipython-input-8-2dfb3cb5ad60>\u001b[0m in \u001b[0;36m<module>\u001b[0;34m\u001b[0m\n\u001b[1;32m      3\u001b[0m                 'clf__max_features': [15, 20, 25, 30, 35, 40, 45, 51]} \n\u001b[1;32m      4\u001b[0m \u001b[0;34m\u001b[0m\u001b[0m\n\u001b[0;32m----> 5\u001b[0;31m \u001b[0mtest_scores_RF\u001b[0m\u001b[0;34m,\u001b[0m \u001b[0mbest_models_RF\u001b[0m\u001b[0;34m,\u001b[0m \u001b[0mX_test\u001b[0m\u001b[0;34m,\u001b[0m \u001b[0my_test\u001b[0m \u001b[0;34m=\u001b[0m \u001b[0mrun_pipeline_and_save\u001b[0m\u001b[0;34m(\u001b[0m\u001b[0mX\u001b[0m\u001b[0;34m,\u001b[0m \u001b[0my\u001b[0m\u001b[0;34m,\u001b[0m \u001b[0mparam_grid\u001b[0m\u001b[0;34m)\u001b[0m\u001b[0;34m\u001b[0m\u001b[0;34m\u001b[0m\u001b[0m\n\u001b[0m",
      "\u001b[0;32m<ipython-input-5-103f7dbd1b63>\u001b[0m in \u001b[0;36mrun_pipeline_and_save\u001b[0;34m(X, y, param_grid)\u001b[0m\n\u001b[1;32m     11\u001b[0m         ])\n\u001b[1;32m     12\u001b[0m         \u001b[0mgrid\u001b[0m \u001b[0;34m=\u001b[0m \u001b[0mGridSearchCV\u001b[0m\u001b[0;34m(\u001b[0m\u001b[0mpipe\u001b[0m\u001b[0;34m,\u001b[0m \u001b[0mparam_grid\u001b[0m\u001b[0;34m,\u001b[0m \u001b[0mscoring\u001b[0m\u001b[0;34m=\u001b[0m\u001b[0;34m\"f1_micro\"\u001b[0m\u001b[0;34m,\u001b[0m \u001b[0mcv\u001b[0m\u001b[0;34m=\u001b[0m\u001b[0mkf\u001b[0m\u001b[0;34m,\u001b[0m \u001b[0mreturn_train_score\u001b[0m\u001b[0;34m=\u001b[0m\u001b[0;32mTrue\u001b[0m\u001b[0;34m,\u001b[0m \u001b[0mverbose\u001b[0m\u001b[0;34m=\u001b[0m\u001b[0;36m5\u001b[0m\u001b[0;34m,\u001b[0m \u001b[0mn_jobs\u001b[0m\u001b[0;34m=\u001b[0m\u001b[0;34m-\u001b[0m\u001b[0;36m1\u001b[0m\u001b[0;34m)\u001b[0m\u001b[0;34m\u001b[0m\u001b[0;34m\u001b[0m\u001b[0m\n\u001b[0;32m---> 13\u001b[0;31m         \u001b[0mgrid\u001b[0m\u001b[0;34m.\u001b[0m\u001b[0mfit\u001b[0m\u001b[0;34m(\u001b[0m\u001b[0mX_other\u001b[0m\u001b[0;34m,\u001b[0m \u001b[0my_other\u001b[0m\u001b[0;34m)\u001b[0m\u001b[0;34m\u001b[0m\u001b[0;34m\u001b[0m\u001b[0m\n\u001b[0m\u001b[1;32m     14\u001b[0m         \u001b[0my_pred\u001b[0m \u001b[0;34m=\u001b[0m \u001b[0mgrid\u001b[0m\u001b[0;34m.\u001b[0m\u001b[0mpredict\u001b[0m\u001b[0;34m(\u001b[0m\u001b[0mX_test\u001b[0m\u001b[0;34m)\u001b[0m\u001b[0;34m\u001b[0m\u001b[0;34m\u001b[0m\u001b[0m\n\u001b[1;32m     15\u001b[0m         \u001b[0mprec\u001b[0m \u001b[0;34m=\u001b[0m \u001b[0mprecision_score\u001b[0m\u001b[0;34m(\u001b[0m\u001b[0my_test\u001b[0m\u001b[0;34m,\u001b[0m \u001b[0my_pred\u001b[0m\u001b[0;34m,\u001b[0m \u001b[0maverage\u001b[0m\u001b[0;34m=\u001b[0m\u001b[0;34m\"micro\"\u001b[0m\u001b[0;34m)\u001b[0m\u001b[0;34m\u001b[0m\u001b[0;34m\u001b[0m\u001b[0m\n",
      "\u001b[0;32m~/miniconda3/envs/data1030/lib/python3.7/site-packages/sklearn/utils/validation.py\u001b[0m in \u001b[0;36minner_f\u001b[0;34m(*args, **kwargs)\u001b[0m\n\u001b[1;32m     61\u001b[0m             \u001b[0mextra_args\u001b[0m \u001b[0;34m=\u001b[0m \u001b[0mlen\u001b[0m\u001b[0;34m(\u001b[0m\u001b[0margs\u001b[0m\u001b[0;34m)\u001b[0m \u001b[0;34m-\u001b[0m \u001b[0mlen\u001b[0m\u001b[0;34m(\u001b[0m\u001b[0mall_args\u001b[0m\u001b[0;34m)\u001b[0m\u001b[0;34m\u001b[0m\u001b[0;34m\u001b[0m\u001b[0m\n\u001b[1;32m     62\u001b[0m             \u001b[0;32mif\u001b[0m \u001b[0mextra_args\u001b[0m \u001b[0;34m<=\u001b[0m \u001b[0;36m0\u001b[0m\u001b[0;34m:\u001b[0m\u001b[0;34m\u001b[0m\u001b[0;34m\u001b[0m\u001b[0m\n\u001b[0;32m---> 63\u001b[0;31m                 \u001b[0;32mreturn\u001b[0m \u001b[0mf\u001b[0m\u001b[0;34m(\u001b[0m\u001b[0;34m*\u001b[0m\u001b[0margs\u001b[0m\u001b[0;34m,\u001b[0m \u001b[0;34m**\u001b[0m\u001b[0mkwargs\u001b[0m\u001b[0;34m)\u001b[0m\u001b[0;34m\u001b[0m\u001b[0;34m\u001b[0m\u001b[0m\n\u001b[0m\u001b[1;32m     64\u001b[0m \u001b[0;34m\u001b[0m\u001b[0m\n\u001b[1;32m     65\u001b[0m             \u001b[0;31m# extra_args > 0\u001b[0m\u001b[0;34m\u001b[0m\u001b[0;34m\u001b[0m\u001b[0;34m\u001b[0m\u001b[0m\n",
      "\u001b[0;32m~/miniconda3/envs/data1030/lib/python3.7/site-packages/sklearn/model_selection/_search.py\u001b[0m in \u001b[0;36mfit\u001b[0;34m(self, X, y, groups, **fit_params)\u001b[0m\n\u001b[1;32m    839\u001b[0m                 \u001b[0;32mreturn\u001b[0m \u001b[0mresults\u001b[0m\u001b[0;34m\u001b[0m\u001b[0;34m\u001b[0m\u001b[0m\n\u001b[1;32m    840\u001b[0m \u001b[0;34m\u001b[0m\u001b[0m\n\u001b[0;32m--> 841\u001b[0;31m             \u001b[0mself\u001b[0m\u001b[0;34m.\u001b[0m\u001b[0m_run_search\u001b[0m\u001b[0;34m(\u001b[0m\u001b[0mevaluate_candidates\u001b[0m\u001b[0;34m)\u001b[0m\u001b[0;34m\u001b[0m\u001b[0;34m\u001b[0m\u001b[0m\n\u001b[0m\u001b[1;32m    842\u001b[0m \u001b[0;34m\u001b[0m\u001b[0m\n\u001b[1;32m    843\u001b[0m             \u001b[0;31m# multimetric is determined here because in the case of a callable\u001b[0m\u001b[0;34m\u001b[0m\u001b[0;34m\u001b[0m\u001b[0;34m\u001b[0m\u001b[0m\n",
      "\u001b[0;32m~/miniconda3/envs/data1030/lib/python3.7/site-packages/sklearn/model_selection/_search.py\u001b[0m in \u001b[0;36m_run_search\u001b[0;34m(self, evaluate_candidates)\u001b[0m\n\u001b[1;32m   1286\u001b[0m     \u001b[0;32mdef\u001b[0m \u001b[0m_run_search\u001b[0m\u001b[0;34m(\u001b[0m\u001b[0mself\u001b[0m\u001b[0;34m,\u001b[0m \u001b[0mevaluate_candidates\u001b[0m\u001b[0;34m)\u001b[0m\u001b[0;34m:\u001b[0m\u001b[0;34m\u001b[0m\u001b[0;34m\u001b[0m\u001b[0m\n\u001b[1;32m   1287\u001b[0m         \u001b[0;34m\"\"\"Search all candidates in param_grid\"\"\"\u001b[0m\u001b[0;34m\u001b[0m\u001b[0;34m\u001b[0m\u001b[0m\n\u001b[0;32m-> 1288\u001b[0;31m         \u001b[0mevaluate_candidates\u001b[0m\u001b[0;34m(\u001b[0m\u001b[0mParameterGrid\u001b[0m\u001b[0;34m(\u001b[0m\u001b[0mself\u001b[0m\u001b[0;34m.\u001b[0m\u001b[0mparam_grid\u001b[0m\u001b[0;34m)\u001b[0m\u001b[0;34m)\u001b[0m\u001b[0;34m\u001b[0m\u001b[0;34m\u001b[0m\u001b[0m\n\u001b[0m\u001b[1;32m   1289\u001b[0m \u001b[0;34m\u001b[0m\u001b[0m\n\u001b[1;32m   1290\u001b[0m \u001b[0;34m\u001b[0m\u001b[0m\n",
      "\u001b[0;32m~/miniconda3/envs/data1030/lib/python3.7/site-packages/sklearn/model_selection/_search.py\u001b[0m in \u001b[0;36mevaluate_candidates\u001b[0;34m(candidate_params, cv, more_results)\u001b[0m\n\u001b[1;32m    807\u001b[0m                                    (split_idx, (train, test)) in product(\n\u001b[1;32m    808\u001b[0m                                    \u001b[0menumerate\u001b[0m\u001b[0;34m(\u001b[0m\u001b[0mcandidate_params\u001b[0m\u001b[0;34m)\u001b[0m\u001b[0;34m,\u001b[0m\u001b[0;34m\u001b[0m\u001b[0;34m\u001b[0m\u001b[0m\n\u001b[0;32m--> 809\u001b[0;31m                                    enumerate(cv.split(X, y, groups))))\n\u001b[0m\u001b[1;32m    810\u001b[0m \u001b[0;34m\u001b[0m\u001b[0m\n\u001b[1;32m    811\u001b[0m                 \u001b[0;32mif\u001b[0m \u001b[0mlen\u001b[0m\u001b[0;34m(\u001b[0m\u001b[0mout\u001b[0m\u001b[0;34m)\u001b[0m \u001b[0;34m<\u001b[0m \u001b[0;36m1\u001b[0m\u001b[0;34m:\u001b[0m\u001b[0;34m\u001b[0m\u001b[0;34m\u001b[0m\u001b[0m\n",
      "\u001b[0;32m~/miniconda3/envs/data1030/lib/python3.7/site-packages/joblib/parallel.py\u001b[0m in \u001b[0;36m__call__\u001b[0;34m(self, iterable)\u001b[0m\n\u001b[1;32m   1052\u001b[0m \u001b[0;34m\u001b[0m\u001b[0m\n\u001b[1;32m   1053\u001b[0m             \u001b[0;32mwith\u001b[0m \u001b[0mself\u001b[0m\u001b[0;34m.\u001b[0m\u001b[0m_backend\u001b[0m\u001b[0;34m.\u001b[0m\u001b[0mretrieval_context\u001b[0m\u001b[0;34m(\u001b[0m\u001b[0;34m)\u001b[0m\u001b[0;34m:\u001b[0m\u001b[0;34m\u001b[0m\u001b[0;34m\u001b[0m\u001b[0m\n\u001b[0;32m-> 1054\u001b[0;31m                 \u001b[0mself\u001b[0m\u001b[0;34m.\u001b[0m\u001b[0mretrieve\u001b[0m\u001b[0;34m(\u001b[0m\u001b[0;34m)\u001b[0m\u001b[0;34m\u001b[0m\u001b[0;34m\u001b[0m\u001b[0m\n\u001b[0m\u001b[1;32m   1055\u001b[0m             \u001b[0;31m# Make sure that we get a last message telling us we are done\u001b[0m\u001b[0;34m\u001b[0m\u001b[0;34m\u001b[0m\u001b[0;34m\u001b[0m\u001b[0m\n\u001b[1;32m   1056\u001b[0m             \u001b[0melapsed_time\u001b[0m \u001b[0;34m=\u001b[0m \u001b[0mtime\u001b[0m\u001b[0;34m.\u001b[0m\u001b[0mtime\u001b[0m\u001b[0;34m(\u001b[0m\u001b[0;34m)\u001b[0m \u001b[0;34m-\u001b[0m \u001b[0mself\u001b[0m\u001b[0;34m.\u001b[0m\u001b[0m_start_time\u001b[0m\u001b[0;34m\u001b[0m\u001b[0;34m\u001b[0m\u001b[0m\n",
      "\u001b[0;32m~/miniconda3/envs/data1030/lib/python3.7/site-packages/joblib/parallel.py\u001b[0m in \u001b[0;36mretrieve\u001b[0;34m(self)\u001b[0m\n\u001b[1;32m    953\u001b[0m                     \u001b[0;31m# scheduling.\u001b[0m\u001b[0;34m\u001b[0m\u001b[0;34m\u001b[0m\u001b[0;34m\u001b[0m\u001b[0m\n\u001b[1;32m    954\u001b[0m                     \u001b[0mensure_ready\u001b[0m \u001b[0;34m=\u001b[0m \u001b[0mself\u001b[0m\u001b[0;34m.\u001b[0m\u001b[0m_managed_backend\u001b[0m\u001b[0;34m\u001b[0m\u001b[0;34m\u001b[0m\u001b[0m\n\u001b[0;32m--> 955\u001b[0;31m                     \u001b[0mbackend\u001b[0m\u001b[0;34m.\u001b[0m\u001b[0mabort_everything\u001b[0m\u001b[0;34m(\u001b[0m\u001b[0mensure_ready\u001b[0m\u001b[0;34m=\u001b[0m\u001b[0mensure_ready\u001b[0m\u001b[0;34m)\u001b[0m\u001b[0;34m\u001b[0m\u001b[0;34m\u001b[0m\u001b[0m\n\u001b[0m\u001b[1;32m    956\u001b[0m                 \u001b[0;32mraise\u001b[0m\u001b[0;34m\u001b[0m\u001b[0;34m\u001b[0m\u001b[0m\n\u001b[1;32m    957\u001b[0m \u001b[0;34m\u001b[0m\u001b[0m\n",
      "\u001b[0;32m~/miniconda3/envs/data1030/lib/python3.7/site-packages/joblib/_parallel_backends.py\u001b[0m in \u001b[0;36mabort_everything\u001b[0;34m(self, ensure_ready)\u001b[0m\n\u001b[1;32m    559\u001b[0m         \"\"\"Shutdown the workers and restart a new one with the same parameters\n\u001b[1;32m    560\u001b[0m         \"\"\"\n\u001b[0;32m--> 561\u001b[0;31m         \u001b[0mself\u001b[0m\u001b[0;34m.\u001b[0m\u001b[0m_workers\u001b[0m\u001b[0;34m.\u001b[0m\u001b[0mterminate\u001b[0m\u001b[0;34m(\u001b[0m\u001b[0mkill_workers\u001b[0m\u001b[0;34m=\u001b[0m\u001b[0;32mTrue\u001b[0m\u001b[0;34m)\u001b[0m\u001b[0;34m\u001b[0m\u001b[0;34m\u001b[0m\u001b[0m\n\u001b[0m\u001b[1;32m    562\u001b[0m         \u001b[0mself\u001b[0m\u001b[0;34m.\u001b[0m\u001b[0m_workers\u001b[0m \u001b[0;34m=\u001b[0m \u001b[0;32mNone\u001b[0m\u001b[0;34m\u001b[0m\u001b[0;34m\u001b[0m\u001b[0m\n\u001b[1;32m    563\u001b[0m \u001b[0;34m\u001b[0m\u001b[0m\n",
      "\u001b[0;32m~/miniconda3/envs/data1030/lib/python3.7/site-packages/joblib/executor.py\u001b[0m in \u001b[0;36mterminate\u001b[0;34m(self, kill_workers)\u001b[0m\n\u001b[1;32m     72\u001b[0m \u001b[0;34m\u001b[0m\u001b[0m\n\u001b[1;32m     73\u001b[0m     \u001b[0;32mdef\u001b[0m \u001b[0mterminate\u001b[0m\u001b[0;34m(\u001b[0m\u001b[0mself\u001b[0m\u001b[0;34m,\u001b[0m \u001b[0mkill_workers\u001b[0m\u001b[0;34m=\u001b[0m\u001b[0;32mFalse\u001b[0m\u001b[0;34m)\u001b[0m\u001b[0;34m:\u001b[0m\u001b[0;34m\u001b[0m\u001b[0;34m\u001b[0m\u001b[0m\n\u001b[0;32m---> 74\u001b[0;31m         \u001b[0mself\u001b[0m\u001b[0;34m.\u001b[0m\u001b[0mshutdown\u001b[0m\u001b[0;34m(\u001b[0m\u001b[0mkill_workers\u001b[0m\u001b[0;34m=\u001b[0m\u001b[0mkill_workers\u001b[0m\u001b[0;34m)\u001b[0m\u001b[0;34m\u001b[0m\u001b[0;34m\u001b[0m\u001b[0m\n\u001b[0m\u001b[1;32m     75\u001b[0m         \u001b[0;32mif\u001b[0m \u001b[0mkill_workers\u001b[0m\u001b[0;34m:\u001b[0m\u001b[0;34m\u001b[0m\u001b[0;34m\u001b[0m\u001b[0m\n\u001b[1;32m     76\u001b[0m             \u001b[0;31m# When workers are killed in such a brutal manner, they cannot\u001b[0m\u001b[0;34m\u001b[0m\u001b[0;34m\u001b[0m\u001b[0;34m\u001b[0m\u001b[0m\n",
      "\u001b[0;32m~/miniconda3/envs/data1030/lib/python3.7/site-packages/joblib/externals/loky/process_executor.py\u001b[0m in \u001b[0;36mshutdown\u001b[0;34m(self, wait, kill_workers)\u001b[0m\n\u001b[1;32m   1169\u001b[0m \u001b[0;34m\u001b[0m\u001b[0m\n\u001b[1;32m   1170\u001b[0m         \u001b[0;32mif\u001b[0m \u001b[0mexecutor_manager_thread\u001b[0m \u001b[0;32mis\u001b[0m \u001b[0;32mnot\u001b[0m \u001b[0;32mNone\u001b[0m \u001b[0;32mand\u001b[0m \u001b[0mwait\u001b[0m\u001b[0;34m:\u001b[0m\u001b[0;34m\u001b[0m\u001b[0;34m\u001b[0m\u001b[0m\n\u001b[0;32m-> 1171\u001b[0;31m             \u001b[0mexecutor_manager_thread\u001b[0m\u001b[0;34m.\u001b[0m\u001b[0mjoin\u001b[0m\u001b[0;34m(\u001b[0m\u001b[0;34m)\u001b[0m\u001b[0;34m\u001b[0m\u001b[0;34m\u001b[0m\u001b[0m\n\u001b[0m\u001b[1;32m   1172\u001b[0m \u001b[0;34m\u001b[0m\u001b[0m\n\u001b[1;32m   1173\u001b[0m         \u001b[0;31m# To reduce the risk of opening too many files, remove references to\u001b[0m\u001b[0;34m\u001b[0m\u001b[0;34m\u001b[0m\u001b[0;34m\u001b[0m\u001b[0m\n",
      "\u001b[0;32m~/miniconda3/envs/data1030/lib/python3.7/threading.py\u001b[0m in \u001b[0;36mjoin\u001b[0;34m(self, timeout)\u001b[0m\n\u001b[1;32m   1042\u001b[0m \u001b[0;34m\u001b[0m\u001b[0m\n\u001b[1;32m   1043\u001b[0m         \u001b[0;32mif\u001b[0m \u001b[0mtimeout\u001b[0m \u001b[0;32mis\u001b[0m \u001b[0;32mNone\u001b[0m\u001b[0;34m:\u001b[0m\u001b[0;34m\u001b[0m\u001b[0;34m\u001b[0m\u001b[0m\n\u001b[0;32m-> 1044\u001b[0;31m             \u001b[0mself\u001b[0m\u001b[0;34m.\u001b[0m\u001b[0m_wait_for_tstate_lock\u001b[0m\u001b[0;34m(\u001b[0m\u001b[0;34m)\u001b[0m\u001b[0;34m\u001b[0m\u001b[0;34m\u001b[0m\u001b[0m\n\u001b[0m\u001b[1;32m   1045\u001b[0m         \u001b[0;32melse\u001b[0m\u001b[0;34m:\u001b[0m\u001b[0;34m\u001b[0m\u001b[0;34m\u001b[0m\u001b[0m\n\u001b[1;32m   1046\u001b[0m             \u001b[0;31m# the behavior of a negative timeout isn't documented, but\u001b[0m\u001b[0;34m\u001b[0m\u001b[0;34m\u001b[0m\u001b[0;34m\u001b[0m\u001b[0m\n",
      "\u001b[0;32m~/miniconda3/envs/data1030/lib/python3.7/threading.py\u001b[0m in \u001b[0;36m_wait_for_tstate_lock\u001b[0;34m(self, block, timeout)\u001b[0m\n\u001b[1;32m   1058\u001b[0m         \u001b[0;32mif\u001b[0m \u001b[0mlock\u001b[0m \u001b[0;32mis\u001b[0m \u001b[0;32mNone\u001b[0m\u001b[0;34m:\u001b[0m  \u001b[0;31m# already determined that the C code is done\u001b[0m\u001b[0;34m\u001b[0m\u001b[0;34m\u001b[0m\u001b[0m\n\u001b[1;32m   1059\u001b[0m             \u001b[0;32massert\u001b[0m \u001b[0mself\u001b[0m\u001b[0;34m.\u001b[0m\u001b[0m_is_stopped\u001b[0m\u001b[0;34m\u001b[0m\u001b[0;34m\u001b[0m\u001b[0m\n\u001b[0;32m-> 1060\u001b[0;31m         \u001b[0;32melif\u001b[0m \u001b[0mlock\u001b[0m\u001b[0;34m.\u001b[0m\u001b[0macquire\u001b[0m\u001b[0;34m(\u001b[0m\u001b[0mblock\u001b[0m\u001b[0;34m,\u001b[0m \u001b[0mtimeout\u001b[0m\u001b[0;34m)\u001b[0m\u001b[0;34m:\u001b[0m\u001b[0;34m\u001b[0m\u001b[0;34m\u001b[0m\u001b[0m\n\u001b[0m\u001b[1;32m   1061\u001b[0m             \u001b[0mlock\u001b[0m\u001b[0;34m.\u001b[0m\u001b[0mrelease\u001b[0m\u001b[0;34m(\u001b[0m\u001b[0;34m)\u001b[0m\u001b[0;34m\u001b[0m\u001b[0;34m\u001b[0m\u001b[0m\n\u001b[1;32m   1062\u001b[0m             \u001b[0mself\u001b[0m\u001b[0;34m.\u001b[0m\u001b[0m_stop\u001b[0m\u001b[0;34m(\u001b[0m\u001b[0;34m)\u001b[0m\u001b[0;34m\u001b[0m\u001b[0;34m\u001b[0m\u001b[0m\n",
      "\u001b[0;31mKeyboardInterrupt\u001b[0m: "
     ]
    }
   ],
   "source": [
    "param_grid = {  'clf': [RandomForestClassifier()],\n",
    "                'clf__max_depth': [15, 20, 25, 30, 35, 40],\n",
    "                'clf__max_features': [15, 20, 25, 30, 35, 40, 45, 51]} \n",
    "\n",
    "test_scores_RF, best_models_RF, X_test, y_test = run_pipeline_and_save(X, y, param_grid)"
   ]
  },
  {
   "cell_type": "code",
   "execution_count": 8,
   "id": "promotional-onion",
   "metadata": {
    "scrolled": true
   },
   "outputs": [
    {
     "name": "stdout",
     "output_type": "stream",
     "text": [
      "6\n",
      "best test score for Random Forest: 0.6958538706871558\n",
      "best estimator for Random Forest: {'clf': RandomForestClassifier(max_depth=35, max_features=30), 'clf__max_depth': 40, 'clf__max_features': 35}\n"
     ]
    }
   ],
   "source": [
    "amax = np.argmax(test_scores_RF)\n",
    "print(amax)\n",
    "print('best test score for Random Forest:', test_scores_RF[amax])\n",
    "print('best estimator for Random Forest:', best_models_RF[amax].best_params_)"
   ]
  },
  {
   "cell_type": "code",
   "execution_count": 9,
   "id": "insured-participant",
   "metadata": {},
   "outputs": [
    {
     "name": "stdout",
     "output_type": "stream",
     "text": [
      "mean test score for Random Forest: 0.6824581364808062\n",
      "stdev of test score for Random Forest: 0.00672101219853508\n"
     ]
    }
   ],
   "source": [
    "print('mean test score for Random Forest:', np.mean(test_scores_RF) )\n",
    "print('stdev of test score for Random Forest:', np.std(test_scores_RF))"
   ]
  },
  {
   "cell_type": "code",
   "execution_count": 10,
   "id": "hindu-joseph",
   "metadata": {},
   "outputs": [],
   "source": [
    "output = open('../results/RF_models_micro.pkl', 'wb')\n",
    "pickle.dump((best_models_RF[amax], output)\n",
    "output.close()"
   ]
  },
  {
   "cell_type": "markdown",
   "id": "secure-athens",
   "metadata": {},
   "source": [
    "## K Nearest Neighbors Classifier"
   ]
  },
  {
   "cell_type": "code",
   "execution_count": 11,
   "id": "elder-motorcycle",
   "metadata": {
    "scrolled": false
   },
   "outputs": [
    {
     "name": "stdout",
     "output_type": "stream",
     "text": [
      "Fitting 4 folds for each of 16 candidates, totalling 64 fits\n",
      "Best Params: {'clf': KNeighborsClassifier(weights='distance'), 'clf__n_neighbors': 5, 'clf__weights': 'distance'} \n",
      "Best CV Score: 0.63347\n",
      "Precision:     0.712023\n",
      "Recall:        0.625773\n",
      "f1_micro:      0.666118 \n",
      "\n",
      "Fitting 4 folds for each of 16 candidates, totalling 64 fits\n",
      "Best Params: {'clf': KNeighborsClassifier(weights='distance'), 'clf__n_neighbors': 5, 'clf__weights': 'distance'} \n",
      "Best CV Score: 0.620691\n",
      "Precision:     0.723368\n",
      "Recall:        0.637879\n",
      "f1_micro:      0.677939 \n",
      "\n",
      "Fitting 4 folds for each of 16 candidates, totalling 64 fits\n",
      "Best Params: {'clf': KNeighborsClassifier(weights='distance'), 'clf__n_neighbors': 5, 'clf__weights': 'distance'} \n",
      "Best CV Score: 0.63561\n",
      "Precision:     0.709937\n",
      "Recall:        0.64375\n",
      "f1_micro:      0.675225 \n",
      "\n",
      "Fitting 4 folds for each of 16 candidates, totalling 64 fits\n",
      "Best Params: {'clf': KNeighborsClassifier(weights='distance'), 'clf__n_neighbors': 5, 'clf__weights': 'distance'} \n",
      "Best CV Score: 0.636096\n",
      "Precision:     0.70087\n",
      "Recall:        0.617467\n",
      "f1_micro:      0.65653 \n",
      "\n",
      "Fitting 4 folds for each of 16 candidates, totalling 64 fits\n",
      "Best Params: {'clf': KNeighborsClassifier(weights='distance'), 'clf__n_neighbors': 5, 'clf__weights': 'distance'} \n",
      "Best CV Score: 0.629768\n",
      "Precision:     0.71607\n",
      "Recall:        0.633987\n",
      "f1_micro:      0.672533 \n",
      "\n",
      "Fitting 4 folds for each of 16 candidates, totalling 64 fits\n",
      "Best Params: {'clf': KNeighborsClassifier(weights='distance'), 'clf__n_neighbors': 5, 'clf__weights': 'distance'} \n",
      "Best CV Score: 0.629604\n",
      "Precision:     0.689197\n",
      "Recall:        0.623954\n",
      "f1_micro:      0.654955 \n",
      "\n",
      "Fitting 4 folds for each of 16 candidates, totalling 64 fits\n",
      "Best Params: {'clf': KNeighborsClassifier(weights='distance'), 'clf__n_neighbors': 5, 'clf__weights': 'distance'} \n",
      "Best CV Score: 0.629447\n",
      "Precision:     0.723104\n",
      "Recall:        0.645669\n",
      "f1_micro:      0.682196 \n",
      "\n",
      "Fitting 4 folds for each of 16 candidates, totalling 64 fits\n",
      "Best Params: {'clf': KNeighborsClassifier(weights='distance'), 'clf__n_neighbors': 5, 'clf__weights': 'distance'} \n",
      "Best CV Score: 0.640198\n",
      "Precision:     0.705713\n",
      "Recall:        0.613033\n",
      "f1_micro:      0.656116 \n",
      "\n",
      "Fitting 4 folds for each of 16 candidates, totalling 64 fits\n",
      "Best Params: {'clf': KNeighborsClassifier(weights='distance'), 'clf__n_neighbors': 5, 'clf__weights': 'distance'} \n",
      "Best CV Score: 0.631671\n",
      "Precision:     0.702507\n",
      "Recall:        0.641404\n",
      "f1_micro:      0.670566 \n",
      "\n",
      "Fitting 4 folds for each of 16 candidates, totalling 64 fits\n",
      "Best Params: {'clf': KNeighborsClassifier(weights='distance'), 'clf__n_neighbors': 5, 'clf__weights': 'distance'} \n",
      "Best CV Score: 0.630404\n",
      "Precision:     0.69624\n",
      "Recall:        0.615265\n",
      "f1_micro:      0.653252 \n",
      "\n",
      "0.6665431208875722 +/- 0.010111567762256213\n"
     ]
    }
   ],
   "source": [
    "param_grid = {'clf': [KNeighborsClassifier()], \n",
    "              'clf__n_neighbors': [5,10,15,20,30,40,50,60],\n",
    "              'clf__weights': ['distance', 'uniform'] }\n",
    "\n",
    "test_scores_KNN, best_models_KNN = run_pipeline(X, y, param_grid)\n",
    "print(np.mean(test_scores_KNN), '+/-', np.std(test_scores_KNN))"
   ]
  },
  {
   "cell_type": "code",
   "execution_count": 12,
   "id": "severe-threshold",
   "metadata": {
    "scrolled": true
   },
   "outputs": [
    {
     "name": "stdout",
     "output_type": "stream",
     "text": [
      "6\n",
      "best test score for K Nearest Neighbors: 0.682196339434276\n",
      "best params for K Nearest Neighbors: {'clf': KNeighborsClassifier(weights='distance'), 'clf__n_neighbors': 5, 'clf__weights': 'distance'}\n"
     ]
    }
   ],
   "source": [
    "amax = np.argmax(test_scores_KNN)\n",
    "print(amax)\n",
    "print('best test score for K Nearest Neighbors:', test_scores_KNN[amax])\n",
    "print('best params for K Nearest Neighbors:', best_models_KNN[amax].best_params_)"
   ]
  },
  {
   "cell_type": "code",
   "execution_count": 13,
   "id": "moral-pressing",
   "metadata": {},
   "outputs": [
    {
     "name": "stdout",
     "output_type": "stream",
     "text": [
      "mean test score for K Nearest Neighbors: 0.6665431208875722\n",
      "stdev of test score for K Nearest Neighbors: 0.010111567762256213\n"
     ]
    }
   ],
   "source": [
    "print('mean test score for K Nearest Neighbors:', np.mean(test_scores_KNN) )\n",
    "print('stdev of test score for K Nearest Neighbors:', np.std(test_scores_KNN))"
   ]
  },
  {
   "cell_type": "code",
   "execution_count": 14,
   "id": "sublime-attempt",
   "metadata": {},
   "outputs": [],
   "source": [
    "output = open('../results/KNN_models_micro.pkl', 'wb')\n",
    "pickle.dump(best_models_KNN, output)\n",
    "output.close()"
   ]
  },
  {
   "cell_type": "markdown",
   "id": "breathing-walnut",
   "metadata": {},
   "source": [
    "## SVC"
   ]
  },
  {
   "cell_type": "code",
   "execution_count": 15,
   "id": "early-elder",
   "metadata": {},
   "outputs": [
    {
     "name": "stdout",
     "output_type": "stream",
     "text": [
      "Fitting 4 folds for each of 12 candidates, totalling 48 fits\n",
      "Best Params: {'clf': OneVsRestClassifier(estimator=SVC(C=10000.0, cache_size=3000,\n",
      "                                  max_iter=100000000, tol=0.0001)), 'clf__estimator__C': 10000.0, 'clf__estimator__tol': 0.0001} \n",
      "Best CV Score: 0.595619\n",
      "Precision:     0.638696\n",
      "Recall:        0.615979\n",
      "f1_micro:      0.627132 \n",
      "\n",
      "Fitting 4 folds for each of 12 candidates, totalling 48 fits\n",
      "Best Params: {'clf': OneVsRestClassifier(estimator=SVC(C=1000.0, cache_size=3000, max_iter=100000000,\n",
      "                                  tol=0.0001)), 'clf__estimator__C': 1000.0, 'clf__estimator__tol': 0.0001} \n",
      "Best CV Score: 0.585681\n",
      "Precision:     0.65916\n",
      "Recall:        0.54697\n",
      "f1_micro:      0.597847 \n",
      "\n",
      "Fitting 4 folds for each of 12 candidates, totalling 48 fits\n",
      "Best Params: {'clf': OneVsRestClassifier(estimator=SVC(C=10000.0, cache_size=3000,\n",
      "                                  max_iter=100000000, tol=0.0001)), 'clf__estimator__C': 10000.0, 'clf__estimator__tol': 0.0001} \n",
      "Best CV Score: 0.599533\n",
      "Precision:     0.641339\n",
      "Recall:        0.628646\n",
      "f1_micro:      0.634929 \n",
      "\n",
      "Fitting 4 folds for each of 12 candidates, totalling 48 fits\n",
      "Best Params: {'clf': OneVsRestClassifier(estimator=SVC(C=10000.0, cache_size=3000,\n",
      "                                  max_iter=100000000, tol=0.01)), 'clf__estimator__C': 10000.0, 'clf__estimator__tol': 0.01} \n",
      "Best CV Score: 0.596966\n",
      "Precision:     0.643089\n",
      "Recall:        0.608274\n",
      "f1_micro:      0.625197 \n",
      "\n",
      "Fitting 4 folds for each of 12 candidates, totalling 48 fits\n",
      "Best Params: {'clf': OneVsRestClassifier(estimator=SVC(C=10000.0, cache_size=3000,\n",
      "                                  max_iter=100000000, tol=0.0001)), 'clf__estimator__C': 10000.0, 'clf__estimator__tol': 0.0001} \n",
      "Best CV Score: 0.592038\n",
      "Precision:     0.665726\n",
      "Recall:        0.59276\n",
      "f1_micro:      0.627128 \n",
      "\n",
      "Fitting 4 folds for each of 12 candidates, totalling 48 fits\n",
      "Best Params: {'clf': OneVsRestClassifier(estimator=SVC(C=10000.0, cache_size=3000,\n",
      "                                  max_iter=100000000, tol=0.01)), 'clf__estimator__C': 10000.0, 'clf__estimator__tol': 0.01} \n",
      "Best CV Score: 0.598804\n",
      "Precision:     0.628117\n",
      "Recall:        0.619247\n",
      "f1_micro:      0.62365 \n",
      "\n",
      "Fitting 4 folds for each of 12 candidates, totalling 48 fits\n",
      "Best Params: {'clf': OneVsRestClassifier(estimator=SVC(C=10000.0, cache_size=3000,\n",
      "                                  max_iter=100000000, tol=0.01)), 'clf__estimator__C': 10000.0, 'clf__estimator__tol': 0.01} \n",
      "Best CV Score: 0.592886\n",
      "Precision:     0.659838\n",
      "Recall:        0.64252\n",
      "f1_micro:      0.651064 \n",
      "\n",
      "Fitting 4 folds for each of 12 candidates, totalling 48 fits\n",
      "Best Params: {'clf': OneVsRestClassifier(estimator=SVC(C=10000.0, cache_size=3000,\n",
      "                                  max_iter=100000000, tol=0.0001)), 'clf__estimator__C': 10000.0, 'clf__estimator__tol': 0.0001} \n",
      "Best CV Score: 0.599746\n",
      "Precision:     0.655227\n",
      "Recall:        0.622055\n",
      "f1_micro:      0.63821 \n",
      "\n",
      "Fitting 4 folds for each of 12 candidates, totalling 48 fits\n",
      "Best Params: {'clf': OneVsRestClassifier(estimator=SVC(C=10000.0, cache_size=3000,\n",
      "                                  max_iter=100000000, tol=0.01)), 'clf__estimator__C': 10000.0, 'clf__estimator__tol': 0.01} \n",
      "Best CV Score: 0.595666\n",
      "Precision:     0.635213\n",
      "Recall:        0.61292\n",
      "f1_micro:      0.623867 \n",
      "\n",
      "Fitting 4 folds for each of 12 candidates, totalling 48 fits\n",
      "Best Params: {'clf': OneVsRestClassifier(estimator=SVC(C=10000.0, cache_size=3000,\n",
      "                                  max_iter=100000000, tol=0.0001)), 'clf__estimator__C': 10000.0, 'clf__estimator__tol': 0.0001} \n",
      "Best CV Score: 0.597641\n",
      "Precision:     0.628759\n",
      "Recall:        0.597092\n",
      "f1_micro:      0.612517 \n",
      "\n"
     ]
    }
   ],
   "source": [
    "param_grid = { 'clf': [OneVsRestClassifier(SVC(max_iter=100000000, cache_size=3000))],\n",
    "               'clf__estimator__C': np.logspace(1,4,num=4),\n",
    "               'clf__estimator__tol': np.logspace(-4, -2,num=3) } \n",
    "\n",
    "test_scores_SVC, best_models_SVC = run_pipeline(X, y, param_grid)"
   ]
  },
  {
   "cell_type": "code",
   "execution_count": 16,
   "id": "desperate-spokesman",
   "metadata": {},
   "outputs": [
    {
     "name": "stdout",
     "output_type": "stream",
     "text": [
      "6\n",
      "best test score for SVC OneVsRest: 0.651063829787234\n",
      "best estimator for SVC OneVsRest: {'clf': OneVsRestClassifier(estimator=SVC(C=10000.0, cache_size=3000,\n",
      "                                  max_iter=100000000, tol=0.0001)), 'clf__estimator__C': 10000.0, 'clf__estimator__tol': 0.01}\n"
     ]
    }
   ],
   "source": [
    "amax = np.argmax(test_scores_SVC)\n",
    "print(amax)\n",
    "print('best test score for SVC OneVsRest:', test_scores_SVC[amax])\n",
    "print('best estimator for SVC OneVsRest:', best_models_SVC[amax].best_params_)"
   ]
  },
  {
   "cell_type": "code",
   "execution_count": 17,
   "id": "differential-rebound",
   "metadata": {},
   "outputs": [
    {
     "name": "stdout",
     "output_type": "stream",
     "text": [
      "mean test score for SVC OneVsRest: 0.6261541090946127\n",
      "stdev of test score for SVC OneVsRest: 0.013580985225053556\n"
     ]
    }
   ],
   "source": [
    "print('mean test score for SVC OneVsRest:', np.mean(test_scores_SVC) )\n",
    "print('stdev of test score for SVC OneVsRest:', np.std(test_scores_SVC))"
   ]
  },
  {
   "cell_type": "code",
   "execution_count": 18,
   "id": "mental-alaska",
   "metadata": {},
   "outputs": [],
   "source": [
    "output = open('../results/SVC_models_micro.pkl', 'wb')\n",
    "pickle.dump(best_models_SVC, output)\n",
    "output.close()"
   ]
  },
  {
   "cell_type": "markdown",
   "id": "immediate-navigation",
   "metadata": {},
   "source": [
    "## Logistic Regression"
   ]
  },
  {
   "cell_type": "code",
   "execution_count": 19,
   "id": "approved-mortgage",
   "metadata": {},
   "outputs": [
    {
     "name": "stdout",
     "output_type": "stream",
     "text": [
      "Fitting 4 folds for each of 10 candidates, totalling 40 fits\n",
      "Best Params: {'clf': OneVsRestClassifier(estimator=LogisticRegression(C=100.0, max_iter=100000,\n",
      "                                                 multi_class='ovr',\n",
      "                                                 solver='sag',\n",
      "                                                 warm_start=True)), 'clf__estimator__C': 100.0, 'clf__estimator__penalty': 'l2', 'clf__estimator__solver': 'sag'} \n",
      "Best CV Score: 0.391132\n",
      "Precision:     0.655172\n",
      "Recall:        0.284021\n",
      "f1_micro:      0.39626 \n",
      "\n",
      "Fitting 4 folds for each of 10 candidates, totalling 40 fits\n",
      "Best Params: {'clf': OneVsRestClassifier(estimator=LogisticRegression(C=10000.0, max_iter=100000,\n",
      "                                                 multi_class='ovr',\n",
      "                                                 warm_start=True)), 'clf__estimator__C': 10000.0, 'clf__estimator__penalty': 'l2', 'clf__estimator__solver': 'lbfgs'} \n",
      "Best CV Score: 0.406434\n",
      "Precision:     0.616484\n",
      "Recall:        0.283333\n",
      "f1_micro:      0.388235 \n",
      "\n",
      "Fitting 4 folds for each of 10 candidates, totalling 40 fits\n",
      "Best Params: {'clf': OneVsRestClassifier(estimator=LogisticRegression(C=10000.0, max_iter=100000,\n",
      "                                                 multi_class='ovr',\n",
      "                                                 warm_start=True)), 'clf__estimator__C': 10000.0, 'clf__estimator__penalty': 'l2', 'clf__estimator__solver': 'lbfgs'} \n",
      "Best CV Score: 0.392144\n",
      "Precision:     0.684472\n",
      "Recall:        0.286979\n",
      "f1_micro:      0.404404 \n",
      "\n",
      "Fitting 4 folds for each of 10 candidates, totalling 40 fits\n",
      "Best Params: {'clf': OneVsRestClassifier(estimator=LogisticRegression(C=100.0, max_iter=100000,\n",
      "                                                 multi_class='ovr',\n",
      "                                                 solver='sag',\n",
      "                                                 warm_start=True)), 'clf__estimator__C': 100.0, 'clf__estimator__penalty': 'l2', 'clf__estimator__solver': 'sag'} \n",
      "Best CV Score: 0.393392\n",
      "Precision:     0.665501\n",
      "Recall:        0.291624\n",
      "f1_micro:      0.40554 \n",
      "\n",
      "Fitting 4 folds for each of 10 candidates, totalling 40 fits\n",
      "Best Params: {'clf': OneVsRestClassifier(estimator=LogisticRegression(C=100.0, max_iter=100000,\n",
      "                                                 multi_class='ovr',\n",
      "                                                 solver='sag',\n",
      "                                                 warm_start=True)), 'clf__estimator__C': 100.0, 'clf__estimator__penalty': 'l2', 'clf__estimator__solver': 'sag'} \n",
      "Best CV Score: 0.381987\n",
      "Precision:     0.667808\n",
      "Recall:        0.294118\n",
      "f1_micro:      0.408377 \n",
      "\n",
      "Fitting 4 folds for each of 10 candidates, totalling 40 fits\n",
      "Best Params: {'clf': OneVsRestClassifier(estimator=LogisticRegression(C=10000.0, max_iter=100000,\n",
      "                                                 multi_class='ovr',\n",
      "                                                 warm_start=True)), 'clf__estimator__C': 10000.0, 'clf__estimator__penalty': 'l2', 'clf__estimator__solver': 'lbfgs'} \n",
      "Best CV Score: 0.388097\n",
      "Precision:     0.617857\n",
      "Recall:        0.271444\n",
      "f1_micro:      0.37718 \n",
      "\n",
      "Fitting 4 folds for each of 10 candidates, totalling 40 fits\n",
      "Best Params: {'clf': OneVsRestClassifier(estimator=LogisticRegression(C=10000.0, max_iter=100000,\n",
      "                                                 multi_class='ovr',\n",
      "                                                 warm_start=True)), 'clf__estimator__C': 10000.0, 'clf__estimator__penalty': 'l2', 'clf__estimator__solver': 'lbfgs'} \n",
      "Best CV Score: 0.377221\n",
      "Precision:     0.684524\n",
      "Recall:        0.301837\n",
      "f1_micro:      0.418944 \n",
      "\n",
      "Fitting 4 folds for each of 10 candidates, totalling 40 fits\n",
      "Best Params: {'clf': OneVsRestClassifier(estimator=LogisticRegression(C=1000.0, max_iter=100000,\n",
      "                                                 multi_class='ovr',\n",
      "                                                 solver='sag',\n",
      "                                                 warm_start=True)), 'clf__estimator__C': 1000.0, 'clf__estimator__penalty': 'l2', 'clf__estimator__solver': 'sag'} \n",
      "Best CV Score: 0.386341\n",
      "Precision:     0.654172\n",
      "Recall:        0.271178\n",
      "f1_micro:      0.383416 \n",
      "\n",
      "Fitting 4 folds for each of 10 candidates, totalling 40 fits\n",
      "Best Params: {'clf': OneVsRestClassifier(estimator=LogisticRegression(C=10000.0, max_iter=100000,\n",
      "                                                 multi_class='ovr',\n",
      "                                                 warm_start=True)), 'clf__estimator__C': 10000.0, 'clf__estimator__penalty': 'l2', 'clf__estimator__solver': 'lbfgs'} \n",
      "Best CV Score: 0.385997\n",
      "Precision:     0.653318\n",
      "Recall:        0.290437\n",
      "f1_micro:      0.402113 \n",
      "\n",
      "Fitting 4 folds for each of 10 candidates, totalling 40 fits\n",
      "Best Params: {'clf': OneVsRestClassifier(estimator=LogisticRegression(C=10000.0, max_iter=100000,\n",
      "                                                 multi_class='ovr',\n",
      "                                                 warm_start=True)), 'clf__estimator__C': 10000.0, 'clf__estimator__penalty': 'l2', 'clf__estimator__solver': 'lbfgs'} \n",
      "Best CV Score: 0.400924\n",
      "Precision:     0.61194\n",
      "Recall:        0.255452\n",
      "f1_micro:      0.36044 \n",
      "\n"
     ]
    }
   ],
   "source": [
    "param_grid = { 'clf': [OneVsRestClassifier(LogisticRegression(max_iter=100000, \n",
    "                                                              warm_start=True, \n",
    "                                                              multi_class='ovr'))],\n",
    "               'clf__estimator__penalty': ['l2'],\n",
    "               'clf__estimator__C': np.logspace(0, 4, 5),\n",
    "               'clf__estimator__solver': ['sag', 'lbfgs'] }\n",
    "\n",
    "test_scores_LR, best_models_LR = run_pipeline(X, y, param_grid)"
   ]
  },
  {
   "cell_type": "code",
   "execution_count": 20,
   "id": "owned-unemployment",
   "metadata": {},
   "outputs": [
    {
     "name": "stdout",
     "output_type": "stream",
     "text": [
      "6\n",
      "best test score for Log Reg: 0.41894353369763204\n",
      "best params for Log Reg: {'clf': OneVsRestClassifier(estimator=LogisticRegression(C=10000.0, max_iter=100000,\n",
      "                                                 multi_class='ovr',\n",
      "                                                 warm_start=True)), 'clf__estimator__C': 10000.0, 'clf__estimator__penalty': 'l2', 'clf__estimator__solver': 'lbfgs'}\n"
     ]
    }
   ],
   "source": [
    "amax = np.argmax(test_scores_LR)\n",
    "print(amax)\n",
    "print('best test score for Log Reg:', test_scores_LR[amax])\n",
    "print('best params for Log Reg:', best_models_LR[amax].best_params_)"
   ]
  },
  {
   "cell_type": "code",
   "execution_count": 21,
   "id": "maritime-definition",
   "metadata": {},
   "outputs": [
    {
     "name": "stdout",
     "output_type": "stream",
     "text": [
      "mean test score for Log Reg: 0.394490805768927\n",
      "stdev of test score for Log Reg: 0.016411141321304855\n"
     ]
    }
   ],
   "source": [
    "print('mean test score for Log Reg:', np.mean(test_scores_LR) )\n",
    "print('stdev of test score for Log Reg:', np.std(test_scores_LR))"
   ]
  },
  {
   "cell_type": "code",
   "execution_count": 22,
   "id": "electoral-investigator",
   "metadata": {},
   "outputs": [],
   "source": [
    "output = open('../results/LR_models_micro.pkl', 'wb')\n",
    "pickle.dump(best_models_LR, output)\n",
    "output.close()"
   ]
  }
 ],
 "metadata": {
  "kernelspec": {
   "display_name": "Python 3",
   "language": "python",
   "name": "python3"
  },
  "language_info": {
   "codemirror_mode": {
    "name": "ipython",
    "version": 3
   },
   "file_extension": ".py",
   "mimetype": "text/x-python",
   "name": "python",
   "nbconvert_exporter": "python",
   "pygments_lexer": "ipython3",
   "version": "3.7.9"
  }
 },
 "nbformat": 4,
 "nbformat_minor": 5
}
