{
 "cells": [
  {
   "cell_type": "markdown",
   "metadata": {},
   "source": [
    "# Part 2b: Target Variable EDA"
   ]
  },
  {
   "cell_type": "markdown",
   "metadata": {},
   "source": [
    "### Setup and basic info about dataset"
   ]
  },
  {
   "cell_type": "code",
   "execution_count": 32,
   "metadata": {},
   "outputs": [],
   "source": [
    "import pandas as pd\n",
    "import numpy as np\n",
    "import matplotlib\n",
    "from matplotlib import pylab as plt\n",
    "from itertools import chain, combinations"
   ]
  },
  {
   "cell_type": "code",
   "execution_count": 2,
   "metadata": {},
   "outputs": [],
   "source": [
    "features = pd.read_csv('../data/features_plus_descriptions.csv')\n",
    "features.set_index('Feature Type and Number', inplace=True)"
   ]
  },
  {
   "cell_type": "code",
   "execution_count": 3,
   "metadata": {},
   "outputs": [],
   "source": [
    "df_multilabel_strict = pd.read_csv('../data/multilabel_raw_data_strict.csv')\n",
    "df_multilabel_tol = pd.read_csv('../data/multilabel_raw_data_tol.csv')\n",
    "df_multiclass = pd.read_csv('../data/multiclass_target_raw_data.csv')\n",
    "H_Best = ['H0_Best', 'H1_Best', 'H2_Best', 'H3_Best', 'H4_Best', 'H5_Best']\n",
    "\n",
    "y_strict = df_multilabel_strict[H_Best]\n",
    "y_tol = df_multilabel_tol[H_Best]\n",
    "y_orig = df_multiclass[H_Best]"
   ]
  },
  {
   "cell_type": "code",
   "execution_count": 4,
   "metadata": {
    "scrolled": true
   },
   "outputs": [
    {
     "data": {
      "text/html": [
       "<div>\n",
       "<style scoped>\n",
       "    .dataframe tbody tr th:only-of-type {\n",
       "        vertical-align: middle;\n",
       "    }\n",
       "\n",
       "    .dataframe tbody tr th {\n",
       "        vertical-align: top;\n",
       "    }\n",
       "\n",
       "    .dataframe thead th {\n",
       "        text-align: right;\n",
       "    }\n",
       "</style>\n",
       "<table border=\"1\" class=\"dataframe\">\n",
       "  <thead>\n",
       "    <tr style=\"text-align: right;\">\n",
       "      <th></th>\n",
       "      <th>H0_Best</th>\n",
       "      <th>H1_Best</th>\n",
       "      <th>H2_Best</th>\n",
       "      <th>H3_Best</th>\n",
       "      <th>H4_Best</th>\n",
       "      <th>H5_Best</th>\n",
       "    </tr>\n",
       "  </thead>\n",
       "  <tbody>\n",
       "    <tr>\n",
       "      <th>0</th>\n",
       "      <td>1</td>\n",
       "      <td>0</td>\n",
       "      <td>0</td>\n",
       "      <td>0</td>\n",
       "      <td>0</td>\n",
       "      <td>0</td>\n",
       "    </tr>\n",
       "    <tr>\n",
       "      <th>1</th>\n",
       "      <td>0</td>\n",
       "      <td>1</td>\n",
       "      <td>0</td>\n",
       "      <td>0</td>\n",
       "      <td>0</td>\n",
       "      <td>0</td>\n",
       "    </tr>\n",
       "    <tr>\n",
       "      <th>2</th>\n",
       "      <td>1</td>\n",
       "      <td>0</td>\n",
       "      <td>0</td>\n",
       "      <td>0</td>\n",
       "      <td>0</td>\n",
       "      <td>0</td>\n",
       "    </tr>\n",
       "    <tr>\n",
       "      <th>3</th>\n",
       "      <td>1</td>\n",
       "      <td>0</td>\n",
       "      <td>0</td>\n",
       "      <td>0</td>\n",
       "      <td>0</td>\n",
       "      <td>0</td>\n",
       "    </tr>\n",
       "    <tr>\n",
       "      <th>4</th>\n",
       "      <td>1</td>\n",
       "      <td>0</td>\n",
       "      <td>0</td>\n",
       "      <td>0</td>\n",
       "      <td>0</td>\n",
       "      <td>0</td>\n",
       "    </tr>\n",
       "  </tbody>\n",
       "</table>\n",
       "</div>"
      ],
      "text/plain": [
       "   H0_Best  H1_Best  H2_Best  H3_Best  H4_Best  H5_Best\n",
       "0        1        0        0        0        0        0\n",
       "1        0        1        0        0        0        0\n",
       "2        1        0        0        0        0        0\n",
       "3        1        0        0        0        0        0\n",
       "4        1        0        0        0        0        0"
      ]
     },
     "execution_count": 4,
     "metadata": {},
     "output_type": "execute_result"
    }
   ],
   "source": [
    "y_orig.head()"
   ]
  },
  {
   "cell_type": "code",
   "execution_count": 5,
   "metadata": {},
   "outputs": [
    {
     "data": {
      "text/html": [
       "<div>\n",
       "<style scoped>\n",
       "    .dataframe tbody tr th:only-of-type {\n",
       "        vertical-align: middle;\n",
       "    }\n",
       "\n",
       "    .dataframe tbody tr th {\n",
       "        vertical-align: top;\n",
       "    }\n",
       "\n",
       "    .dataframe thead th {\n",
       "        text-align: right;\n",
       "    }\n",
       "</style>\n",
       "<table border=\"1\" class=\"dataframe\">\n",
       "  <thead>\n",
       "    <tr style=\"text-align: right;\">\n",
       "      <th></th>\n",
       "      <th>H0_Best</th>\n",
       "      <th>H1_Best</th>\n",
       "      <th>H2_Best</th>\n",
       "      <th>H3_Best</th>\n",
       "      <th>H4_Best</th>\n",
       "      <th>H5_Best</th>\n",
       "    </tr>\n",
       "  </thead>\n",
       "  <tbody>\n",
       "    <tr>\n",
       "      <th>0</th>\n",
       "      <td>1</td>\n",
       "      <td>0</td>\n",
       "      <td>0</td>\n",
       "      <td>0</td>\n",
       "      <td>0</td>\n",
       "      <td>0</td>\n",
       "    </tr>\n",
       "    <tr>\n",
       "      <th>1</th>\n",
       "      <td>0</td>\n",
       "      <td>1</td>\n",
       "      <td>1</td>\n",
       "      <td>0</td>\n",
       "      <td>1</td>\n",
       "      <td>1</td>\n",
       "    </tr>\n",
       "    <tr>\n",
       "      <th>2</th>\n",
       "      <td>1</td>\n",
       "      <td>0</td>\n",
       "      <td>0</td>\n",
       "      <td>0</td>\n",
       "      <td>0</td>\n",
       "      <td>0</td>\n",
       "    </tr>\n",
       "    <tr>\n",
       "      <th>3</th>\n",
       "      <td>1</td>\n",
       "      <td>0</td>\n",
       "      <td>0</td>\n",
       "      <td>0</td>\n",
       "      <td>0</td>\n",
       "      <td>0</td>\n",
       "    </tr>\n",
       "    <tr>\n",
       "      <th>4</th>\n",
       "      <td>1</td>\n",
       "      <td>0</td>\n",
       "      <td>0</td>\n",
       "      <td>0</td>\n",
       "      <td>0</td>\n",
       "      <td>0</td>\n",
       "    </tr>\n",
       "  </tbody>\n",
       "</table>\n",
       "</div>"
      ],
      "text/plain": [
       "   H0_Best  H1_Best  H2_Best  H3_Best  H4_Best  H5_Best\n",
       "0        1        0        0        0        0        0\n",
       "1        0        1        1        0        1        1\n",
       "2        1        0        0        0        0        0\n",
       "3        1        0        0        0        0        0\n",
       "4        1        0        0        0        0        0"
      ]
     },
     "execution_count": 5,
     "metadata": {},
     "output_type": "execute_result"
    }
   ],
   "source": [
    "y_strict.head()"
   ]
  },
  {
   "cell_type": "code",
   "execution_count": 6,
   "metadata": {},
   "outputs": [
    {
     "data": {
      "text/html": [
       "<div>\n",
       "<style scoped>\n",
       "    .dataframe tbody tr th:only-of-type {\n",
       "        vertical-align: middle;\n",
       "    }\n",
       "\n",
       "    .dataframe tbody tr th {\n",
       "        vertical-align: top;\n",
       "    }\n",
       "\n",
       "    .dataframe thead th {\n",
       "        text-align: right;\n",
       "    }\n",
       "</style>\n",
       "<table border=\"1\" class=\"dataframe\">\n",
       "  <thead>\n",
       "    <tr style=\"text-align: right;\">\n",
       "      <th></th>\n",
       "      <th>H0_Best</th>\n",
       "      <th>H1_Best</th>\n",
       "      <th>H2_Best</th>\n",
       "      <th>H3_Best</th>\n",
       "      <th>H4_Best</th>\n",
       "      <th>H5_Best</th>\n",
       "    </tr>\n",
       "  </thead>\n",
       "  <tbody>\n",
       "    <tr>\n",
       "      <th>0</th>\n",
       "      <td>1</td>\n",
       "      <td>0</td>\n",
       "      <td>0</td>\n",
       "      <td>0</td>\n",
       "      <td>0</td>\n",
       "      <td>0</td>\n",
       "    </tr>\n",
       "    <tr>\n",
       "      <th>1</th>\n",
       "      <td>0</td>\n",
       "      <td>1</td>\n",
       "      <td>1</td>\n",
       "      <td>0</td>\n",
       "      <td>1</td>\n",
       "      <td>1</td>\n",
       "    </tr>\n",
       "    <tr>\n",
       "      <th>2</th>\n",
       "      <td>1</td>\n",
       "      <td>0</td>\n",
       "      <td>0</td>\n",
       "      <td>0</td>\n",
       "      <td>0</td>\n",
       "      <td>0</td>\n",
       "    </tr>\n",
       "    <tr>\n",
       "      <th>3</th>\n",
       "      <td>1</td>\n",
       "      <td>0</td>\n",
       "      <td>0</td>\n",
       "      <td>0</td>\n",
       "      <td>0</td>\n",
       "      <td>0</td>\n",
       "    </tr>\n",
       "    <tr>\n",
       "      <th>4</th>\n",
       "      <td>1</td>\n",
       "      <td>0</td>\n",
       "      <td>0</td>\n",
       "      <td>0</td>\n",
       "      <td>0</td>\n",
       "      <td>0</td>\n",
       "    </tr>\n",
       "  </tbody>\n",
       "</table>\n",
       "</div>"
      ],
      "text/plain": [
       "   H0_Best  H1_Best  H2_Best  H3_Best  H4_Best  H5_Best\n",
       "0        1        0        0        0        0        0\n",
       "1        0        1        1        0        1        1\n",
       "2        1        0        0        0        0        0\n",
       "3        1        0        0        0        0        0\n",
       "4        1        0        0        0        0        0"
      ]
     },
     "execution_count": 6,
     "metadata": {},
     "output_type": "execute_result"
    }
   ],
   "source": [
    "y_tol.head()"
   ]
  },
  {
   "cell_type": "code",
   "execution_count": 7,
   "metadata": {},
   "outputs": [],
   "source": [
    "def show_patterns_tabulated(unique_rows, counts):\n",
    "    \"\"\"\n",
    "    Function to display pattern groupings and return row counts.\n",
    "    \"\"\"\n",
    "    pattern_counts = {}\n",
    "    pattern_counter = 1\n",
    "    pairs = [(1,2), (2,3), (3,4), (4,5), (1,3), (1,4), (1,5), (2,4), (2,5), (3,5)]\n",
    "    triplets = [(1,2,3), (1,3,4), (2,3,4), (3,4,5), (1,2,4), (1,2,5), (1,3,5), (1,4,5), (2,4,5), (2,3,5)]\n",
    "    quads = [(1,2,3,4), (1,2,3,5), (2,3,4,5), (1,2,4,5), (1,3,4,5)]\n",
    "    for k in range(len(pairs)):\n",
    "        i,j = pairs[k]\n",
    "        sum_for_pair = 0\n",
    "        vals_list = []\n",
    "        print(\"pattern #\" , pattern_counter)\n",
    "        for a in range(len(unique_rows)):\n",
    "            if unique_rows[a][i] == 1 and  unique_rows[a][j] == 1:\n",
    "                print(unique_rows[a], counts[a])\n",
    "                sum_for_pair += counts[a]\n",
    "                vals_list.append(counts[a])\n",
    "        print(\"sum for pair ({}, {}) = {} \\n\".format(i,j, sum_for_pair))\n",
    "        pattern_counts[(i,j)] = vals_list\n",
    "        pattern_counter +=1\n",
    "    for k in range(len(triplets)):\n",
    "        i,j,k = triplets[k]\n",
    "        sum_for_triplet = 0\n",
    "        vals_list = []\n",
    "        print(\"pattern #\" , pattern_counter)\n",
    "        for a in range(len(unique_rows)):\n",
    "            if unique_rows[a][i] == 1 and  unique_rows[a][j] == 1 and unique_rows[a][k] == 1:\n",
    "                print(unique_rows[a], counts[a])\n",
    "                sum_for_triplet += counts[a]\n",
    "                vals_list.append(counts[a])\n",
    "        print(\"sum for triplet({}, {}, {}) = {} \\n\".format(i,j,k, sum_for_triplet))\n",
    "        pattern_counter +=1\n",
    "        pattern_counts[(i,j,k)] = vals_list\n",
    "    for k in range(len(quads)):\n",
    "        i,j,k,m = quads[k]\n",
    "        sum_for_quad = 0\n",
    "        vals_list = []\n",
    "        print(\"pattern #\" , pattern_counter)\n",
    "        for a in range(len(unique_rows)):\n",
    "            case1 = (unique_rows[a][i] == 1 and  unique_rows[a][j] == 1)\n",
    "            case2 = (unique_rows[a][k] == 1 and unique_rows[a][m] == 1)\n",
    "            if case1 and case2:\n",
    "                print(unique_rows[a], counts[a])\n",
    "                sum_for_quad += counts[a]\n",
    "                vals_list.append(counts[a])\n",
    "        print(\"sum for quad ({}, {}, {}, {}) = {} \\n\".format(i,j,k,m, sum_for_quad))\n",
    "        pattern_counts[(i,j,k,m)] = vals_list\n",
    "        pattern_counter +=1\n",
    "    print(\"pattern #\" , pattern_counter)\n",
    "    return pattern_counts"
   ]
  },
  {
   "cell_type": "code",
   "execution_count": null,
   "metadata": {},
   "outputs": [],
   "source": []
  },
  {
   "cell_type": "code",
   "execution_count": null,
   "metadata": {},
   "outputs": [],
   "source": []
  },
  {
   "cell_type": "code",
   "execution_count": null,
   "metadata": {},
   "outputs": [],
   "source": []
  },
  {
   "cell_type": "code",
   "execution_count": null,
   "metadata": {},
   "outputs": [],
   "source": []
  },
  {
   "cell_type": "markdown",
   "metadata": {},
   "source": [
    "#### a. `y_original`: target based on Bridge et al. data"
   ]
  },
  {
   "cell_type": "code",
   "execution_count": 6,
   "metadata": {},
   "outputs": [
    {
     "name": "stdout",
     "output_type": "stream",
     "text": [
      "(6, 6)\n",
      "[0 0 0 0 0 1] 624\n",
      "[0 0 0 0 1 0] 617\n",
      "[0 0 0 1 0 0] 748\n",
      "[0 0 1 0 0 0] 486\n",
      "[0 1 0 0 0 0] 1089\n",
      "[1 0 0 0 0 0] 2554\n"
     ]
    }
   ],
   "source": [
    "unique_rows_orig, counts_orig = np.unique(y_orig, axis=0,return_counts=True)\n",
    "print(unique_rows_orig.shape)\n",
    "for i in range(len(unique_rows_orig)):\n",
    "    print(unique_rows_orig[i], counts_orig[i])"
   ]
  },
  {
   "cell_type": "markdown",
   "metadata": {},
   "source": [
    "#### b. `y_strict`: target using strict equality "
   ]
  },
  {
   "cell_type": "code",
   "execution_count": 7,
   "metadata": {},
   "outputs": [
    {
     "name": "stdout",
     "output_type": "stream",
     "text": [
      "(32, 6)\n",
      "[0 0 0 0 0 1] 624\n",
      "[0 0 0 0 1 0] 476\n",
      "[0 0 0 1 0 0] 620\n",
      "[0 0 1 0 0 0] 347\n",
      "[0 1 0 0 0 0] 594\n",
      "[1 0 0 0 0 0] 2554\n"
     ]
    }
   ],
   "source": [
    "unique_rows_strict, counts_strict = np.unique(y_strict, axis=0,return_counts=True)\n",
    "print(unique_rows_strict.shape)\n",
    "for i in range(len(unique_rows_strict)):\n",
    "    if np.sum(unique_rows_strict[i]) == 1:\n",
    "        print(unique_rows_strict[i], counts_strict[i])"
   ]
  },
  {
   "cell_type": "code",
   "execution_count": null,
   "metadata": {},
   "outputs": [],
   "source": [
    "#strict_pattern_counts = show_patterns_tabulated(unique_rows_strict, counts_strict)"
   ]
  },
  {
   "cell_type": "code",
   "execution_count": null,
   "metadata": {},
   "outputs": [],
   "source": [
    "#for key in strict_pattern_counts.keys():\n",
    "#    print(key, strict_pattern_counts[key])"
   ]
  },
  {
   "cell_type": "code",
   "execution_count": null,
   "metadata": {},
   "outputs": [],
   "source": []
  },
  {
   "cell_type": "code",
   "execution_count": null,
   "metadata": {},
   "outputs": [],
   "source": [
    "counts = []\n",
    "for tup in stacks[0]:\n",
    "    print(tup)\n",
    "    counts.append(strict_pattern_counts[tup])\n",
    "print(counts)"
   ]
  },
  {
   "cell_type": "code",
   "execution_count": null,
   "metadata": {},
   "outputs": [],
   "source": [
    "positives = {i:0 for i in range(6)}\n",
    "for a in range(len(counts_strict)):\n",
    "    for s in range(len(unique_rows_strict[a])):\n",
    "        if unique_rows_strict[a][s] == 1:\n",
    "            positives[s] += counts_strict[a]\n",
    "positives"
   ]
  },
  {
   "cell_type": "markdown",
   "metadata": {},
   "source": [
    "#### c. `y_tol`: target using loose equality (`atol = 0.01`)"
   ]
  },
  {
   "cell_type": "code",
   "execution_count": 8,
   "metadata": {},
   "outputs": [
    {
     "name": "stdout",
     "output_type": "stream",
     "text": [
      "(32, 6)\n",
      "[0 0 0 0 0 1] 421\n",
      "[0 0 0 0 1 0] 360\n",
      "[0 0 0 1 0 0] 525\n",
      "[0 0 1 0 0 0] 242\n",
      "[0 1 0 0 0 0] 463\n",
      "[1 0 0 0 0 0] 2554\n"
     ]
    }
   ],
   "source": [
    "unique_rows_tol, counts_tol = np.unique(y_tol, axis=0,return_counts=True)\n",
    "print(unique_rows_tol.shape) \n",
    "for i in range(len(unique_rows_tol)):\n",
    "    if np.sum(unique_rows_tol[i]) == 1:\n",
    "        print(unique_rows_tol[i], counts_tol[i])"
   ]
  },
  {
   "cell_type": "code",
   "execution_count": null,
   "metadata": {},
   "outputs": [],
   "source": [
    "#tab_tol = show_patterns_tabulated(unique_rows_tol, counts_tol)\n"
   ]
  },
  {
   "cell_type": "code",
   "execution_count": 11,
   "metadata": {},
   "outputs": [
    {
     "name": "stdout",
     "output_type": "stream",
     "text": [
      "total class counts: {0: 2554, 1: 1568, 2: 1041, 3: 1477, 4: 1547, 5: 1558}\n"
     ]
    }
   ],
   "source": [
    "total_class_counts = {i:0 for i in range(6)}\n",
    "for a in range(len(counts_tol)):\n",
    "    for s in range(len(unique_rows_tol[a])):\n",
    "        if unique_rows_tol[a][s] == 1:\n",
    "            total_class_counts[s] += counts_tol[a]\n",
    "print(\"total class counts:\", total_class_counts)"
   ]
  },
  {
   "cell_type": "code",
   "execution_count": 11,
   "metadata": {},
   "outputs": [],
   "source": [
    "def get_total_class_counts(unique_rows, counts):\n",
    "    \"\"\"\n",
    "    Function to determine per class counts of appearances.\n",
    "    \"\"\"\n",
    "    total_class_counts = {i:0 for i in range(6)}\n",
    "    for a in range(len(counts)):\n",
    "        for s in range(len(unique_rows[a])):\n",
    "            if unique_rows[a][s] == 1:\n",
    "                total_class_counts[s] += counts[a]\n",
    "    print(\"total class counts:\", total_class_counts)"
   ]
  },
  {
   "cell_type": "code",
   "execution_count": 33,
   "metadata": {},
   "outputs": [],
   "source": [
    "def powerset(iterable):\n",
    "    \"powerset([1,2,3]) --> () (1,) (2,) (3,) (1,2) (1,3) (2,3) (1,2,3)\"\n",
    "    s = list(iterable)\n",
    "    return chain.from_iterable(combinations(s, r) for r in range(len(s)+1))"
   ]
  },
  {
   "cell_type": "code",
   "execution_count": 50,
   "metadata": {},
   "outputs": [],
   "source": [
    "def find_all_subpatterns(pattern):\n",
    "    \"\"\"\n",
    "    Function to return subpatterns from a pattern.\n",
    "    \"\"\"\n",
    "    argwhere1 = np.nonzero(pattern)\n",
    "    print(argwhere1, type(argwhere1))\n",
    "    sets = powerset(argwhere1)\n",
    "    print([s for s in sets])\n",
    "    subpatterns = []\n",
    "    for s in sets:\n",
    "        subp = np.ones(6)\n",
    "        subp[s] = 0 \n",
    "        subpatterns.append(subp)\n",
    "    return subpatterns\n"
   ]
  },
  {
   "cell_type": "code",
   "execution_count": 51,
   "metadata": {},
   "outputs": [
    {
     "name": "stdout",
     "output_type": "stream",
     "text": [
      "(array([0, 2, 4]),) <class 'tuple'>\n",
      "[(), (array([0, 2, 4]),)]\n"
     ]
    },
    {
     "data": {
      "text/plain": [
       "[]"
      ]
     },
     "execution_count": 51,
     "metadata": {},
     "output_type": "execute_result"
    }
   ],
   "source": [
    "find_all_subpatterns([1,0,1,0,1])"
   ]
  },
  {
   "cell_type": "code",
   "execution_count": null,
   "metadata": {},
   "outputs": [],
   "source": [
    "def show_patterns_grouped_tabulated(unique_rows, counts,):\n",
    "    pattern_counts = {}\n",
    "    pattern_counter = 1\n",
    "\n",
    "    for i in range(len(unique_rows)):\n",
    "        # Get pattern\n",
    "        pattern = unique_rows[i] \n",
    "        # Find where nonzero\n",
    "        wherenonzero = np.transpose(np.nonzero(a))\n",
    "        \n",
    "        for j in range(len(pattern)):\n",
    "            if pattern[j] == 1:\n",
    "                \n",
    "                "
   ]
  },
  {
   "cell_type": "code",
   "execution_count": 14,
   "metadata": {},
   "outputs": [],
   "source": [
    "def show_patterns_tabulated_div_by_class_counts(unique_rows, counts, total_class_counts):\n",
    "    \"\"\"\n",
    "    Function to display pattern groupings and return row counts.\n",
    "    \"\"\"\n",
    "    \n",
    "    counts_record = np.zeros_like(singlets)\n",
    "    for k in range(len(singlets)):\n",
    "        i = singlets[k]\n",
    "        print(\"pattern #\" , pattern_counter)\n",
    "        for a in range(len(unique_rows)):\n",
    "            if unique_rows[a][i] == 1:\n",
    "                counts_record[i] = np.round(counts[a]/total_class_counts[i], decimals=3)\n",
    "        pattern_counter += 1\n",
    "    sorted_arg = np.argsort(counts_record)\n",
    "    print(sorted_arg)\n",
    "    print(unique_rows[sorted_arg], counts_record[sorted_arg])\n",
    "        \n",
    "    \n",
    "    return pattern_counts"
   ]
  },
  {
   "cell_type": "code",
   "execution_count": 15,
   "metadata": {
    "scrolled": false
   },
   "outputs": [
    {
     "name": "stdout",
     "output_type": "stream",
     "text": [
      "pattern # 1\n",
      "pattern # 2\n",
      "pattern # 3\n",
      "pattern # 4\n",
      "pattern # 5\n",
      "pattern # 6\n",
      "[1 2 3 4 5 0]\n",
      "[[0 0 0 0 1 0]\n",
      " [0 0 0 0 1 1]\n",
      " [0 0 0 1 0 0]\n",
      " [0 0 0 1 0 1]\n",
      " [0 0 0 1 1 0]\n",
      " [0 0 0 0 0 1]] [0 0 0 0 0 1]\n"
     ]
    }
   ],
   "source": [
    "divclass = show_patterns_tabulated_div_by_class_counts(unique_rows_tol, counts_tol, total_class_counts)"
   ]
  },
  {
   "cell_type": "code",
   "execution_count": null,
   "metadata": {},
   "outputs": [],
   "source": []
  },
  {
   "cell_type": "code",
   "execution_count": null,
   "metadata": {},
   "outputs": [],
   "source": [
    "for k in range(len(pairs)):\n",
    "        i,j = pairs[k]\n",
    "        sum_for_pair = 0\n",
    "        vals_list = []\n",
    "        print(\"pattern #\" , pattern_counter)\n",
    "        for a in range(len(unique_rows)):\n",
    "            if unique_rows[a][i] == 1 and  unique_rows[a][j] == 1:\n",
    "                sum_for_pair += counts[a]\n",
    "                vals_list.append(counts[a])\n",
    "        for a in range(len(unique_rows)):\n",
    "            if unique_rows[a][i] == 1 and  unique_rows[a][j] == 1:\n",
    "             #   print(unique_rows[a], np.round(counts[a]/sum_for_pair, decimals=3))\n",
    "                counts_record[1].append(np.round(counts[a]/sum_for_pair, decimals=3))\n",
    "        print(\"sum for pair ({}, {}) = {} \\n\".format(i,j, sum_for_pair))\n",
    "        pattern_counts[(i,j)] = vals_list\n",
    "        pattern_counter +=1\n",
    "       # sorted_arg = np.unravel_index(np.argsort(counts_record[1]), shape=counts_record[1].shape)\n",
    "      #  sorted_arg = sorted(counts_record[1])\n",
    "        sorted_arg = np.argsort(counts_record[1])\n",
    "        print(unique_rows[sorted_arg], counts_record[sorted_arg])\n",
    "    \n",
    "    for k in range(len(triplets)):\n",
    "        i,j,k = triplets[k]\n",
    "        sum_for_triplet = 0\n",
    "        vals_list = []\n",
    "        print(\"pattern #\" , pattern_counter)\n",
    "        for a in range(len(unique_rows)):\n",
    "            if unique_rows[a][i] == 1 and  unique_rows[a][j] == 1 and unique_rows[a][k] == 1:\n",
    "                sum_for_triplet += counts[a]\n",
    "                vals_list.append(counts[a])\n",
    "        for a in range(len(unique_rows)):\n",
    "            if unique_rows[a][i] == 1 and  unique_rows[a][j] == 1 and unique_rows[a][k] == 1:\n",
    "              #  print(unique_rows[a], np.round(counts[a]/sum_for_triplet, decimals=3))\n",
    "                counts_record[2].append( np.round(counts[a]/sum_for_triplet, decimals=3))\n",
    "        print(\"sum for triplet({}, {}, {}) = {} \\n\".format(i,j,k, sum_for_triplet))\n",
    "        pattern_counts[(i,j,k)] = vals_list\n",
    "        pattern_counter +=1\n",
    "        #sorted_arg = np.unravel_index(np.argsort(counts_record[2]), shape=counts_record[2].shape)\n",
    "        sorted_arg = sorted(counts_record[2])\n",
    "        print(unique_rows[sorted_arg], counts_record[sorted_arg])\n",
    "    \n",
    "    for k in range(len(quads)):\n",
    "        i,j,k,m = quads[k]\n",
    "        sum_for_quad = 0\n",
    "        vals_list = []\n",
    "        print(\"pattern #\" , pattern_counter)\n",
    "        for a in range(len(unique_rows)):\n",
    "            case1 = (unique_rows[a][i] == 1 and  unique_rows[a][j] == 1)\n",
    "            case2 = (unique_rows[a][k] == 1 and unique_rows[a][m] == 1)\n",
    "            if case1 and case2:\n",
    "                sum_for_quad += counts[a]\n",
    "                vals_list.append(counts[a])\n",
    "        for a in range(len(unique_rows)):\n",
    "            case1 = (unique_rows[a][i] == 1 and  unique_rows[a][j] == 1)\n",
    "            case2 = (unique_rows[a][k] == 1 and unique_rows[a][m] == 1)\n",
    "            if case1 and case2:\n",
    "                counts_record[3].append(np.round(counts[a]/sum_for_quad, decimals=3))\n",
    "        print(\"sum for quad ({}, {}, {}, {}) = {} \\n\".format(i,j,k,m, sum_for_quad))\n",
    "        pattern_counts[(i,j,k,m)] = vals_list\n",
    "        pattern_counter +=1\n",
    "        sorted_arg = sorted(counts_record[3])\n",
    "        #sorted_arg = np.unravel_index(np.argsort(counts_record[3]), shape=counts_record[3].shape)\n",
    "        print(unique_rows[sorted_arg], counts_record[sorted_arg])\n",
    "    print(\"pattern #\" , pattern_counter)"
   ]
  },
  {
   "cell_type": "code",
   "execution_count": null,
   "metadata": {},
   "outputs": [],
   "source": []
  },
  {
   "cell_type": "code",
   "execution_count": null,
   "metadata": {},
   "outputs": [],
   "source": []
  },
  {
   "cell_type": "code",
   "execution_count": null,
   "metadata": {},
   "outputs": [],
   "source": []
  },
  {
   "cell_type": "code",
   "execution_count": null,
   "metadata": {},
   "outputs": [],
   "source": []
  },
  {
   "cell_type": "code",
   "execution_count": null,
   "metadata": {},
   "outputs": [],
   "source": [
    "for i in range(len(counts_tol)):\n",
    "    print(unique_rows_tol[i], counts_tol[i])"
   ]
  },
  {
   "cell_type": "code",
   "execution_count": null,
   "metadata": {},
   "outputs": [],
   "source": [
    "tol_pattern_counts = show_patterns_tabulated(unique_rows_tol, counts_tol)"
   ]
  },
  {
   "cell_type": "code",
   "execution_count": null,
   "metadata": {},
   "outputs": [],
   "source": []
  },
  {
   "cell_type": "code",
   "execution_count": null,
   "metadata": {},
   "outputs": [],
   "source": []
  }
 ],
 "metadata": {
  "kernelspec": {
   "display_name": "Python 3",
   "language": "python",
   "name": "python3"
  },
  "language_info": {
   "codemirror_mode": {
    "name": "ipython",
    "version": 3
   },
   "file_extension": ".py",
   "mimetype": "text/x-python",
   "name": "python",
   "nbconvert_exporter": "python",
   "pygments_lexer": "ipython3",
   "version": "3.7.8"
  }
 },
 "nbformat": 4,
 "nbformat_minor": 4
}
