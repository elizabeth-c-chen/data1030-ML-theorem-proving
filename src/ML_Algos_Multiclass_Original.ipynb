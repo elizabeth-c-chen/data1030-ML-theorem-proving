{
 "cells": [
  {
   "cell_type": "code",
   "execution_count": 1,
   "metadata": {},
   "outputs": [],
   "source": [
    "import pandas as pd\n",
    "import numpy as np\n",
    "import time\n",
    "import matplotlib.pylab  as plt\n",
    "\n",
    "from sklearn.compose import ColumnTransformer\n",
    "from sklearn.pipeline import Pipeline\n",
    "from sklearn.model_selection import train_test_split, KFold, GridSearchCV,  ParameterGrid\n",
    "from sklearn.preprocessing import MinMaxScaler, StandardScaler\n",
    "\n",
    "from sklearn.metrics import make_scorer\n",
    "from sklearn.metrics import f1_score, precision_score, recall_score, classification_report\n",
    "from sklearn.metrics import confusion_matrix\n",
    "\n",
    "from sklearn.linear_model import LogisticRegressionCV\n",
    "from sklearn.neighbors import KNeighborsClassifier\n",
    "from sklearn.svm import SVC\n",
    "from sklearn.ensemble import RandomForestClassifier\n",
    "from sklearn.feature_selection import f_classif, mutual_info_classif, SelectKBest\n",
    "from sklearn.dummy import DummyClassifier\n",
    "from sklearn.utils.multiclass import unique_labels\n"
   ]
  },
  {
   "cell_type": "code",
   "execution_count": 2,
   "metadata": {},
   "outputs": [],
   "source": [
    "features = pd.read_csv('../data/features_plus_descriptions.csv')\n",
    "features.set_index('Feature Type and Number', inplace=True)\n",
    "features.drop(['S5', 'D21'], axis=0, inplace=True)"
   ]
  },
  {
   "cell_type": "code",
   "execution_count": 3,
   "metadata": {},
   "outputs": [],
   "source": [
    "df = pd.read_csv('../data/multiclass_raw_data.csv')\n",
    "X = df.loc[:,features.index]\n",
    "y = df['Best Heuristic']"
   ]
  },
  {
   "cell_type": "code",
   "execution_count": 4,
   "metadata": {},
   "outputs": [
    {
     "name": "stdout",
     "output_type": "stream",
     "text": [
      "MinMax Scaler Features:  ['S1', 'S3', 'S4', 'S6', 'S8', 'S11', 'S12', 'D3', 'D39']\n",
      "Standard Scaler Features:  ['S2', 'S7', 'S9', 'S10', 'S13', 'S14', 'D1', 'D2', 'D4', 'D5', 'D6', 'D7', 'D8', 'D9', 'D10', 'D11', 'D12', 'D13', 'D14', 'D15', 'D16', 'D17', 'D18', 'D19', 'D20', 'D22', 'D23', 'D24', 'D25', 'D26', 'D27', 'D28', 'D29', 'D30', 'D31', 'D32', 'D33', 'D34', 'D35', 'D36', 'D37', 'D38']\n"
     ]
    }
   ],
   "source": [
    "types = dict.fromkeys(features.index, 'stdsc')\n",
    "mm_feats = ['S1','S3', 'S4', 'S6', 'S8','S11', 'S12', 'D3', 'D39']\n",
    "\n",
    "for feat in mm_feats:\n",
    "    types[feat] = 'minmax'\n",
    "\n",
    "minmax_feats = []\n",
    "std_feats = []\n",
    "\n",
    "for feat in types.keys():\n",
    "    if types[feat] == 'stdsc':\n",
    "        std_feats.append(feat)\n",
    "    elif types[feat] == 'minmax':\n",
    "        minmax_feats.append(feat)\n",
    "\n",
    "print('MinMax Scaler Features: ', minmax_feats)\n",
    "print('Standard Scaler Features: ', std_feats)\n",
    "\n",
    "preprocessor = ColumnTransformer(\n",
    "    transformers=[\n",
    "        ('mm_scaler', MinMaxScaler(), minmax_feats),\n",
    "        ('std_scaler', StandardScaler(), std_feats)])"
   ]
  },
  {
   "cell_type": "code",
   "execution_count": 7,
   "metadata": {},
   "outputs": [],
   "source": [
    "def plot_confusion_matrix(y_true, y_pred, classes,\n",
    "                          normalize=False,\n",
    "                          title=None,\n",
    "                          cmap=plt.cm.Blues):\n",
    "    \"\"\"\n",
    "    This function prints and plots the confusion matrix.\n",
    "    Normalization can be applied by setting `normalize=True`.\n",
    "    \"\"\"\n",
    "    if not title:\n",
    "        if normalize:\n",
    "            title = 'Normalized confusion matrix'\n",
    "        else:\n",
    "            title = 'Confusion matrix, without normalization'\n",
    "    plt.rcParams['figure.dpi'] = 300\n",
    "    plt.rcParams['figure.figsize'] = (8,8)\n",
    "    plt.rcParams['font.size'] = 8\n",
    "    # Compute confusion matrix\n",
    "    cm = confusion_matrix(y_true, y_pred)\n",
    "    # Only use the labels that appear in the data\n",
    "  #  classes = np.array(classes)\n",
    "  #  classes = classes[unique_labels(y_true, y_pred)]\n",
    "    if normalize:\n",
    "        cm = cm.astype('float') / cm.sum(axis=1)[:, np.newaxis]\n",
    "    plt.figure(figsize=(10,10))    \n",
    "    fig, ax = plt.subplots()\n",
    "    im = ax.imshow(cm, interpolation='nearest', cmap=cmap)\n",
    "    ax.figure.colorbar(im, ax=ax)\n",
    "    # We want to show all ticks...\n",
    "    ax.set(xticks=np.arange(cm.shape[1]),\n",
    "           yticks=np.arange(cm.shape[0]),\n",
    "           # ... and label them with the respective list entries\n",
    "           xticklabels=classes, yticklabels=classes,\n",
    "           title=title,\n",
    "           ylabel='True label',\n",
    "           xlabel='Predicted label')\n",
    "\n",
    "    # Rotate the tick labels and set their alignment.\n",
    "    plt.setp(ax.get_xticklabels(), rotation=45, ha=\"right\",\n",
    "             rotation_mode=\"anchor\")\n",
    "\n",
    "    # Loop over data dimensions and create text annotations.\n",
    "    fmt = '.2f' if normalize else 'd'\n",
    "    thresh = cm.max() / 2.\n",
    "    for i in range(cm.shape[0]):\n",
    "        for j in range(cm.shape[1]):\n",
    "            ax.text(j, i, format(cm[i, j], fmt),\n",
    "                    ha=\"center\", va=\"center\",\n",
    "                    color=\"white\" if cm[i, j] > thresh else \"black\")\n",
    "    fig.tight_layout()\n",
    "    return ax\n"
   ]
  },
  {
   "cell_type": "code",
   "execution_count": 12,
   "metadata": {},
   "outputs": [],
   "source": [
    "def ML_pipeline_KFold_orig(X, y, preprocessor, ML_algo, param_grid, verbose=5):\n",
    "    \"\"\"\n",
    "    This function splits the data into other and test sets (80-20 split) and\n",
    "    then applies KFold with 4 folds to other set. \n",
    "    \"\"\"\n",
    "    prec_scores = []\n",
    "    rec_scores = []\n",
    "    f1_scores = []\n",
    "    best_models = []\n",
    "    ys = []\n",
    "    for i in range(10):\n",
    "        random_state = 431*i\n",
    "        X_other, X_test, y_other, y_test = train_test_split(X, y, test_size = 0.2, random_state=random_state)\n",
    "        kf = KFold(n_splits=4, shuffle=True, random_state=random_state)\n",
    "        clf = Pipeline([\n",
    "        ('preprocessor', preprocessor), \n",
    "        ('clf', ML_algo)\n",
    "        ])\n",
    "        grid = GridSearchCV(clf, param_grid, scoring='f1_macro',cv=kf,  return_train_score=True, verbose=verbose, n_jobs=-2)  \n",
    "        grid.fit(X_other, y_other)\n",
    "        y_pred = grid.predict(X_test)\n",
    "        prec = precision_score(y_test, y_pred, average=\"macro\")\n",
    "        rec = recall_score(y_test, y_pred, average=\"macro\")\n",
    "        f1 = f1_score(y_test, y_pred, average=\"macro\")\n",
    "        best_models.append(grid.best_params_)\n",
    "        print(\"best params\", grid.best_params_, \"precision score\", prec, \"recall score\", rec, \"f1 score\", f1)\n",
    "        prec_scores.append(prec)\n",
    "        rec_scores.append(rec)\n",
    "        f1_scores.append(f1)\n",
    "        ys.append((y_test, y_pred, [0,1,2,3,4,5]))\n",
    "    return [prec_scores, rec_scores, f1_scores], best_models, ys\n"
   ]
  },
  {
   "cell_type": "code",
   "execution_count": 14,
   "metadata": {},
   "outputs": [
    {
     "name": "stdout",
     "output_type": "stream",
     "text": [
      "Fitting 4 folds for each of 5 candidates, totalling 20 fits\n"
     ]
    },
    {
     "name": "stderr",
     "output_type": "stream",
     "text": [
      "[Parallel(n_jobs=-2)]: Using backend LokyBackend with 7 concurrent workers.\n",
      "[Parallel(n_jobs=-2)]: Done   4 tasks      | elapsed:    0.1s\n",
      "[Parallel(n_jobs=-2)]: Done  12 out of  20 | elapsed:    0.2s remaining:    0.1s\n",
      "[Parallel(n_jobs=-2)]: Done  17 out of  20 | elapsed:    0.2s remaining:    0.0s\n",
      "[Parallel(n_jobs=-2)]: Done  20 out of  20 | elapsed:    0.2s finished\n"
     ]
    },
    {
     "name": "stdout",
     "output_type": "stream",
     "text": [
      "best params {'clf__strategy': 'stratified'} precision score 0.16085250607295476 recall score 0.1592900141426715 f1 score 0.15969082402156906\n",
      "Fitting 4 folds for each of 5 candidates, totalling 20 fits\n"
     ]
    },
    {
     "name": "stderr",
     "output_type": "stream",
     "text": [
      "[Parallel(n_jobs=-2)]: Using backend LokyBackend with 7 concurrent workers.\n",
      "[Parallel(n_jobs=-2)]: Done   4 tasks      | elapsed:    0.1s\n",
      "[Parallel(n_jobs=-2)]: Done  12 out of  20 | elapsed:    0.1s remaining:    0.1s\n",
      "[Parallel(n_jobs=-2)]: Done  17 out of  20 | elapsed:    0.1s remaining:    0.0s\n",
      "[Parallel(n_jobs=-2)]: Done  20 out of  20 | elapsed:    0.1s finished\n"
     ]
    },
    {
     "name": "stdout",
     "output_type": "stream",
     "text": [
      "best params {'clf__strategy': 'stratified'} precision score 0.17741591916081279 recall score 0.17696492699534658 f1 score 0.17673945704676464\n",
      "Fitting 4 folds for each of 5 candidates, totalling 20 fits\n"
     ]
    },
    {
     "name": "stderr",
     "output_type": "stream",
     "text": [
      "[Parallel(n_jobs=-2)]: Using backend LokyBackend with 7 concurrent workers.\n",
      "[Parallel(n_jobs=-2)]: Done   4 tasks      | elapsed:    0.1s\n",
      "[Parallel(n_jobs=-2)]: Done  12 out of  20 | elapsed:    0.1s remaining:    0.1s\n",
      "[Parallel(n_jobs=-2)]: Done  17 out of  20 | elapsed:    0.1s remaining:    0.0s\n",
      "[Parallel(n_jobs=-2)]: Done  20 out of  20 | elapsed:    0.1s finished\n"
     ]
    },
    {
     "name": "stdout",
     "output_type": "stream",
     "text": [
      "best params {'clf__strategy': 'stratified'} precision score 0.16471171584545677 recall score 0.1640692268665543 f1 score 0.16405396454279914\n",
      "Fitting 4 folds for each of 5 candidates, totalling 20 fits\n"
     ]
    },
    {
     "name": "stderr",
     "output_type": "stream",
     "text": [
      "[Parallel(n_jobs=-2)]: Using backend LokyBackend with 7 concurrent workers.\n",
      "[Parallel(n_jobs=-2)]: Done   4 tasks      | elapsed:    0.1s\n",
      "[Parallel(n_jobs=-2)]: Done  12 out of  20 | elapsed:    0.1s remaining:    0.1s\n",
      "[Parallel(n_jobs=-2)]: Done  17 out of  20 | elapsed:    0.1s remaining:    0.0s\n",
      "[Parallel(n_jobs=-2)]: Done  20 out of  20 | elapsed:    0.1s finished\n"
     ]
    },
    {
     "name": "stdout",
     "output_type": "stream",
     "text": [
      "best params {'clf__strategy': 'stratified'} precision score 0.16614553071623697 recall score 0.1684608963686162 f1 score 0.1662625375913506\n",
      "Fitting 4 folds for each of 5 candidates, totalling 20 fits\n"
     ]
    },
    {
     "name": "stderr",
     "output_type": "stream",
     "text": [
      "[Parallel(n_jobs=-2)]: Using backend LokyBackend with 7 concurrent workers.\n",
      "[Parallel(n_jobs=-2)]: Done   4 tasks      | elapsed:    0.1s\n",
      "[Parallel(n_jobs=-2)]: Done  12 out of  20 | elapsed:    0.2s remaining:    0.1s\n",
      "[Parallel(n_jobs=-2)]: Done  17 out of  20 | elapsed:    0.2s remaining:    0.0s\n",
      "[Parallel(n_jobs=-2)]: Done  20 out of  20 | elapsed:    0.2s finished\n"
     ]
    },
    {
     "name": "stdout",
     "output_type": "stream",
     "text": [
      "best params {'clf__strategy': 'stratified'} precision score 0.17623865741686615 recall score 0.17670581748344924 f1 score 0.17619903185737204\n",
      "Fitting 4 folds for each of 5 candidates, totalling 20 fits\n"
     ]
    },
    {
     "name": "stderr",
     "output_type": "stream",
     "text": [
      "[Parallel(n_jobs=-2)]: Using backend LokyBackend with 7 concurrent workers.\n",
      "[Parallel(n_jobs=-2)]: Done   4 tasks      | elapsed:    0.1s\n",
      "[Parallel(n_jobs=-2)]: Done  12 out of  20 | elapsed:    0.1s remaining:    0.1s\n",
      "[Parallel(n_jobs=-2)]: Done  17 out of  20 | elapsed:    0.1s remaining:    0.0s\n",
      "[Parallel(n_jobs=-2)]: Done  20 out of  20 | elapsed:    0.1s finished\n"
     ]
    },
    {
     "name": "stdout",
     "output_type": "stream",
     "text": [
      "best params {'clf__strategy': 'stratified'} precision score 0.15400857970725454 recall score 0.15465921945041392 f1 score 0.15417841117638276\n",
      "Fitting 4 folds for each of 5 candidates, totalling 20 fits\n"
     ]
    },
    {
     "name": "stderr",
     "output_type": "stream",
     "text": [
      "[Parallel(n_jobs=-2)]: Using backend LokyBackend with 7 concurrent workers.\n",
      "[Parallel(n_jobs=-2)]: Done   4 tasks      | elapsed:    0.1s\n",
      "[Parallel(n_jobs=-2)]: Done  12 out of  20 | elapsed:    0.1s remaining:    0.1s\n",
      "[Parallel(n_jobs=-2)]: Done  17 out of  20 | elapsed:    0.1s remaining:    0.0s\n",
      "[Parallel(n_jobs=-2)]: Done  20 out of  20 | elapsed:    0.1s finished\n"
     ]
    },
    {
     "name": "stdout",
     "output_type": "stream",
     "text": [
      "best params {'clf__strategy': 'stratified'} precision score 0.15057841810976882 recall score 0.15154717643654705 f1 score 0.15075802627295912\n",
      "Fitting 4 folds for each of 5 candidates, totalling 20 fits\n"
     ]
    },
    {
     "name": "stderr",
     "output_type": "stream",
     "text": [
      "[Parallel(n_jobs=-2)]: Using backend LokyBackend with 7 concurrent workers.\n",
      "[Parallel(n_jobs=-2)]: Done   4 tasks      | elapsed:    0.1s\n",
      "[Parallel(n_jobs=-2)]: Done  12 out of  20 | elapsed:    0.1s remaining:    0.1s\n",
      "[Parallel(n_jobs=-2)]: Done  17 out of  20 | elapsed:    0.1s remaining:    0.0s\n",
      "[Parallel(n_jobs=-2)]: Done  20 out of  20 | elapsed:    0.1s finished\n"
     ]
    },
    {
     "name": "stdout",
     "output_type": "stream",
     "text": [
      "best params {'clf__strategy': 'stratified'} precision score 0.1758979663085111 recall score 0.17589659314300934 f1 score 0.17537161576641316\n",
      "Fitting 4 folds for each of 5 candidates, totalling 20 fits\n"
     ]
    },
    {
     "name": "stderr",
     "output_type": "stream",
     "text": [
      "[Parallel(n_jobs=-2)]: Using backend LokyBackend with 7 concurrent workers.\n",
      "[Parallel(n_jobs=-2)]: Done   4 tasks      | elapsed:    0.1s\n",
      "[Parallel(n_jobs=-2)]: Done  12 out of  20 | elapsed:    0.1s remaining:    0.1s\n",
      "[Parallel(n_jobs=-2)]: Done  17 out of  20 | elapsed:    0.2s remaining:    0.0s\n",
      "[Parallel(n_jobs=-2)]: Done  20 out of  20 | elapsed:    0.2s finished\n"
     ]
    },
    {
     "name": "stdout",
     "output_type": "stream",
     "text": [
      "best params {'clf__strategy': 'stratified'} precision score 0.17048505804852213 recall score 0.16969996949310326 f1 score 0.1693875489843751\n",
      "Fitting 4 folds for each of 5 candidates, totalling 20 fits\n"
     ]
    },
    {
     "name": "stderr",
     "output_type": "stream",
     "text": [
      "[Parallel(n_jobs=-2)]: Using backend LokyBackend with 7 concurrent workers.\n",
      "[Parallel(n_jobs=-2)]: Done   4 tasks      | elapsed:    0.1s\n",
      "[Parallel(n_jobs=-2)]: Done  12 out of  20 | elapsed:    0.1s remaining:    0.1s\n",
      "[Parallel(n_jobs=-2)]: Done  17 out of  20 | elapsed:    0.1s remaining:    0.0s\n",
      "[Parallel(n_jobs=-2)]: Done  20 out of  20 | elapsed:    0.1s finished\n"
     ]
    },
    {
     "name": "stdout",
     "output_type": "stream",
     "text": [
      "best params {'clf__strategy': 'stratified'} precision score 0.16058003945184876 recall score 0.1597304678691994 f1 score 0.16002044564388265\n",
      "dummy precision: 0.1657 +/- 0.0089\n",
      "dummy recall: 0.1657 +/- 0.0088\n",
      "dummy f1 score: 0.1653 +/- 0.0087\n"
     ]
    }
   ],
   "source": [
    "ML_algo = DummyClassifier(strategy=\"uniform\")\n",
    "param_grid = { 'clf__strategy':  [\"stratified\", \"most_frequent\", \"prior\", \"uniform\", \"constant\"] }\n",
    "\n",
    "scores_dummy, models_dummy, ys_dummy = ML_pipeline_KFold_orig(X, y, preprocessor, ML_algo, param_grid)\n",
    "\n",
    "names = ['precision', 'recall', 'f1 score']\n",
    "\n",
    "for i, s in enumerate(scores_dummy):\n",
    "    print('dummy {}:'.format(names[i]), np.round(np.mean(s), decimals=4), '+/-', np.round(np.std(s), decimals=4))"
   ]
  },
  {
   "cell_type": "code",
   "execution_count": 20,
   "metadata": {
    "scrolled": true
   },
   "outputs": [
    {
     "name": "stdout",
     "output_type": "stream",
     "text": [
      "Fitting 4 folds for each of 48 candidates, totalling 192 fits\n"
     ]
    },
    {
     "name": "stderr",
     "output_type": "stream",
     "text": [
      "[Parallel(n_jobs=-2)]: Using backend LokyBackend with 7 concurrent workers.\n",
      "[Parallel(n_jobs=-2)]: Done   4 tasks      | elapsed:    3.3s\n",
      "[Parallel(n_jobs=-2)]: Done  58 tasks      | elapsed:   43.0s\n",
      "[Parallel(n_jobs=-2)]: Done 148 tasks      | elapsed:  1.8min\n",
      "[Parallel(n_jobs=-2)]: Done 192 out of 192 | elapsed:  2.4min finished\n"
     ]
    },
    {
     "name": "stdout",
     "output_type": "stream",
     "text": [
      "best params {'clf__max_depth': 20, 'clf__max_features': 25} precision score 0.5284413291334079 recall score 0.5097200982486344 f1 score 0.516700439325986\n",
      "Fitting 4 folds for each of 48 candidates, totalling 192 fits\n"
     ]
    },
    {
     "name": "stderr",
     "output_type": "stream",
     "text": [
      "[Parallel(n_jobs=-2)]: Using backend LokyBackend with 7 concurrent workers.\n",
      "[Parallel(n_jobs=-2)]: Done   4 tasks      | elapsed:    2.5s\n",
      "[Parallel(n_jobs=-2)]: Done  58 tasks      | elapsed:   42.4s\n",
      "[Parallel(n_jobs=-2)]: Done 148 tasks      | elapsed:  1.8min\n",
      "[Parallel(n_jobs=-2)]: Done 192 out of 192 | elapsed:  2.4min finished\n"
     ]
    },
    {
     "name": "stdout",
     "output_type": "stream",
     "text": [
      "best params {'clf__max_depth': 25, 'clf__max_features': 30} precision score 0.5470399218744088 recall score 0.5186353845465365 f1 score 0.5286331742512159\n",
      "Fitting 4 folds for each of 48 candidates, totalling 192 fits\n"
     ]
    },
    {
     "name": "stderr",
     "output_type": "stream",
     "text": [
      "[Parallel(n_jobs=-2)]: Using backend LokyBackend with 7 concurrent workers.\n",
      "[Parallel(n_jobs=-2)]: Done   4 tasks      | elapsed:    2.5s\n",
      "[Parallel(n_jobs=-2)]: Done  58 tasks      | elapsed:   42.1s\n",
      "[Parallel(n_jobs=-2)]: Done 148 tasks      | elapsed:  1.8min\n",
      "[Parallel(n_jobs=-2)]: Done 192 out of 192 | elapsed:  2.4min finished\n"
     ]
    },
    {
     "name": "stdout",
     "output_type": "stream",
     "text": [
      "best params {'clf__max_depth': 30, 'clf__max_features': 45} precision score 0.5421965693996346 recall score 0.5152330835905438 f1 score 0.525201154817523\n",
      "Fitting 4 folds for each of 48 candidates, totalling 192 fits\n"
     ]
    },
    {
     "name": "stderr",
     "output_type": "stream",
     "text": [
      "[Parallel(n_jobs=-2)]: Using backend LokyBackend with 7 concurrent workers.\n",
      "[Parallel(n_jobs=-2)]: Done   4 tasks      | elapsed:    2.6s\n",
      "[Parallel(n_jobs=-2)]: Done  58 tasks      | elapsed:   43.6s\n",
      "[Parallel(n_jobs=-2)]: Done 148 tasks      | elapsed:  1.8min\n",
      "[Parallel(n_jobs=-2)]: Done 192 out of 192 | elapsed:  2.5min finished\n"
     ]
    },
    {
     "name": "stdout",
     "output_type": "stream",
     "text": [
      "best params {'clf__max_depth': 25, 'clf__max_features': 20} precision score 0.5287297987502864 recall score 0.51139944343931 f1 score 0.518213518373923\n",
      "Fitting 4 folds for each of 48 candidates, totalling 192 fits\n"
     ]
    },
    {
     "name": "stderr",
     "output_type": "stream",
     "text": [
      "[Parallel(n_jobs=-2)]: Using backend LokyBackend with 7 concurrent workers.\n",
      "[Parallel(n_jobs=-2)]: Done   4 tasks      | elapsed:    2.5s\n",
      "[Parallel(n_jobs=-2)]: Done  58 tasks      | elapsed:   43.2s\n",
      "[Parallel(n_jobs=-2)]: Done 148 tasks      | elapsed:  1.8min\n",
      "[Parallel(n_jobs=-2)]: Done 192 out of 192 | elapsed:  2.5min finished\n"
     ]
    },
    {
     "name": "stdout",
     "output_type": "stream",
     "text": [
      "best params {'clf__max_depth': 40, 'clf__max_features': 45} precision score 0.5340548931541579 recall score 0.5046988108530209 f1 score 0.5165674937703708\n",
      "Fitting 4 folds for each of 48 candidates, totalling 192 fits\n"
     ]
    },
    {
     "name": "stderr",
     "output_type": "stream",
     "text": [
      "[Parallel(n_jobs=-2)]: Using backend LokyBackend with 7 concurrent workers.\n",
      "[Parallel(n_jobs=-2)]: Done   4 tasks      | elapsed:    2.5s\n",
      "[Parallel(n_jobs=-2)]: Done  58 tasks      | elapsed:   43.0s\n",
      "[Parallel(n_jobs=-2)]: Done 148 tasks      | elapsed:  1.8min\n",
      "[Parallel(n_jobs=-2)]: Done 192 out of 192 | elapsed:  2.4min finished\n"
     ]
    },
    {
     "name": "stdout",
     "output_type": "stream",
     "text": [
      "best params {'clf__max_depth': 30, 'clf__max_features': 35} precision score 0.5323666295582387 recall score 0.5110985862187565 f1 score 0.5197478859179984\n",
      "Fitting 4 folds for each of 48 candidates, totalling 192 fits\n"
     ]
    },
    {
     "name": "stderr",
     "output_type": "stream",
     "text": [
      "[Parallel(n_jobs=-2)]: Using backend LokyBackend with 7 concurrent workers.\n",
      "[Parallel(n_jobs=-2)]: Done   4 tasks      | elapsed:    2.5s\n",
      "[Parallel(n_jobs=-2)]: Done  58 tasks      | elapsed:   43.1s\n",
      "[Parallel(n_jobs=-2)]: Done 148 tasks      | elapsed:  1.8min\n",
      "[Parallel(n_jobs=-2)]: Done 192 out of 192 | elapsed:  2.4min finished\n"
     ]
    },
    {
     "name": "stdout",
     "output_type": "stream",
     "text": [
      "best params {'clf__max_depth': 35, 'clf__max_features': 45} precision score 0.5527291521765695 recall score 0.5211241774028249 f1 score 0.534249291824065\n",
      "Fitting 4 folds for each of 48 candidates, totalling 192 fits\n"
     ]
    },
    {
     "name": "stderr",
     "output_type": "stream",
     "text": [
      "[Parallel(n_jobs=-2)]: Using backend LokyBackend with 7 concurrent workers.\n",
      "[Parallel(n_jobs=-2)]: Done   4 tasks      | elapsed:    2.6s\n",
      "[Parallel(n_jobs=-2)]: Done  58 tasks      | elapsed:   43.5s\n",
      "[Parallel(n_jobs=-2)]: Done 148 tasks      | elapsed:  1.9min\n",
      "[Parallel(n_jobs=-2)]: Done 192 out of 192 | elapsed:  2.5min finished\n"
     ]
    },
    {
     "name": "stdout",
     "output_type": "stream",
     "text": [
      "best params {'clf__max_depth': 30, 'clf__max_features': 45} precision score 0.5295159419766651 recall score 0.508415699551794 f1 score 0.5169835598288149\n",
      "Fitting 4 folds for each of 48 candidates, totalling 192 fits\n"
     ]
    },
    {
     "name": "stderr",
     "output_type": "stream",
     "text": [
      "[Parallel(n_jobs=-2)]: Using backend LokyBackend with 7 concurrent workers.\n",
      "[Parallel(n_jobs=-2)]: Done   4 tasks      | elapsed:    2.6s\n",
      "[Parallel(n_jobs=-2)]: Done  58 tasks      | elapsed:   42.9s\n",
      "[Parallel(n_jobs=-2)]: Done 148 tasks      | elapsed:  1.8min\n",
      "[Parallel(n_jobs=-2)]: Done 192 out of 192 | elapsed:  2.4min finished\n"
     ]
    },
    {
     "name": "stdout",
     "output_type": "stream",
     "text": [
      "best params {'clf__max_depth': 20, 'clf__max_features': 20} precision score 0.5250625593898829 recall score 0.4948143336774307 f1 score 0.5062824418156\n",
      "Fitting 4 folds for each of 48 candidates, totalling 192 fits\n"
     ]
    },
    {
     "name": "stderr",
     "output_type": "stream",
     "text": [
      "[Parallel(n_jobs=-2)]: Using backend LokyBackend with 7 concurrent workers.\n",
      "[Parallel(n_jobs=-2)]: Done   4 tasks      | elapsed:    2.5s\n",
      "[Parallel(n_jobs=-2)]: Done  58 tasks      | elapsed:   42.2s\n",
      "[Parallel(n_jobs=-2)]: Done 148 tasks      | elapsed:  1.8min\n",
      "[Parallel(n_jobs=-2)]: Done 192 out of 192 | elapsed:  2.4min finished\n"
     ]
    },
    {
     "name": "stdout",
     "output_type": "stream",
     "text": [
      "best params {'clf__max_depth': 20, 'clf__max_features': 25} precision score 0.5263543973415287 recall score 0.48984054928244336 f1 score 0.5040048195920903\n"
     ]
    }
   ],
   "source": [
    "param_grid = { 'clf__max_depth': [15, 20, 25, 30, 35, 40], \n",
    "               'clf__max_features':[15, 20, 25, 30, 35, 40, 45, 51] }\n",
    "\n",
    "ML_algo = RandomForestClassifier()\n",
    "pg = ParameterGrid(param_grid)\n",
    "scores_RF, models_RF, ys_RF = ML_pipeline_KFold_orig(X, y, preprocessor, ML_algo, param_grid)"
   ]
  },
  {
   "cell_type": "code",
   "execution_count": 22,
   "metadata": {
    "scrolled": true
   },
   "outputs": [
    {
     "name": "stdout",
     "output_type": "stream",
     "text": [
      "Random Forest precision: 0.5346 +/- 0.009\n",
      "      0.5284413291334079\n",
      "      0.5470399218744088\n",
      "      0.5421965693996346\n",
      "      0.5287297987502864\n",
      "      0.5340548931541579\n",
      "      0.5323666295582387\n",
      "      0.5527291521765695\n",
      "      0.5295159419766651\n",
      "      0.5250625593898829\n",
      "      0.5263543973415287\n",
      "Random Forest recall: 0.5085 +/- 0.0093\n",
      "      0.5097200982486344\n",
      "      0.5186353845465365\n",
      "      0.5152330835905438\n",
      "      0.51139944343931\n",
      "      0.5046988108530209\n",
      "      0.5110985862187565\n",
      "      0.5211241774028249\n",
      "      0.508415699551794\n",
      "      0.4948143336774307\n",
      "      0.48984054928244336\n",
      "Random Forest f1 score: 0.5187 +/- 0.0088\n",
      "      0.516700439325986\n",
      "      0.5286331742512159\n",
      "      0.525201154817523\n",
      "      0.518213518373923\n",
      "      0.5165674937703708\n",
      "      0.5197478859179984\n",
      "      0.534249291824065\n",
      "      0.5169835598288149\n",
      "      0.5062824418156\n",
      "      0.5040048195920903\n",
      "{'clf__max_depth': 20, 'clf__max_features': 25}\n",
      "{'clf__max_depth': 25, 'clf__max_features': 30}\n",
      "{'clf__max_depth': 30, 'clf__max_features': 45}\n",
      "{'clf__max_depth': 25, 'clf__max_features': 20}\n",
      "{'clf__max_depth': 40, 'clf__max_features': 45}\n",
      "{'clf__max_depth': 30, 'clf__max_features': 35}\n",
      "{'clf__max_depth': 35, 'clf__max_features': 45}\n",
      "{'clf__max_depth': 30, 'clf__max_features': 45}\n",
      "{'clf__max_depth': 20, 'clf__max_features': 20}\n",
      "{'clf__max_depth': 20, 'clf__max_features': 25}\n"
     ]
    }
   ],
   "source": [
    "names = ['precision', 'recall', 'f1 score']\n",
    "\n",
    "for i, s in enumerate(scores_RF):\n",
    "    print('Random Forest {}:'.format(names[i]), np.round(np.mean(s), decimals=4), '+/-', np.round(np.std(s), decimals=4))\n",
    "    for j in range(len(s)):\n",
    "        print('     ', s[j])\n",
    "for m in models_RF: \n",
    "    print(m)\n"
   ]
  },
  {
   "cell_type": "code",
   "execution_count": 26,
   "metadata": {},
   "outputs": [
    {
     "name": "stdout",
     "output_type": "stream",
     "text": [
      "6 0.534249291824065\n",
      "{'clf__max_depth': 35, 'clf__max_features': 45}\n"
     ]
    }
   ],
   "source": [
    "print(np.argmax(scores_RF[2]), np.max(scores_RF[2]))\n",
    "print(models_RF[np.argmax(scores_RF[2])])"
   ]
  },
  {
   "cell_type": "code",
   "execution_count": 28,
   "metadata": {},
   "outputs": [
    {
     "name": "stdout",
     "output_type": "stream",
     "text": [
      "Fitting 4 folds for each of 16 candidates, totalling 64 fits\n"
     ]
    },
    {
     "name": "stderr",
     "output_type": "stream",
     "text": [
      "[Parallel(n_jobs=-2)]: Using backend LokyBackend with 7 concurrent workers.\n",
      "[Parallel(n_jobs=-2)]: Done   4 tasks      | elapsed:    1.4s\n",
      "[Parallel(n_jobs=-2)]: Done  64 out of  64 | elapsed:    8.8s remaining:    0.0s\n",
      "[Parallel(n_jobs=-2)]: Done  64 out of  64 | elapsed:    8.8s finished\n"
     ]
    },
    {
     "name": "stdout",
     "output_type": "stream",
     "text": [
      "best params {'clf__n_neighbors': 20, 'clf__weights': 'distance'} precision score 0.49446774037709823 recall score 0.46972054688762527 f1 score 0.4780951095144126\n",
      "Fitting 4 folds for each of 16 candidates, totalling 64 fits\n"
     ]
    },
    {
     "name": "stderr",
     "output_type": "stream",
     "text": [
      "[Parallel(n_jobs=-2)]: Using backend LokyBackend with 7 concurrent workers.\n",
      "[Parallel(n_jobs=-2)]: Done   4 tasks      | elapsed:    0.6s\n",
      "[Parallel(n_jobs=-2)]: Done  64 out of  64 | elapsed:    7.6s remaining:    0.0s\n",
      "[Parallel(n_jobs=-2)]: Done  64 out of  64 | elapsed:    7.6s finished\n",
      "[Parallel(n_jobs=-2)]: Using backend LokyBackend with 7 concurrent workers.\n"
     ]
    },
    {
     "name": "stdout",
     "output_type": "stream",
     "text": [
      "best params {'clf__n_neighbors': 15, 'clf__weights': 'distance'} precision score 0.5186984539287631 recall score 0.47958883730297 f1 score 0.4921345925425109\n",
      "Fitting 4 folds for each of 16 candidates, totalling 64 fits\n"
     ]
    },
    {
     "name": "stderr",
     "output_type": "stream",
     "text": [
      "[Parallel(n_jobs=-2)]: Done   4 tasks      | elapsed:    0.6s\n",
      "[Parallel(n_jobs=-2)]: Done  64 out of  64 | elapsed:    8.0s remaining:    0.0s\n",
      "[Parallel(n_jobs=-2)]: Done  64 out of  64 | elapsed:    8.0s finished\n"
     ]
    },
    {
     "name": "stdout",
     "output_type": "stream",
     "text": [
      "best params {'clf__n_neighbors': 10, 'clf__weights': 'distance'} precision score 0.5129687248686113 recall score 0.4886230903752485 f1 score 0.4983734285577622\n",
      "Fitting 4 folds for each of 16 candidates, totalling 64 fits\n"
     ]
    },
    {
     "name": "stderr",
     "output_type": "stream",
     "text": [
      "[Parallel(n_jobs=-2)]: Using backend LokyBackend with 7 concurrent workers.\n",
      "[Parallel(n_jobs=-2)]: Done   4 tasks      | elapsed:    0.6s\n",
      "[Parallel(n_jobs=-2)]: Done  64 out of  64 | elapsed:    7.9s remaining:    0.0s\n",
      "[Parallel(n_jobs=-2)]: Done  64 out of  64 | elapsed:    7.9s finished\n"
     ]
    },
    {
     "name": "stdout",
     "output_type": "stream",
     "text": [
      "best params {'clf__n_neighbors': 20, 'clf__weights': 'distance'} precision score 0.5005950550905848 recall score 0.4663742970604818 f1 score 0.47608189600419865\n",
      "Fitting 4 folds for each of 16 candidates, totalling 64 fits\n"
     ]
    },
    {
     "name": "stderr",
     "output_type": "stream",
     "text": [
      "[Parallel(n_jobs=-2)]: Using backend LokyBackend with 7 concurrent workers.\n",
      "[Parallel(n_jobs=-2)]: Done   4 tasks      | elapsed:    0.6s\n",
      "[Parallel(n_jobs=-2)]: Done  64 out of  64 | elapsed:    8.0s remaining:    0.0s\n",
      "[Parallel(n_jobs=-2)]: Done  64 out of  64 | elapsed:    8.0s finished\n"
     ]
    },
    {
     "name": "stdout",
     "output_type": "stream",
     "text": [
      "best params {'clf__n_neighbors': 5, 'clf__weights': 'distance'} precision score 0.49227018472943324 recall score 0.47312771727571484 f1 score 0.481171485038078\n",
      "Fitting 4 folds for each of 16 candidates, totalling 64 fits\n"
     ]
    },
    {
     "name": "stderr",
     "output_type": "stream",
     "text": [
      "[Parallel(n_jobs=-2)]: Using backend LokyBackend with 7 concurrent workers.\n",
      "[Parallel(n_jobs=-2)]: Done   4 tasks      | elapsed:    0.6s\n",
      "[Parallel(n_jobs=-2)]: Done  64 out of  64 | elapsed:    7.7s remaining:    0.0s\n",
      "[Parallel(n_jobs=-2)]: Done  64 out of  64 | elapsed:    7.7s finished\n"
     ]
    },
    {
     "name": "stdout",
     "output_type": "stream",
     "text": [
      "best params {'clf__n_neighbors': 10, 'clf__weights': 'distance'} precision score 0.5135418938065496 recall score 0.4922173908758874 f1 score 0.500257022260019\n",
      "Fitting 4 folds for each of 16 candidates, totalling 64 fits\n"
     ]
    },
    {
     "name": "stderr",
     "output_type": "stream",
     "text": [
      "[Parallel(n_jobs=-2)]: Using backend LokyBackend with 7 concurrent workers.\n",
      "[Parallel(n_jobs=-2)]: Done   4 tasks      | elapsed:    0.6s\n",
      "[Parallel(n_jobs=-2)]: Done  64 out of  64 | elapsed:    8.1s remaining:    0.0s\n",
      "[Parallel(n_jobs=-2)]: Done  64 out of  64 | elapsed:    8.1s finished\n"
     ]
    },
    {
     "name": "stdout",
     "output_type": "stream",
     "text": [
      "best params {'clf__n_neighbors': 5, 'clf__weights': 'distance'} precision score 0.5136733133860404 recall score 0.5005438821934957 f1 score 0.5061185966175465\n",
      "Fitting 4 folds for each of 16 candidates, totalling 64 fits\n"
     ]
    },
    {
     "name": "stderr",
     "output_type": "stream",
     "text": [
      "[Parallel(n_jobs=-2)]: Using backend LokyBackend with 7 concurrent workers.\n",
      "[Parallel(n_jobs=-2)]: Done   4 tasks      | elapsed:    0.6s\n",
      "[Parallel(n_jobs=-2)]: Done  64 out of  64 | elapsed:    8.1s remaining:    0.0s\n",
      "[Parallel(n_jobs=-2)]: Done  64 out of  64 | elapsed:    8.1s finished\n",
      "[Parallel(n_jobs=-2)]: Using backend LokyBackend with 7 concurrent workers.\n"
     ]
    },
    {
     "name": "stdout",
     "output_type": "stream",
     "text": [
      "best params {'clf__n_neighbors': 15, 'clf__weights': 'distance'} precision score 0.5247337013977881 recall score 0.49345580269212347 f1 score 0.50560284464217\n",
      "Fitting 4 folds for each of 16 candidates, totalling 64 fits\n"
     ]
    },
    {
     "name": "stderr",
     "output_type": "stream",
     "text": [
      "[Parallel(n_jobs=-2)]: Done   4 tasks      | elapsed:    0.6s\n",
      "[Parallel(n_jobs=-2)]: Done  64 out of  64 | elapsed:    7.9s remaining:    0.0s\n",
      "[Parallel(n_jobs=-2)]: Done  64 out of  64 | elapsed:    7.9s finished\n",
      "[Parallel(n_jobs=-2)]: Using backend LokyBackend with 7 concurrent workers.\n"
     ]
    },
    {
     "name": "stdout",
     "output_type": "stream",
     "text": [
      "best params {'clf__n_neighbors': 10, 'clf__weights': 'distance'} precision score 0.5119390922281565 recall score 0.4854172482118911 f1 score 0.49503304874633575\n",
      "Fitting 4 folds for each of 16 candidates, totalling 64 fits\n"
     ]
    },
    {
     "name": "stderr",
     "output_type": "stream",
     "text": [
      "[Parallel(n_jobs=-2)]: Done   4 tasks      | elapsed:    0.6s\n"
     ]
    },
    {
     "name": "stdout",
     "output_type": "stream",
     "text": [
      "best params {'clf__n_neighbors': 15, 'clf__weights': 'distance'} precision score 0.4929639166622854 recall score 0.45397255174239054 f1 score 0.4674086409837887\n"
     ]
    },
    {
     "name": "stderr",
     "output_type": "stream",
     "text": [
      "[Parallel(n_jobs=-2)]: Done  64 out of  64 | elapsed:    8.2s remaining:    0.0s\n",
      "[Parallel(n_jobs=-2)]: Done  64 out of  64 | elapsed:    8.2s finished\n"
     ]
    }
   ],
   "source": [
    "param_grid ={ 'clf__n_neighbors': [5,10,15,20,30,40,50,60],\n",
    "              'clf__weights': ['distance', 'uniform'] }\n",
    "ML_algo = KNeighborsClassifier()\n",
    "scores_KNN, models_KNN, ys_KNN = ML_pipeline_KFold_orig(X, y, preprocessor, ML_algo, param_grid)\n"
   ]
  },
  {
   "cell_type": "code",
   "execution_count": null,
   "metadata": {},
   "outputs": [],
   "source": []
  },
  {
   "cell_type": "code",
   "execution_count": null,
   "metadata": {},
   "outputs": [],
   "source": []
  }
 ],
 "metadata": {
  "kernelspec": {
   "display_name": "Python 3",
   "language": "python",
   "name": "python3"
  },
  "language_info": {
   "codemirror_mode": {
    "name": "ipython",
    "version": 3
   },
   "file_extension": ".py",
   "mimetype": "text/x-python",
   "name": "python",
   "nbconvert_exporter": "python",
   "pygments_lexer": "ipython3",
   "version": "3.8.6"
  }
 },
 "nbformat": 4,
 "nbformat_minor": 4
}
