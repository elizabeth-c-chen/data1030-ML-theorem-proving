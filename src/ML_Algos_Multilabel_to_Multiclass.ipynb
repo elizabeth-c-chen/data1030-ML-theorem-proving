{
 "cells": [
  {
   "cell_type": "code",
   "execution_count": 1,
   "id": "neither-riding",
   "metadata": {},
   "outputs": [],
   "source": [
    "import pandas as pd\n",
    "import numpy as np\n",
    "import pickle\n",
    "from sklearn.pipeline import  Pipeline\n",
    "from sklearn.model_selection import train_test_split, KFold, GridSearchCV, ParameterGrid\n",
    "from sklearn.preprocessing import StandardScaler#,  MinMaxScaler\n",
    "from sklearn.metrics import f1_score,  precision_score, recall_score\n",
    "\n",
    "from skmultilearn.problem_transform import LabelPowerset\n",
    "\n",
    "from sklearn.dummy import DummyClassifier\n",
    "from sklearn.linear_model import LogisticRegression\n",
    "from sklearn.neighbors import KNeighborsClassifier\n",
    "from sklearn.svm import SVC\n",
    "from sklearn.ensemble import RandomForestClassifier\n",
    "from sklearn.multiclass import OneVsRestClassifier"
   ]
  },
  {
   "cell_type": "code",
   "execution_count": 2,
   "id": "virgin-raising",
   "metadata": {},
   "outputs": [
    {
     "name": "stdout",
     "output_type": "stream",
     "text": [
      "number of features: 51\n"
     ]
    }
   ],
   "source": [
    "features = pd.read_csv('../data/features_plus_descriptions.csv')\n",
    "features.set_index('Feature Type and Number', inplace=True)\n",
    "features.drop(['S5', 'D21'], axis=0, inplace=True)\n",
    "print('number of features:', len(features.index))"
   ]
  },
  {
   "cell_type": "code",
   "execution_count": 3,
   "id": "falling-transfer",
   "metadata": {},
   "outputs": [
    {
     "data": {
      "text/html": [
       "<div>\n",
       "<style scoped>\n",
       "    .dataframe tbody tr th:only-of-type {\n",
       "        vertical-align: middle;\n",
       "    }\n",
       "\n",
       "    .dataframe tbody tr th {\n",
       "        vertical-align: top;\n",
       "    }\n",
       "\n",
       "    .dataframe thead th {\n",
       "        text-align: right;\n",
       "    }\n",
       "</style>\n",
       "<table border=\"1\" class=\"dataframe\">\n",
       "  <thead>\n",
       "    <tr style=\"text-align: right;\">\n",
       "      <th></th>\n",
       "      <th>H0_Best</th>\n",
       "      <th>H1_Best</th>\n",
       "      <th>H2_Best</th>\n",
       "      <th>H3_Best</th>\n",
       "      <th>H4_Best</th>\n",
       "      <th>H5_Best</th>\n",
       "    </tr>\n",
       "  </thead>\n",
       "  <tbody>\n",
       "    <tr>\n",
       "      <th>0</th>\n",
       "      <td>1</td>\n",
       "      <td>0</td>\n",
       "      <td>0</td>\n",
       "      <td>0</td>\n",
       "      <td>0</td>\n",
       "      <td>0</td>\n",
       "    </tr>\n",
       "    <tr>\n",
       "      <th>1</th>\n",
       "      <td>0</td>\n",
       "      <td>1</td>\n",
       "      <td>1</td>\n",
       "      <td>0</td>\n",
       "      <td>1</td>\n",
       "      <td>1</td>\n",
       "    </tr>\n",
       "    <tr>\n",
       "      <th>2</th>\n",
       "      <td>1</td>\n",
       "      <td>0</td>\n",
       "      <td>0</td>\n",
       "      <td>0</td>\n",
       "      <td>0</td>\n",
       "      <td>0</td>\n",
       "    </tr>\n",
       "    <tr>\n",
       "      <th>3</th>\n",
       "      <td>1</td>\n",
       "      <td>0</td>\n",
       "      <td>0</td>\n",
       "      <td>0</td>\n",
       "      <td>0</td>\n",
       "      <td>0</td>\n",
       "    </tr>\n",
       "    <tr>\n",
       "      <th>4</th>\n",
       "      <td>1</td>\n",
       "      <td>0</td>\n",
       "      <td>0</td>\n",
       "      <td>0</td>\n",
       "      <td>0</td>\n",
       "      <td>0</td>\n",
       "    </tr>\n",
       "    <tr>\n",
       "      <th>5</th>\n",
       "      <td>1</td>\n",
       "      <td>0</td>\n",
       "      <td>0</td>\n",
       "      <td>0</td>\n",
       "      <td>0</td>\n",
       "      <td>0</td>\n",
       "    </tr>\n",
       "    <tr>\n",
       "      <th>6</th>\n",
       "      <td>1</td>\n",
       "      <td>0</td>\n",
       "      <td>0</td>\n",
       "      <td>0</td>\n",
       "      <td>0</td>\n",
       "      <td>0</td>\n",
       "    </tr>\n",
       "    <tr>\n",
       "      <th>7</th>\n",
       "      <td>1</td>\n",
       "      <td>0</td>\n",
       "      <td>0</td>\n",
       "      <td>0</td>\n",
       "      <td>0</td>\n",
       "      <td>0</td>\n",
       "    </tr>\n",
       "    <tr>\n",
       "      <th>8</th>\n",
       "      <td>1</td>\n",
       "      <td>0</td>\n",
       "      <td>0</td>\n",
       "      <td>0</td>\n",
       "      <td>0</td>\n",
       "      <td>0</td>\n",
       "    </tr>\n",
       "    <tr>\n",
       "      <th>9</th>\n",
       "      <td>1</td>\n",
       "      <td>0</td>\n",
       "      <td>0</td>\n",
       "      <td>0</td>\n",
       "      <td>0</td>\n",
       "      <td>0</td>\n",
       "    </tr>\n",
       "    <tr>\n",
       "      <th>10</th>\n",
       "      <td>1</td>\n",
       "      <td>0</td>\n",
       "      <td>0</td>\n",
       "      <td>0</td>\n",
       "      <td>0</td>\n",
       "      <td>0</td>\n",
       "    </tr>\n",
       "    <tr>\n",
       "      <th>11</th>\n",
       "      <td>0</td>\n",
       "      <td>1</td>\n",
       "      <td>1</td>\n",
       "      <td>0</td>\n",
       "      <td>1</td>\n",
       "      <td>1</td>\n",
       "    </tr>\n",
       "    <tr>\n",
       "      <th>12</th>\n",
       "      <td>0</td>\n",
       "      <td>1</td>\n",
       "      <td>1</td>\n",
       "      <td>0</td>\n",
       "      <td>1</td>\n",
       "      <td>1</td>\n",
       "    </tr>\n",
       "    <tr>\n",
       "      <th>13</th>\n",
       "      <td>0</td>\n",
       "      <td>0</td>\n",
       "      <td>0</td>\n",
       "      <td>1</td>\n",
       "      <td>0</td>\n",
       "      <td>0</td>\n",
       "    </tr>\n",
       "  </tbody>\n",
       "</table>\n",
       "</div>"
      ],
      "text/plain": [
       "    H0_Best  H1_Best  H2_Best  H3_Best  H4_Best  H5_Best\n",
       "0         1        0        0        0        0        0\n",
       "1         0        1        1        0        1        1\n",
       "2         1        0        0        0        0        0\n",
       "3         1        0        0        0        0        0\n",
       "4         1        0        0        0        0        0\n",
       "5         1        0        0        0        0        0\n",
       "6         1        0        0        0        0        0\n",
       "7         1        0        0        0        0        0\n",
       "8         1        0        0        0        0        0\n",
       "9         1        0        0        0        0        0\n",
       "10        1        0        0        0        0        0\n",
       "11        0        1        1        0        1        1\n",
       "12        0        1        1        0        1        1\n",
       "13        0        0        0        1        0        0"
      ]
     },
     "execution_count": 3,
     "metadata": {},
     "output_type": "execute_result"
    }
   ],
   "source": [
    "target = ['H0_Best','H1_Best', 'H2_Best', 'H3_Best', 'H4_Best', 'H5_Best']\n",
    "\n",
    "df = pd.read_csv('../data/multilabel_with_tol_raw_data.csv')\n",
    "X = df.loc[:, features.index]\n",
    "y = df[target]\n",
    "y[:14] # Display the target columns"
   ]
  },
  {
   "cell_type": "markdown",
   "id": "awful-architecture",
   "metadata": {},
   "source": [
    "#### Use standard scaler for all features"
   ]
  },
  {
   "cell_type": "code",
   "execution_count": 4,
   "id": "further-updating",
   "metadata": {},
   "outputs": [],
   "source": [
    "def run_pipeline(X, y, param_grid):\n",
    "    test_scores = []\n",
    "    best_models = []\n",
    "    for i in range(10):\n",
    "        random_state = 431 * i\n",
    "        X_other, X_test, y_other, y_test = train_test_split(X, y, test_size = 0.2, random_state=random_state)\n",
    "        kf = KFold(n_splits=4, shuffle=True, random_state=random_state)\n",
    "        pipe = Pipeline([\n",
    "            (\"preprocessor\", StandardScaler()), \n",
    "            (\"clf\", LabelPowerset())\n",
    "        ])\n",
    "        grid = GridSearchCV(pipe, param_grid, scoring=\"f1_micro\", cv=kf, return_train_score=True, verbose=5, n_jobs=-1)   \n",
    "        grid.fit(X_other, y_other)\n",
    "        y_pred = grid.predict(X_test)\n",
    "        prec = precision_score(y_test, y_pred, average=\"micro\")\n",
    "        rec = recall_score(y_test, y_pred, average=\"micro\")\n",
    "        f1 = f1_score(y_test, y_pred, average=\"micro\")\n",
    "        print(\"Best Params: {} \\nBest CV Score: {}\".format(grid.best_params_, np.round(grid.best_score_, decimals=6)))\n",
    "        print(\"Precision:     {}\\nRecall:        {}\\nf1_micro:      {} \\n\".format(np.round(prec, decimals=6), np.round(rec, decimals=6),np.round(f1, decimals=6)))\n",
    "        test_scores.append(f1)\n",
    "        best_models.append(grid)\n",
    "    return test_scores, best_models"
   ]
  },
  {
   "cell_type": "markdown",
   "id": "backed-shift",
   "metadata": {},
   "source": [
    "## Dummy Classifier (Baseline Test Score)"
   ]
  },
  {
   "cell_type": "code",
   "execution_count": 5,
   "id": "facial-customer",
   "metadata": {
    "scrolled": true
   },
   "outputs": [
    {
     "name": "stdout",
     "output_type": "stream",
     "text": [
      "Fitting 4 folds for each of 4 candidates, totalling 16 fits\n",
      "Best Params: {'clf': DummyClassifier(strategy='uniform'), 'clf__strategy': 'uniform'} \n",
      "Best CV Score: 0.347165\n",
      "Precision:     0.263344\n",
      "Recall:        0.498454\n",
      "f1_micro:      0.344619 \n",
      "\n",
      "Fitting 4 folds for each of 4 candidates, totalling 16 fits\n",
      "Best Params: {'clf': DummyClassifier(strategy='uniform'), 'clf__strategy': 'uniform'} \n",
      "Best CV Score: 0.339811\n",
      "Precision:     0.268977\n",
      "Recall:        0.493939\n",
      "f1_micro:      0.348291 \n",
      "\n",
      "Fitting 4 folds for each of 4 candidates, totalling 16 fits\n",
      "Best Params: {'clf': DummyClassifier(strategy='uniform'), 'clf__strategy': 'uniform'} \n",
      "Best CV Score: 0.348484\n",
      "Precision:     0.258274\n",
      "Recall:        0.475521\n",
      "f1_micro:      0.334739 \n",
      "\n",
      "Fitting 4 folds for each of 4 candidates, totalling 16 fits\n",
      "Best Params: {'clf': DummyClassifier(strategy='uniform'), 'clf__strategy': 'uniform'} \n",
      "Best CV Score: 0.341585\n",
      "Precision:     0.267697\n",
      "Recall:        0.504086\n",
      "f1_micro:      0.34969 \n",
      "\n",
      "Fitting 4 folds for each of 4 candidates, totalling 16 fits\n",
      "Best Params: {'clf': DummyClassifier(strategy='uniform'), 'clf__strategy': 'uniform'} \n",
      "Best CV Score: 0.346918\n",
      "Precision:     0.268742\n",
      "Recall:        0.499246\n",
      "f1_micro:      0.349402 \n",
      "\n",
      "Fitting 4 folds for each of 4 candidates, totalling 16 fits\n",
      "Best Params: {'clf': DummyClassifier(strategy='uniform'), 'clf__strategy': 'uniform'} \n",
      "Best CV Score: 0.351829\n",
      "Precision:     0.255435\n",
      "Recall:        0.491632\n",
      "f1_micro:      0.336195 \n",
      "\n",
      "Fitting 4 folds for each of 4 candidates, totalling 16 fits\n",
      "Best Params: {'clf': DummyClassifier(strategy='uniform'), 'clf__strategy': 'uniform'} \n",
      "Best CV Score: 0.340372\n",
      "Precision:     0.262881\n",
      "Recall:        0.498163\n",
      "f1_micro:      0.344152 \n",
      "\n",
      "Fitting 4 folds for each of 4 candidates, totalling 16 fits\n",
      "Best Params: {'clf': DummyClassifier(strategy='uniform'), 'clf__strategy': 'uniform'} \n",
      "Best CV Score: 0.347202\n",
      "Precision:     0.277598\n",
      "Recall:        0.516792\n",
      "f1_micro:      0.361184 \n",
      "\n",
      "Fitting 4 folds for each of 4 candidates, totalling 16 fits\n",
      "Best Params: {'clf': DummyClassifier(strategy='uniform'), 'clf__strategy': 'uniform'} \n",
      "Best CV Score: 0.350911\n",
      "Precision:     0.268293\n",
      "Recall:        0.503561\n",
      "f1_micro:      0.350071 \n",
      "\n",
      "Fitting 4 folds for each of 4 candidates, totalling 16 fits\n",
      "Best Params: {'clf': DummyClassifier(strategy='uniform'), 'clf__strategy': 'uniform'} \n",
      "Best CV Score: 0.354178\n",
      "Precision:     0.261971\n",
      "Recall:        0.488577\n",
      "f1_micro:      0.341066 \n",
      "\n",
      "best test score for DummyClassifier: 0.3611840952881415\n",
      "best params for DummyClassifier: {'clf': DummyClassifier(strategy='uniform'), 'clf__strategy': 'uniform'}\n"
     ]
    }
   ],
   "source": [
    "param_grid = { 'clf': [DummyClassifier()],\n",
    "               'clf__strategy': [\"stratified\", \"most_frequent\", \"prior\", \"uniform\"]}\n",
    "test_scores_dummy, best_models_dummy = run_pipeline(X, y, param_grid)\n",
    "amax = np.argmax(test_scores_dummy)\n",
    "print('best test score for DummyClassifier:', test_scores_dummy[amax])\n",
    "print('best params for DummyClassifier:', best_models_dummy[amax].best_params_)"
   ]
  },
  {
   "cell_type": "code",
   "execution_count": 6,
   "id": "august-remove",
   "metadata": {},
   "outputs": [
    {
     "name": "stdout",
     "output_type": "stream",
     "text": [
      "mean test score for Dummy Classifier: 0.3459407160833628\n",
      "stdev of test score for Dummy Classifier: 0.007281207461362988\n"
     ]
    }
   ],
   "source": [
    "print('mean test score for Dummy Classifier:', np.mean(test_scores_dummy) )\n",
    "print('stdev of test score for Dummy Classifier:', np.std(test_scores_dummy))"
   ]
  },
  {
   "cell_type": "markdown",
   "id": "selective-caution",
   "metadata": {},
   "source": [
    "## Random Forest Classifier"
   ]
  },
  {
   "cell_type": "code",
   "execution_count": 7,
   "id": "polyphonic-product",
   "metadata": {},
   "outputs": [
    {
     "name": "stdout",
     "output_type": "stream",
     "text": [
      "Fitting 4 folds for each of 48 candidates, totalling 192 fits\n",
      "Best Params: {'clf': RandomForestClassifier(max_depth=20, max_features=30), 'clf__max_depth': 20, 'clf__max_features': 30} \n",
      "Best CV Score: 0.65392\n",
      "Precision:     0.755472\n",
      "Recall:        0.62268\n",
      "f1_micro:      0.682679 \n",
      "\n",
      "Fitting 4 folds for each of 48 candidates, totalling 192 fits\n",
      "Best Params: {'clf': RandomForestClassifier(max_depth=20, max_features=45), 'clf__max_depth': 20, 'clf__max_features': 45} \n",
      "Best CV Score: 0.643509\n",
      "Precision:     0.776081\n",
      "Recall:        0.616162\n",
      "f1_micro:      0.686937 \n",
      "\n",
      "Fitting 4 folds for each of 48 candidates, totalling 192 fits\n",
      "Best Params: {'clf': RandomForestClassifier(max_depth=25, max_features=40), 'clf__max_depth': 25, 'clf__max_features': 40} \n",
      "Best CV Score: 0.654363\n",
      "Precision:     0.759695\n",
      "Recall:        0.622396\n",
      "f1_micro:      0.684226 \n",
      "\n",
      "Fitting 4 folds for each of 48 candidates, totalling 192 fits\n",
      "Best Params: {'clf': RandomForestClassifier(max_depth=20, max_features=40), 'clf__max_depth': 20, 'clf__max_features': 40} \n",
      "Best CV Score: 0.657031\n",
      "Precision:     0.750157\n",
      "Recall:        0.611849\n",
      "f1_micro:      0.67398 \n",
      "\n",
      "Fitting 4 folds for each of 48 candidates, totalling 192 fits\n",
      "Best Params: {'clf': RandomForestClassifier(max_depth=35, max_features=30), 'clf__max_depth': 35, 'clf__max_features': 30} \n",
      "Best CV Score: 0.650934\n",
      "Precision:     0.760615\n",
      "Recall:        0.621418\n",
      "f1_micro:      0.684007 \n",
      "\n",
      "Fitting 4 folds for each of 48 candidates, totalling 192 fits\n",
      "Best Params: {'clf': RandomForestClassifier(max_depth=20, max_features=40), 'clf__max_depth': 20, 'clf__max_features': 40} \n",
      "Best CV Score: 0.651321\n",
      "Precision:     0.757033\n",
      "Recall:        0.619247\n",
      "f1_micro:      0.681243 \n",
      "\n",
      "Fitting 4 folds for each of 48 candidates, totalling 192 fits\n",
      "Best Params: {'clf': RandomForestClassifier(max_depth=40, max_features=35), 'clf__max_depth': 40, 'clf__max_features': 35} \n",
      "Best CV Score: 0.646872\n",
      "Precision:     0.777202\n",
      "Recall:        0.629921\n",
      "f1_micro:      0.695854 \n",
      "\n",
      "Fitting 4 folds for each of 48 candidates, totalling 192 fits\n",
      "Best Params: {'clf': RandomForestClassifier(max_depth=20, max_features=45), 'clf__max_depth': 20, 'clf__max_features': 45} \n",
      "Best CV Score: 0.659529\n",
      "Precision:     0.762617\n",
      "Recall:        0.613534\n",
      "f1_micro:      0.68 \n",
      "\n",
      "Fitting 4 folds for each of 48 candidates, totalling 192 fits\n",
      "Best Params: {'clf': RandomForestClassifier(max_depth=40, max_features=30), 'clf__max_depth': 40, 'clf__max_features': 30} \n",
      "Best CV Score: 0.652213\n",
      "Precision:     0.772467\n",
      "Recall:        0.61648\n",
      "f1_micro:      0.685714 \n",
      "\n",
      "Fitting 4 folds for each of 48 candidates, totalling 192 fits\n",
      "Best Params: {'clf': RandomForestClassifier(max_depth=35, max_features=30), 'clf__max_depth': 35, 'clf__max_features': 30} \n",
      "Best CV Score: 0.646067\n",
      "Precision:     0.755541\n",
      "Recall:        0.601765\n",
      "f1_micro:      0.669942 \n",
      "\n"
     ]
    }
   ],
   "source": [
    "param_grid = {  'clf': [RandomForestClassifier()],\n",
    "                'clf__max_depth': [15, 20, 25, 30, 35, 40],\n",
    "                'clf__max_features': [15, 20, 25, 30, 35, 40, 45, 51]} \n",
    "\n",
    "test_scores_RF, best_models_RF = run_pipeline(X, y, param_grid)\n"
   ]
  },
  {
   "cell_type": "code",
   "execution_count": 8,
   "id": "promotional-onion",
   "metadata": {
    "scrolled": true
   },
   "outputs": [
    {
     "name": "stdout",
     "output_type": "stream",
     "text": [
      "6\n",
      "best test score for Random Forest: 0.6958538706871558\n",
      "best estimator for Random Forest: {'clf': RandomForestClassifier(max_depth=35, max_features=30), 'clf__max_depth': 40, 'clf__max_features': 35}\n"
     ]
    }
   ],
   "source": [
    "amax = np.argmax(test_scores_RF)\n",
    "print(amax)\n",
    "print('best test score for Random Forest:', test_scores_RF[amax])\n",
    "print('best estimator for Random Forest:', best_models_RF[amax].best_params_)"
   ]
  },
  {
   "cell_type": "code",
   "execution_count": 9,
   "id": "insured-participant",
   "metadata": {},
   "outputs": [
    {
     "name": "stdout",
     "output_type": "stream",
     "text": [
      "mean test score for Random Forest: 0.6824581364808062\n",
      "stdev of test score for Random Forest: 0.00672101219853508\n"
     ]
    }
   ],
   "source": [
    "print('mean test score for Random Forest:', np.mean(test_scores_RF) )\n",
    "print('stdev of test score for Random Forest:', np.std(test_scores_RF))"
   ]
  },
  {
   "cell_type": "code",
   "execution_count": 10,
   "id": "hindu-joseph",
   "metadata": {},
   "outputs": [],
   "source": [
    "output = open('../results/RF_models_micro.pkl', 'wb')\n",
    "pickle.dump(best_models_RF, output)\n",
    "output.close()"
   ]
  },
  {
   "cell_type": "markdown",
   "id": "secure-athens",
   "metadata": {},
   "source": [
    "## K Nearest Neighbors Classifier"
   ]
  },
  {
   "cell_type": "code",
   "execution_count": 11,
   "id": "elder-motorcycle",
   "metadata": {
    "scrolled": false
   },
   "outputs": [
    {
     "name": "stdout",
     "output_type": "stream",
     "text": [
      "Fitting 4 folds for each of 16 candidates, totalling 64 fits\n",
      "Best Params: {'clf': KNeighborsClassifier(weights='distance'), 'clf__n_neighbors': 5, 'clf__weights': 'distance'} \n",
      "Best CV Score: 0.63347\n",
      "Precision:     0.712023\n",
      "Recall:        0.625773\n",
      "f1_micro:      0.666118 \n",
      "\n",
      "Fitting 4 folds for each of 16 candidates, totalling 64 fits\n",
      "Best Params: {'clf': KNeighborsClassifier(weights='distance'), 'clf__n_neighbors': 5, 'clf__weights': 'distance'} \n",
      "Best CV Score: 0.620691\n",
      "Precision:     0.723368\n",
      "Recall:        0.637879\n",
      "f1_micro:      0.677939 \n",
      "\n",
      "Fitting 4 folds for each of 16 candidates, totalling 64 fits\n",
      "Best Params: {'clf': KNeighborsClassifier(weights='distance'), 'clf__n_neighbors': 5, 'clf__weights': 'distance'} \n",
      "Best CV Score: 0.63561\n",
      "Precision:     0.709937\n",
      "Recall:        0.64375\n",
      "f1_micro:      0.675225 \n",
      "\n",
      "Fitting 4 folds for each of 16 candidates, totalling 64 fits\n",
      "Best Params: {'clf': KNeighborsClassifier(weights='distance'), 'clf__n_neighbors': 5, 'clf__weights': 'distance'} \n",
      "Best CV Score: 0.636096\n",
      "Precision:     0.70087\n",
      "Recall:        0.617467\n",
      "f1_micro:      0.65653 \n",
      "\n",
      "Fitting 4 folds for each of 16 candidates, totalling 64 fits\n",
      "Best Params: {'clf': KNeighborsClassifier(weights='distance'), 'clf__n_neighbors': 5, 'clf__weights': 'distance'} \n",
      "Best CV Score: 0.629768\n",
      "Precision:     0.71607\n",
      "Recall:        0.633987\n",
      "f1_micro:      0.672533 \n",
      "\n",
      "Fitting 4 folds for each of 16 candidates, totalling 64 fits\n",
      "Best Params: {'clf': KNeighborsClassifier(weights='distance'), 'clf__n_neighbors': 5, 'clf__weights': 'distance'} \n",
      "Best CV Score: 0.629604\n",
      "Precision:     0.689197\n",
      "Recall:        0.623954\n",
      "f1_micro:      0.654955 \n",
      "\n",
      "Fitting 4 folds for each of 16 candidates, totalling 64 fits\n",
      "Best Params: {'clf': KNeighborsClassifier(weights='distance'), 'clf__n_neighbors': 5, 'clf__weights': 'distance'} \n",
      "Best CV Score: 0.629447\n",
      "Precision:     0.723104\n",
      "Recall:        0.645669\n",
      "f1_micro:      0.682196 \n",
      "\n",
      "Fitting 4 folds for each of 16 candidates, totalling 64 fits\n",
      "Best Params: {'clf': KNeighborsClassifier(weights='distance'), 'clf__n_neighbors': 5, 'clf__weights': 'distance'} \n",
      "Best CV Score: 0.640198\n",
      "Precision:     0.705713\n",
      "Recall:        0.613033\n",
      "f1_micro:      0.656116 \n",
      "\n",
      "Fitting 4 folds for each of 16 candidates, totalling 64 fits\n",
      "Best Params: {'clf': KNeighborsClassifier(weights='distance'), 'clf__n_neighbors': 5, 'clf__weights': 'distance'} \n",
      "Best CV Score: 0.631671\n",
      "Precision:     0.702507\n",
      "Recall:        0.641404\n",
      "f1_micro:      0.670566 \n",
      "\n",
      "Fitting 4 folds for each of 16 candidates, totalling 64 fits\n",
      "Best Params: {'clf': KNeighborsClassifier(weights='distance'), 'clf__n_neighbors': 5, 'clf__weights': 'distance'} \n",
      "Best CV Score: 0.630404\n",
      "Precision:     0.69624\n",
      "Recall:        0.615265\n",
      "f1_micro:      0.653252 \n",
      "\n",
      "0.6665431208875722 +/- 0.010111567762256213\n"
     ]
    }
   ],
   "source": [
    "param_grid = {'clf': [KNeighborsClassifier()], \n",
    "              'clf__n_neighbors': [5,10,15,20,30,40,50,60],\n",
    "              'clf__weights': ['distance', 'uniform'] }\n",
    "\n",
    "test_scores_KNN, best_models_KNN = run_pipeline(X, y, param_grid)\n",
    "print(np.mean(test_scores_KNN), '+/-', np.std(test_scores_KNN))"
   ]
  },
  {
   "cell_type": "code",
   "execution_count": 12,
   "id": "severe-threshold",
   "metadata": {
    "scrolled": true
   },
   "outputs": [
    {
     "name": "stdout",
     "output_type": "stream",
     "text": [
      "6\n",
      "best test score for K Nearest Neighbors: 0.682196339434276\n",
      "best params for K Nearest Neighbors: {'clf': KNeighborsClassifier(weights='distance'), 'clf__n_neighbors': 5, 'clf__weights': 'distance'}\n"
     ]
    }
   ],
   "source": [
    "amax = np.argmax(test_scores_KNN)\n",
    "print(amax)\n",
    "print('best test score for K Nearest Neighbors:', test_scores_KNN[amax])\n",
    "print('best params for K Nearest Neighbors:', best_models_KNN[amax].best_params_)"
   ]
  },
  {
   "cell_type": "code",
   "execution_count": 13,
   "id": "moral-pressing",
   "metadata": {},
   "outputs": [
    {
     "name": "stdout",
     "output_type": "stream",
     "text": [
      "mean test score for K Nearest Neighbors: 0.6665431208875722\n",
      "stdev of test score for K Nearest Neighbors: 0.010111567762256213\n"
     ]
    }
   ],
   "source": [
    "print('mean test score for K Nearest Neighbors:', np.mean(test_scores_KNN) )\n",
    "print('stdev of test score for K Nearest Neighbors:', np.std(test_scores_KNN))"
   ]
  },
  {
   "cell_type": "code",
   "execution_count": 14,
   "id": "sublime-attempt",
   "metadata": {},
   "outputs": [],
   "source": [
    "output = open('../results/KNN_models_micro.pkl', 'wb')\n",
    "pickle.dump(best_models_KNN, output)\n",
    "output.close()"
   ]
  },
  {
   "cell_type": "markdown",
   "id": "breathing-walnut",
   "metadata": {},
   "source": [
    "## SVC"
   ]
  },
  {
   "cell_type": "code",
   "execution_count": 15,
   "id": "early-elder",
   "metadata": {},
   "outputs": [
    {
     "name": "stdout",
     "output_type": "stream",
     "text": [
      "Fitting 4 folds for each of 12 candidates, totalling 48 fits\n",
      "Best Params: {'clf': OneVsRestClassifier(estimator=SVC(C=10000.0, cache_size=3000,\n",
      "                                  max_iter=100000000, tol=0.0001)), 'clf__estimator__C': 10000.0, 'clf__estimator__tol': 0.0001} \n",
      "Best CV Score: 0.595619\n",
      "Precision:     0.638696\n",
      "Recall:        0.615979\n",
      "f1_micro:      0.627132 \n",
      "\n",
      "Fitting 4 folds for each of 12 candidates, totalling 48 fits\n",
      "Best Params: {'clf': OneVsRestClassifier(estimator=SVC(C=1000.0, cache_size=3000, max_iter=100000000,\n",
      "                                  tol=0.0001)), 'clf__estimator__C': 1000.0, 'clf__estimator__tol': 0.0001} \n",
      "Best CV Score: 0.585681\n",
      "Precision:     0.65916\n",
      "Recall:        0.54697\n",
      "f1_micro:      0.597847 \n",
      "\n",
      "Fitting 4 folds for each of 12 candidates, totalling 48 fits\n",
      "Best Params: {'clf': OneVsRestClassifier(estimator=SVC(C=10000.0, cache_size=3000,\n",
      "                                  max_iter=100000000, tol=0.0001)), 'clf__estimator__C': 10000.0, 'clf__estimator__tol': 0.0001} \n",
      "Best CV Score: 0.599533\n",
      "Precision:     0.641339\n",
      "Recall:        0.628646\n",
      "f1_micro:      0.634929 \n",
      "\n",
      "Fitting 4 folds for each of 12 candidates, totalling 48 fits\n",
      "Best Params: {'clf': OneVsRestClassifier(estimator=SVC(C=10000.0, cache_size=3000,\n",
      "                                  max_iter=100000000, tol=0.01)), 'clf__estimator__C': 10000.0, 'clf__estimator__tol': 0.01} \n",
      "Best CV Score: 0.596966\n",
      "Precision:     0.643089\n",
      "Recall:        0.608274\n",
      "f1_micro:      0.625197 \n",
      "\n",
      "Fitting 4 folds for each of 12 candidates, totalling 48 fits\n",
      "Best Params: {'clf': OneVsRestClassifier(estimator=SVC(C=10000.0, cache_size=3000,\n",
      "                                  max_iter=100000000, tol=0.0001)), 'clf__estimator__C': 10000.0, 'clf__estimator__tol': 0.0001} \n",
      "Best CV Score: 0.592038\n",
      "Precision:     0.665726\n",
      "Recall:        0.59276\n",
      "f1_micro:      0.627128 \n",
      "\n",
      "Fitting 4 folds for each of 12 candidates, totalling 48 fits\n",
      "Best Params: {'clf': OneVsRestClassifier(estimator=SVC(C=10000.0, cache_size=3000,\n",
      "                                  max_iter=100000000, tol=0.01)), 'clf__estimator__C': 10000.0, 'clf__estimator__tol': 0.01} \n",
      "Best CV Score: 0.598804\n",
      "Precision:     0.628117\n",
      "Recall:        0.619247\n",
      "f1_micro:      0.62365 \n",
      "\n",
      "Fitting 4 folds for each of 12 candidates, totalling 48 fits\n",
      "Best Params: {'clf': OneVsRestClassifier(estimator=SVC(C=10000.0, cache_size=3000,\n",
      "                                  max_iter=100000000, tol=0.01)), 'clf__estimator__C': 10000.0, 'clf__estimator__tol': 0.01} \n",
      "Best CV Score: 0.592886\n",
      "Precision:     0.659838\n",
      "Recall:        0.64252\n",
      "f1_micro:      0.651064 \n",
      "\n",
      "Fitting 4 folds for each of 12 candidates, totalling 48 fits\n",
      "Best Params: {'clf': OneVsRestClassifier(estimator=SVC(C=10000.0, cache_size=3000,\n",
      "                                  max_iter=100000000, tol=0.0001)), 'clf__estimator__C': 10000.0, 'clf__estimator__tol': 0.0001} \n",
      "Best CV Score: 0.599746\n",
      "Precision:     0.655227\n",
      "Recall:        0.622055\n",
      "f1_micro:      0.63821 \n",
      "\n",
      "Fitting 4 folds for each of 12 candidates, totalling 48 fits\n",
      "Best Params: {'clf': OneVsRestClassifier(estimator=SVC(C=10000.0, cache_size=3000,\n",
      "                                  max_iter=100000000, tol=0.01)), 'clf__estimator__C': 10000.0, 'clf__estimator__tol': 0.01} \n",
      "Best CV Score: 0.595666\n",
      "Precision:     0.635213\n",
      "Recall:        0.61292\n",
      "f1_micro:      0.623867 \n",
      "\n",
      "Fitting 4 folds for each of 12 candidates, totalling 48 fits\n",
      "Best Params: {'clf': OneVsRestClassifier(estimator=SVC(C=10000.0, cache_size=3000,\n",
      "                                  max_iter=100000000, tol=0.0001)), 'clf__estimator__C': 10000.0, 'clf__estimator__tol': 0.0001} \n",
      "Best CV Score: 0.597641\n",
      "Precision:     0.628759\n",
      "Recall:        0.597092\n",
      "f1_micro:      0.612517 \n",
      "\n"
     ]
    }
   ],
   "source": [
    "param_grid = { 'clf': [OneVsRestClassifier(SVC(max_iter=100000000, cache_size=3000))],\n",
    "               'clf__estimator__C': np.logspace(1,4,num=4),\n",
    "               'clf__estimator__tol': np.logspace(-4, -2,num=3) } \n",
    "\n",
    "test_scores_SVC, best_models_SVC = run_pipeline(X, y, param_grid)"
   ]
  },
  {
   "cell_type": "code",
   "execution_count": 16,
   "id": "desperate-spokesman",
   "metadata": {},
   "outputs": [
    {
     "name": "stdout",
     "output_type": "stream",
     "text": [
      "6\n",
      "best test score for SVC OneVsRest: 0.651063829787234\n",
      "best estimator for SVC OneVsRest: {'clf': OneVsRestClassifier(estimator=SVC(C=10000.0, cache_size=3000,\n",
      "                                  max_iter=100000000, tol=0.0001)), 'clf__estimator__C': 10000.0, 'clf__estimator__tol': 0.01}\n"
     ]
    }
   ],
   "source": [
    "amax = np.argmax(test_scores_SVC)\n",
    "print(amax)\n",
    "print('best test score for SVC OneVsRest:', test_scores_SVC[amax])\n",
    "print('best estimator for SVC OneVsRest:', best_models_SVC[amax].best_params_)"
   ]
  },
  {
   "cell_type": "code",
   "execution_count": 17,
   "id": "differential-rebound",
   "metadata": {},
   "outputs": [
    {
     "name": "stdout",
     "output_type": "stream",
     "text": [
      "mean test score for SVC OneVsRest: 0.6261541090946127\n",
      "stdev of test score for SVC OneVsRest: 0.013580985225053556\n"
     ]
    }
   ],
   "source": [
    "print('mean test score for SVC OneVsRest:', np.mean(test_scores_SVC) )\n",
    "print('stdev of test score for SVC OneVsRest:', np.std(test_scores_SVC))"
   ]
  },
  {
   "cell_type": "code",
   "execution_count": 18,
   "id": "mental-alaska",
   "metadata": {},
   "outputs": [],
   "source": [
    "output = open('../results/SVC_models_micro.pkl', 'wb')\n",
    "pickle.dump(best_models_SVC, output)\n",
    "output.close()"
   ]
  },
  {
   "cell_type": "markdown",
   "id": "immediate-navigation",
   "metadata": {},
   "source": [
    "## Logistic Regression"
   ]
  },
  {
   "cell_type": "code",
   "execution_count": 19,
   "id": "approved-mortgage",
   "metadata": {},
   "outputs": [
    {
     "name": "stdout",
     "output_type": "stream",
     "text": [
      "Fitting 4 folds for each of 10 candidates, totalling 40 fits\n",
      "Best Params: {'clf': OneVsRestClassifier(estimator=LogisticRegression(C=100.0, max_iter=100000,\n",
      "                                                 multi_class='ovr',\n",
      "                                                 solver='sag',\n",
      "                                                 warm_start=True)), 'clf__estimator__C': 100.0, 'clf__estimator__penalty': 'l2', 'clf__estimator__solver': 'sag'} \n",
      "Best CV Score: 0.391132\n",
      "Precision:     0.655172\n",
      "Recall:        0.284021\n",
      "f1_micro:      0.39626 \n",
      "\n",
      "Fitting 4 folds for each of 10 candidates, totalling 40 fits\n",
      "Best Params: {'clf': OneVsRestClassifier(estimator=LogisticRegression(C=10000.0, max_iter=100000,\n",
      "                                                 multi_class='ovr',\n",
      "                                                 warm_start=True)), 'clf__estimator__C': 10000.0, 'clf__estimator__penalty': 'l2', 'clf__estimator__solver': 'lbfgs'} \n",
      "Best CV Score: 0.406434\n",
      "Precision:     0.616484\n",
      "Recall:        0.283333\n",
      "f1_micro:      0.388235 \n",
      "\n",
      "Fitting 4 folds for each of 10 candidates, totalling 40 fits\n",
      "Best Params: {'clf': OneVsRestClassifier(estimator=LogisticRegression(C=10000.0, max_iter=100000,\n",
      "                                                 multi_class='ovr',\n",
      "                                                 warm_start=True)), 'clf__estimator__C': 10000.0, 'clf__estimator__penalty': 'l2', 'clf__estimator__solver': 'lbfgs'} \n",
      "Best CV Score: 0.392144\n",
      "Precision:     0.684472\n",
      "Recall:        0.286979\n",
      "f1_micro:      0.404404 \n",
      "\n",
      "Fitting 4 folds for each of 10 candidates, totalling 40 fits\n",
      "Best Params: {'clf': OneVsRestClassifier(estimator=LogisticRegression(C=100.0, max_iter=100000,\n",
      "                                                 multi_class='ovr',\n",
      "                                                 solver='sag',\n",
      "                                                 warm_start=True)), 'clf__estimator__C': 100.0, 'clf__estimator__penalty': 'l2', 'clf__estimator__solver': 'sag'} \n",
      "Best CV Score: 0.393392\n",
      "Precision:     0.665501\n",
      "Recall:        0.291624\n",
      "f1_micro:      0.40554 \n",
      "\n",
      "Fitting 4 folds for each of 10 candidates, totalling 40 fits\n",
      "Best Params: {'clf': OneVsRestClassifier(estimator=LogisticRegression(C=100.0, max_iter=100000,\n",
      "                                                 multi_class='ovr',\n",
      "                                                 solver='sag',\n",
      "                                                 warm_start=True)), 'clf__estimator__C': 100.0, 'clf__estimator__penalty': 'l2', 'clf__estimator__solver': 'sag'} \n",
      "Best CV Score: 0.381987\n",
      "Precision:     0.667808\n",
      "Recall:        0.294118\n",
      "f1_micro:      0.408377 \n",
      "\n",
      "Fitting 4 folds for each of 10 candidates, totalling 40 fits\n",
      "Best Params: {'clf': OneVsRestClassifier(estimator=LogisticRegression(C=10000.0, max_iter=100000,\n",
      "                                                 multi_class='ovr',\n",
      "                                                 warm_start=True)), 'clf__estimator__C': 10000.0, 'clf__estimator__penalty': 'l2', 'clf__estimator__solver': 'lbfgs'} \n",
      "Best CV Score: 0.388097\n",
      "Precision:     0.617857\n",
      "Recall:        0.271444\n",
      "f1_micro:      0.37718 \n",
      "\n",
      "Fitting 4 folds for each of 10 candidates, totalling 40 fits\n",
      "Best Params: {'clf': OneVsRestClassifier(estimator=LogisticRegression(C=10000.0, max_iter=100000,\n",
      "                                                 multi_class='ovr',\n",
      "                                                 warm_start=True)), 'clf__estimator__C': 10000.0, 'clf__estimator__penalty': 'l2', 'clf__estimator__solver': 'lbfgs'} \n",
      "Best CV Score: 0.377221\n",
      "Precision:     0.684524\n",
      "Recall:        0.301837\n",
      "f1_micro:      0.418944 \n",
      "\n",
      "Fitting 4 folds for each of 10 candidates, totalling 40 fits\n",
      "Best Params: {'clf': OneVsRestClassifier(estimator=LogisticRegression(C=1000.0, max_iter=100000,\n",
      "                                                 multi_class='ovr',\n",
      "                                                 solver='sag',\n",
      "                                                 warm_start=True)), 'clf__estimator__C': 1000.0, 'clf__estimator__penalty': 'l2', 'clf__estimator__solver': 'sag'} \n",
      "Best CV Score: 0.386341\n",
      "Precision:     0.654172\n",
      "Recall:        0.271178\n",
      "f1_micro:      0.383416 \n",
      "\n",
      "Fitting 4 folds for each of 10 candidates, totalling 40 fits\n",
      "Best Params: {'clf': OneVsRestClassifier(estimator=LogisticRegression(C=10000.0, max_iter=100000,\n",
      "                                                 multi_class='ovr',\n",
      "                                                 warm_start=True)), 'clf__estimator__C': 10000.0, 'clf__estimator__penalty': 'l2', 'clf__estimator__solver': 'lbfgs'} \n",
      "Best CV Score: 0.385997\n",
      "Precision:     0.653318\n",
      "Recall:        0.290437\n",
      "f1_micro:      0.402113 \n",
      "\n",
      "Fitting 4 folds for each of 10 candidates, totalling 40 fits\n",
      "Best Params: {'clf': OneVsRestClassifier(estimator=LogisticRegression(C=10000.0, max_iter=100000,\n",
      "                                                 multi_class='ovr',\n",
      "                                                 warm_start=True)), 'clf__estimator__C': 10000.0, 'clf__estimator__penalty': 'l2', 'clf__estimator__solver': 'lbfgs'} \n",
      "Best CV Score: 0.400924\n",
      "Precision:     0.61194\n",
      "Recall:        0.255452\n",
      "f1_micro:      0.36044 \n",
      "\n"
     ]
    }
   ],
   "source": [
    "param_grid = { 'clf': [OneVsRestClassifier(LogisticRegression(max_iter=100000, \n",
    "                                                              warm_start=True, \n",
    "                                                              multi_class='ovr'))],\n",
    "               'clf__estimator__penalty': ['l2'],\n",
    "               'clf__estimator__C': np.logspace(0, 4, 5),\n",
    "               'clf__estimator__solver': ['sag', 'lbfgs'] }\n",
    "\n",
    "test_scores_LR, best_models_LR = run_pipeline(X, y, param_grid)"
   ]
  },
  {
   "cell_type": "code",
   "execution_count": 20,
   "id": "owned-unemployment",
   "metadata": {},
   "outputs": [
    {
     "name": "stdout",
     "output_type": "stream",
     "text": [
      "6\n",
      "best test score for Log Reg: 0.41894353369763204\n",
      "best params for Log Reg: {'clf': OneVsRestClassifier(estimator=LogisticRegression(C=10000.0, max_iter=100000,\n",
      "                                                 multi_class='ovr',\n",
      "                                                 warm_start=True)), 'clf__estimator__C': 10000.0, 'clf__estimator__penalty': 'l2', 'clf__estimator__solver': 'lbfgs'}\n"
     ]
    }
   ],
   "source": [
    "amax = np.argmax(test_scores_LR)\n",
    "print(amax)\n",
    "print('best test score for Log Reg:', test_scores_LR[amax])\n",
    "print('best params for Log Reg:', best_models_LR[amax].best_params_)"
   ]
  },
  {
   "cell_type": "code",
   "execution_count": 21,
   "id": "maritime-definition",
   "metadata": {},
   "outputs": [
    {
     "name": "stdout",
     "output_type": "stream",
     "text": [
      "mean test score for Log Reg: 0.394490805768927\n",
      "stdev of test score for Log Reg: 0.016411141321304855\n"
     ]
    }
   ],
   "source": [
    "print('mean test score for Log Reg:', np.mean(test_scores_LR) )\n",
    "print('stdev of test score for Log Reg:', np.std(test_scores_LR))"
   ]
  },
  {
   "cell_type": "code",
   "execution_count": 22,
   "id": "electoral-investigator",
   "metadata": {},
   "outputs": [],
   "source": [
    "output = open('../results/LR_models_micro.pkl', 'wb')\n",
    "pickle.dump(best_models_LR, output)\n",
    "output.close()"
   ]
  }
 ],
 "metadata": {
  "kernelspec": {
   "display_name": "Python 3",
   "language": "python",
   "name": "python3"
  },
  "language_info": {
   "codemirror_mode": {
    "name": "ipython",
    "version": 3
   },
   "file_extension": ".py",
   "mimetype": "text/x-python",
   "name": "python",
   "nbconvert_exporter": "python",
   "pygments_lexer": "ipython3",
   "version": "3.8.6"
  }
 },
 "nbformat": 4,
 "nbformat_minor": 5
}
