{
 "cells": [
  {
   "cell_type": "markdown",
   "metadata": {},
   "source": [
    "# Testing ML Algorithms using the Multilabel Target Matrix"
   ]
  },
  {
   "cell_type": "code",
   "execution_count": 1,
   "metadata": {},
   "outputs": [],
   "source": [
    "import pandas as pd\n",
    "import numpy as np\n",
    "import matplotlib.pyplot as plt\n",
    "\n",
    "from sklearn.preprocessing import MinMaxScaler, StandardScaler\n",
    "from sklearn.compose import ColumnTransformer\n",
    "from sklearn.pipeline import  make_pipeline\n",
    "from sklearn.model_selection import train_test_split, KFold, GridSearchCV, ParameterGrid\n",
    "\n",
    "from sklearn.metrics import accuracy_score, f1_score, matthews_corrcoef, make_scorer, confusion_matrix\n",
    "\n",
    "from sklearn.svm import SVC\n",
    "from sklearn.gaussian_process import GaussianProcessClassifier"
   ]
  },
  {
   "cell_type": "code",
   "execution_count": 2,
   "metadata": {},
   "outputs": [
    {
     "data": {
      "text/html": [
       "<div>\n",
       "<style scoped>\n",
       "    .dataframe tbody tr th:only-of-type {\n",
       "        vertical-align: middle;\n",
       "    }\n",
       "\n",
       "    .dataframe tbody tr th {\n",
       "        vertical-align: top;\n",
       "    }\n",
       "\n",
       "    .dataframe thead th {\n",
       "        text-align: right;\n",
       "    }\n",
       "</style>\n",
       "<table border=\"1\" class=\"dataframe\">\n",
       "  <thead>\n",
       "    <tr style=\"text-align: right;\">\n",
       "      <th></th>\n",
       "      <th>S1</th>\n",
       "      <th>S2</th>\n",
       "      <th>S3</th>\n",
       "      <th>S4</th>\n",
       "      <th>S5</th>\n",
       "      <th>S6</th>\n",
       "      <th>S7</th>\n",
       "      <th>S8</th>\n",
       "      <th>S9</th>\n",
       "      <th>S10</th>\n",
       "      <th>...</th>\n",
       "      <th>D37</th>\n",
       "      <th>D38</th>\n",
       "      <th>D39</th>\n",
       "      <th>H0_Best</th>\n",
       "      <th>H1_Best</th>\n",
       "      <th>H2_Best</th>\n",
       "      <th>H3_Best</th>\n",
       "      <th>H4_Best</th>\n",
       "      <th>H5_Best</th>\n",
       "      <th>Best Heuristic</th>\n",
       "    </tr>\n",
       "  </thead>\n",
       "  <tbody>\n",
       "    <tr>\n",
       "      <th>0</th>\n",
       "      <td>0.83307</td>\n",
       "      <td>0.99682</td>\n",
       "      <td>0.83307</td>\n",
       "      <td>0.76789</td>\n",
       "      <td>0</td>\n",
       "      <td>0.76948</td>\n",
       "      <td>0.069952</td>\n",
       "      <td>0.16057</td>\n",
       "      <td>6</td>\n",
       "      <td>1.2734</td>\n",
       "      <td>...</td>\n",
       "      <td>0.73872</td>\n",
       "      <td>0.073308</td>\n",
       "      <td>0.18797</td>\n",
       "      <td>1</td>\n",
       "      <td>0</td>\n",
       "      <td>0</td>\n",
       "      <td>0</td>\n",
       "      <td>0</td>\n",
       "      <td>0</td>\n",
       "      <td>0</td>\n",
       "    </tr>\n",
       "    <tr>\n",
       "      <th>1</th>\n",
       "      <td>0.83307</td>\n",
       "      <td>0.99682</td>\n",
       "      <td>0.83307</td>\n",
       "      <td>0.76948</td>\n",
       "      <td>0</td>\n",
       "      <td>0.77107</td>\n",
       "      <td>0.068363</td>\n",
       "      <td>0.16057</td>\n",
       "      <td>6</td>\n",
       "      <td>1.2734</td>\n",
       "      <td>...</td>\n",
       "      <td>0.74436</td>\n",
       "      <td>0.067669</td>\n",
       "      <td>0.18797</td>\n",
       "      <td>0</td>\n",
       "      <td>1</td>\n",
       "      <td>0</td>\n",
       "      <td>0</td>\n",
       "      <td>0</td>\n",
       "      <td>0</td>\n",
       "      <td>1</td>\n",
       "    </tr>\n",
       "    <tr>\n",
       "      <th>2</th>\n",
       "      <td>0.83307</td>\n",
       "      <td>0.99682</td>\n",
       "      <td>0.83307</td>\n",
       "      <td>0.76789</td>\n",
       "      <td>0</td>\n",
       "      <td>0.76948</td>\n",
       "      <td>0.069952</td>\n",
       "      <td>0.16057</td>\n",
       "      <td>6</td>\n",
       "      <td>1.2734</td>\n",
       "      <td>...</td>\n",
       "      <td>0.74248</td>\n",
       "      <td>0.069549</td>\n",
       "      <td>0.18797</td>\n",
       "      <td>1</td>\n",
       "      <td>0</td>\n",
       "      <td>0</td>\n",
       "      <td>0</td>\n",
       "      <td>0</td>\n",
       "      <td>0</td>\n",
       "      <td>0</td>\n",
       "    </tr>\n",
       "    <tr>\n",
       "      <th>3</th>\n",
       "      <td>0.83307</td>\n",
       "      <td>0.99682</td>\n",
       "      <td>0.83307</td>\n",
       "      <td>0.76789</td>\n",
       "      <td>0</td>\n",
       "      <td>0.76948</td>\n",
       "      <td>0.069952</td>\n",
       "      <td>0.16057</td>\n",
       "      <td>6</td>\n",
       "      <td>1.2734</td>\n",
       "      <td>...</td>\n",
       "      <td>0.73120</td>\n",
       "      <td>0.080827</td>\n",
       "      <td>0.18797</td>\n",
       "      <td>1</td>\n",
       "      <td>0</td>\n",
       "      <td>0</td>\n",
       "      <td>0</td>\n",
       "      <td>0</td>\n",
       "      <td>0</td>\n",
       "      <td>0</td>\n",
       "    </tr>\n",
       "    <tr>\n",
       "      <th>4</th>\n",
       "      <td>0.83307</td>\n",
       "      <td>0.99682</td>\n",
       "      <td>0.83307</td>\n",
       "      <td>0.76789</td>\n",
       "      <td>0</td>\n",
       "      <td>0.76948</td>\n",
       "      <td>0.069952</td>\n",
       "      <td>0.16057</td>\n",
       "      <td>6</td>\n",
       "      <td>1.2734</td>\n",
       "      <td>...</td>\n",
       "      <td>0.73308</td>\n",
       "      <td>0.078947</td>\n",
       "      <td>0.18797</td>\n",
       "      <td>1</td>\n",
       "      <td>0</td>\n",
       "      <td>0</td>\n",
       "      <td>0</td>\n",
       "      <td>0</td>\n",
       "      <td>0</td>\n",
       "      <td>0</td>\n",
       "    </tr>\n",
       "  </tbody>\n",
       "</table>\n",
       "<p>5 rows × 60 columns</p>\n",
       "</div>"
      ],
      "text/plain": [
       "        S1       S2       S3       S4  S5       S6        S7       S8  S9  \\\n",
       "0  0.83307  0.99682  0.83307  0.76789   0  0.76948  0.069952  0.16057   6   \n",
       "1  0.83307  0.99682  0.83307  0.76948   0  0.77107  0.068363  0.16057   6   \n",
       "2  0.83307  0.99682  0.83307  0.76789   0  0.76948  0.069952  0.16057   6   \n",
       "3  0.83307  0.99682  0.83307  0.76789   0  0.76948  0.069952  0.16057   6   \n",
       "4  0.83307  0.99682  0.83307  0.76789   0  0.76948  0.069952  0.16057   6   \n",
       "\n",
       "      S10  ...      D37       D38      D39  H0_Best  H1_Best  H2_Best  \\\n",
       "0  1.2734  ...  0.73872  0.073308  0.18797        1        0        0   \n",
       "1  1.2734  ...  0.74436  0.067669  0.18797        0        1        0   \n",
       "2  1.2734  ...  0.74248  0.069549  0.18797        1        0        0   \n",
       "3  1.2734  ...  0.73120  0.080827  0.18797        1        0        0   \n",
       "4  1.2734  ...  0.73308  0.078947  0.18797        1        0        0   \n",
       "\n",
       "   H3_Best  H4_Best  H5_Best  Best Heuristic  \n",
       "0        0        0        0               0  \n",
       "1        0        0        0               1  \n",
       "2        0        0        0               0  \n",
       "3        0        0        0               0  \n",
       "4        0        0        0               0  \n",
       "\n",
       "[5 rows x 60 columns]"
      ]
     },
     "execution_count": 2,
     "metadata": {},
     "output_type": "execute_result"
    }
   ],
   "source": [
    "df = pd.read_csv('../data/multiclass_target_raw_data.csv')\n",
    "df.head()"
   ]
  },
  {
   "cell_type": "code",
   "execution_count": 3,
   "metadata": {},
   "outputs": [
    {
     "data": {
      "text/html": [
       "<div>\n",
       "<style scoped>\n",
       "    .dataframe tbody tr th:only-of-type {\n",
       "        vertical-align: middle;\n",
       "    }\n",
       "\n",
       "    .dataframe tbody tr th {\n",
       "        vertical-align: top;\n",
       "    }\n",
       "\n",
       "    .dataframe thead th {\n",
       "        text-align: right;\n",
       "    }\n",
       "</style>\n",
       "<table border=\"1\" class=\"dataframe\">\n",
       "  <thead>\n",
       "    <tr style=\"text-align: right;\">\n",
       "      <th>Feature Type and Number</th>\n",
       "      <th>S1</th>\n",
       "      <th>S2</th>\n",
       "      <th>S3</th>\n",
       "      <th>S4</th>\n",
       "      <th>S6</th>\n",
       "      <th>S7</th>\n",
       "      <th>S8</th>\n",
       "      <th>S9</th>\n",
       "      <th>S10</th>\n",
       "      <th>S11</th>\n",
       "      <th>...</th>\n",
       "      <th>D30</th>\n",
       "      <th>D31</th>\n",
       "      <th>D32</th>\n",
       "      <th>D33</th>\n",
       "      <th>D34</th>\n",
       "      <th>D35</th>\n",
       "      <th>D36</th>\n",
       "      <th>D37</th>\n",
       "      <th>D38</th>\n",
       "      <th>D39</th>\n",
       "    </tr>\n",
       "  </thead>\n",
       "  <tbody>\n",
       "    <tr>\n",
       "      <th>0</th>\n",
       "      <td>0.83307</td>\n",
       "      <td>0.99682</td>\n",
       "      <td>0.83307</td>\n",
       "      <td>0.76789</td>\n",
       "      <td>0.76948</td>\n",
       "      <td>0.069952</td>\n",
       "      <td>0.16057</td>\n",
       "      <td>6</td>\n",
       "      <td>1.2734</td>\n",
       "      <td>6</td>\n",
       "      <td>...</td>\n",
       "      <td>0.0</td>\n",
       "      <td>0.020202</td>\n",
       "      <td>0.80639</td>\n",
       "      <td>0.99624</td>\n",
       "      <td>0.80263</td>\n",
       "      <td>0.73684</td>\n",
       "      <td>0.00188</td>\n",
       "      <td>0.73872</td>\n",
       "      <td>0.073308</td>\n",
       "      <td>0.18797</td>\n",
       "    </tr>\n",
       "    <tr>\n",
       "      <th>1</th>\n",
       "      <td>0.83307</td>\n",
       "      <td>0.99682</td>\n",
       "      <td>0.83307</td>\n",
       "      <td>0.76948</td>\n",
       "      <td>0.77107</td>\n",
       "      <td>0.068363</td>\n",
       "      <td>0.16057</td>\n",
       "      <td>6</td>\n",
       "      <td>1.2734</td>\n",
       "      <td>6</td>\n",
       "      <td>...</td>\n",
       "      <td>0.0</td>\n",
       "      <td>0.020202</td>\n",
       "      <td>0.80639</td>\n",
       "      <td>0.99624</td>\n",
       "      <td>0.80263</td>\n",
       "      <td>0.74248</td>\n",
       "      <td>0.00188</td>\n",
       "      <td>0.74436</td>\n",
       "      <td>0.067669</td>\n",
       "      <td>0.18797</td>\n",
       "    </tr>\n",
       "    <tr>\n",
       "      <th>2</th>\n",
       "      <td>0.83307</td>\n",
       "      <td>0.99682</td>\n",
       "      <td>0.83307</td>\n",
       "      <td>0.76789</td>\n",
       "      <td>0.76948</td>\n",
       "      <td>0.069952</td>\n",
       "      <td>0.16057</td>\n",
       "      <td>6</td>\n",
       "      <td>1.2734</td>\n",
       "      <td>6</td>\n",
       "      <td>...</td>\n",
       "      <td>0.0</td>\n",
       "      <td>0.020202</td>\n",
       "      <td>0.80639</td>\n",
       "      <td>0.99624</td>\n",
       "      <td>0.80263</td>\n",
       "      <td>0.74060</td>\n",
       "      <td>0.00188</td>\n",
       "      <td>0.74248</td>\n",
       "      <td>0.069549</td>\n",
       "      <td>0.18797</td>\n",
       "    </tr>\n",
       "    <tr>\n",
       "      <th>3</th>\n",
       "      <td>0.83307</td>\n",
       "      <td>0.99682</td>\n",
       "      <td>0.83307</td>\n",
       "      <td>0.76789</td>\n",
       "      <td>0.76948</td>\n",
       "      <td>0.069952</td>\n",
       "      <td>0.16057</td>\n",
       "      <td>6</td>\n",
       "      <td>1.2734</td>\n",
       "      <td>6</td>\n",
       "      <td>...</td>\n",
       "      <td>0.0</td>\n",
       "      <td>0.020202</td>\n",
       "      <td>0.80639</td>\n",
       "      <td>0.99624</td>\n",
       "      <td>0.80263</td>\n",
       "      <td>0.72932</td>\n",
       "      <td>0.00188</td>\n",
       "      <td>0.73120</td>\n",
       "      <td>0.080827</td>\n",
       "      <td>0.18797</td>\n",
       "    </tr>\n",
       "    <tr>\n",
       "      <th>4</th>\n",
       "      <td>0.83307</td>\n",
       "      <td>0.99682</td>\n",
       "      <td>0.83307</td>\n",
       "      <td>0.76789</td>\n",
       "      <td>0.76948</td>\n",
       "      <td>0.069952</td>\n",
       "      <td>0.16057</td>\n",
       "      <td>6</td>\n",
       "      <td>1.2734</td>\n",
       "      <td>6</td>\n",
       "      <td>...</td>\n",
       "      <td>0.0</td>\n",
       "      <td>0.020202</td>\n",
       "      <td>0.80639</td>\n",
       "      <td>0.99624</td>\n",
       "      <td>0.80263</td>\n",
       "      <td>0.73120</td>\n",
       "      <td>0.00188</td>\n",
       "      <td>0.73308</td>\n",
       "      <td>0.078947</td>\n",
       "      <td>0.18797</td>\n",
       "    </tr>\n",
       "  </tbody>\n",
       "</table>\n",
       "<p>5 rows × 51 columns</p>\n",
       "</div>"
      ],
      "text/plain": [
       "Feature Type and Number       S1       S2       S3       S4       S6  \\\n",
       "0                        0.83307  0.99682  0.83307  0.76789  0.76948   \n",
       "1                        0.83307  0.99682  0.83307  0.76948  0.77107   \n",
       "2                        0.83307  0.99682  0.83307  0.76789  0.76948   \n",
       "3                        0.83307  0.99682  0.83307  0.76789  0.76948   \n",
       "4                        0.83307  0.99682  0.83307  0.76789  0.76948   \n",
       "\n",
       "Feature Type and Number        S7       S8  S9     S10  S11  ...  D30  \\\n",
       "0                        0.069952  0.16057   6  1.2734    6  ...  0.0   \n",
       "1                        0.068363  0.16057   6  1.2734    6  ...  0.0   \n",
       "2                        0.069952  0.16057   6  1.2734    6  ...  0.0   \n",
       "3                        0.069952  0.16057   6  1.2734    6  ...  0.0   \n",
       "4                        0.069952  0.16057   6  1.2734    6  ...  0.0   \n",
       "\n",
       "Feature Type and Number       D31      D32      D33      D34      D35  \\\n",
       "0                        0.020202  0.80639  0.99624  0.80263  0.73684   \n",
       "1                        0.020202  0.80639  0.99624  0.80263  0.74248   \n",
       "2                        0.020202  0.80639  0.99624  0.80263  0.74060   \n",
       "3                        0.020202  0.80639  0.99624  0.80263  0.72932   \n",
       "4                        0.020202  0.80639  0.99624  0.80263  0.73120   \n",
       "\n",
       "Feature Type and Number      D36      D37       D38      D39  \n",
       "0                        0.00188  0.73872  0.073308  0.18797  \n",
       "1                        0.00188  0.74436  0.067669  0.18797  \n",
       "2                        0.00188  0.74248  0.069549  0.18797  \n",
       "3                        0.00188  0.73120  0.080827  0.18797  \n",
       "4                        0.00188  0.73308  0.078947  0.18797  \n",
       "\n",
       "[5 rows x 51 columns]"
      ]
     },
     "execution_count": 3,
     "metadata": {},
     "output_type": "execute_result"
    }
   ],
   "source": [
    "features = pd.read_csv('../data/features_plus_descriptions.csv')\n",
    "features.set_index('Feature Type and Number', inplace=True)\n",
    "features.drop(['S5', 'D21'], axis=0, inplace=True)\n",
    "\n",
    "X = df.loc[:,features.index]\n",
    "X.head()"
   ]
  },
  {
   "cell_type": "code",
   "execution_count": 4,
   "metadata": {},
   "outputs": [
    {
     "data": {
      "text/plain": [
       "0    0\n",
       "1    1\n",
       "2    0\n",
       "3    0\n",
       "4    0\n",
       "Name: Best Heuristic, dtype: int64"
      ]
     },
     "execution_count": 4,
     "metadata": {},
     "output_type": "execute_result"
    }
   ],
   "source": [
    "H_Best = ['H0_Best', 'H1_Best', 'H2_Best', 'H3_Best', 'H4_Best', 'H5_Best']\n",
    "\n",
    "\n",
    "y = df[H_Best]"
   ]
  },
  {
   "cell_type": "code",
   "execution_count": 5,
   "metadata": {},
   "outputs": [
    {
     "data": {
      "text/html": [
       "<div>\n",
       "<style scoped>\n",
       "    .dataframe tbody tr th:only-of-type {\n",
       "        vertical-align: middle;\n",
       "    }\n",
       "\n",
       "    .dataframe tbody tr th {\n",
       "        vertical-align: top;\n",
       "    }\n",
       "\n",
       "    .dataframe thead th {\n",
       "        text-align: right;\n",
       "    }\n",
       "</style>\n",
       "<table border=\"1\" class=\"dataframe\">\n",
       "  <thead>\n",
       "    <tr style=\"text-align: right;\">\n",
       "      <th></th>\n",
       "      <th>H0_Best</th>\n",
       "      <th>H1_Best</th>\n",
       "      <th>H2_Best</th>\n",
       "      <th>H3_Best</th>\n",
       "      <th>H4_Best</th>\n",
       "      <th>H5_Best</th>\n",
       "    </tr>\n",
       "  </thead>\n",
       "  <tbody>\n",
       "    <tr>\n",
       "      <th>0</th>\n",
       "      <td>1</td>\n",
       "      <td>0</td>\n",
       "      <td>0</td>\n",
       "      <td>0</td>\n",
       "      <td>0</td>\n",
       "      <td>0</td>\n",
       "    </tr>\n",
       "    <tr>\n",
       "      <th>1</th>\n",
       "      <td>0</td>\n",
       "      <td>1</td>\n",
       "      <td>0</td>\n",
       "      <td>0</td>\n",
       "      <td>0</td>\n",
       "      <td>0</td>\n",
       "    </tr>\n",
       "    <tr>\n",
       "      <th>2</th>\n",
       "      <td>1</td>\n",
       "      <td>0</td>\n",
       "      <td>0</td>\n",
       "      <td>0</td>\n",
       "      <td>0</td>\n",
       "      <td>0</td>\n",
       "    </tr>\n",
       "    <tr>\n",
       "      <th>3</th>\n",
       "      <td>1</td>\n",
       "      <td>0</td>\n",
       "      <td>0</td>\n",
       "      <td>0</td>\n",
       "      <td>0</td>\n",
       "      <td>0</td>\n",
       "    </tr>\n",
       "    <tr>\n",
       "      <th>4</th>\n",
       "      <td>1</td>\n",
       "      <td>0</td>\n",
       "      <td>0</td>\n",
       "      <td>0</td>\n",
       "      <td>0</td>\n",
       "      <td>0</td>\n",
       "    </tr>\n",
       "  </tbody>\n",
       "</table>\n",
       "</div>"
      ],
      "text/plain": [
       "   H0_Best  H1_Best  H2_Best  H3_Best  H4_Best  H5_Best\n",
       "0        1        0        0        0        0        0\n",
       "1        0        1        0        0        0        0\n",
       "2        1        0        0        0        0        0\n",
       "3        1        0        0        0        0        0\n",
       "4        1        0        0        0        0        0"
      ]
     },
     "execution_count": 5,
     "metadata": {},
     "output_type": "execute_result"
    }
   ],
   "source": [
    "y.head()"
   ]
  },
  {
   "cell_type": "code",
   "execution_count": 6,
   "metadata": {},
   "outputs": [],
   "source": [
    "types = dict.fromkeys(features.index, 'stdsc')\n",
    "mm_feats = ['S1','S3', 'S4', 'S6', 'S8','S11', 'S12', 'D3', 'D39']\n",
    "\n",
    "for feat in mm_feats:\n",
    "    types[feat] = 'minmax'"
   ]
  },
  {
   "cell_type": "code",
   "execution_count": 7,
   "metadata": {},
   "outputs": [
    {
     "name": "stdout",
     "output_type": "stream",
     "text": [
      "MinMax Scaler Features:  ['S1', 'S3', 'S4', 'S6', 'S8', 'S11', 'S12', 'D3', 'D39']\n",
      "Standard Scaler Features:  ['S2', 'S7', 'S9', 'S10', 'S13', 'S14', 'D1', 'D2', 'D4', 'D5', 'D6', 'D7', 'D8', 'D9', 'D10', 'D11', 'D12', 'D13', 'D14', 'D15', 'D16', 'D17', 'D18', 'D19', 'D20', 'D22', 'D23', 'D24', 'D25', 'D26', 'D27', 'D28', 'D29', 'D30', 'D31', 'D32', 'D33', 'D34', 'D35', 'D36', 'D37', 'D38']\n"
     ]
    }
   ],
   "source": [
    "minmax_feats = []\n",
    "std_feats = []\n",
    "\n",
    "for feat in types.keys():\n",
    "    if types[feat] == 'stdsc':\n",
    "        std_feats.append(feat)\n",
    "    elif types[feat] == 'minmax':\n",
    "        minmax_feats.append(feat)\n",
    "\n",
    "print('MinMax Scaler Features: ', minmax_feats)\n",
    "print('Standard Scaler Features: ', std_feats)\n",
    "\n",
    "preprocessor = ColumnTransformer(\n",
    "    transformers=[\n",
    "        ('mm_scaler', MinMaxScaler(), minmax_feats),\n",
    "        ('std_scaler', StandardScaler(), std_feats)])"
   ]
  },
  {
   "cell_type": "code",
   "execution_count": 8,
   "metadata": {},
   "outputs": [],
   "source": [
    "def bridge_mcc(ytrue, ypred):\n",
    "    TN, FP, FN, TP = confusion_matrix(ytrue, ypred)\n",
    "    MCC_numer = (TP * TN) - (FP * FN)\n",
    "    if TN == 0:\n",
    "        MCC_denom = 1\n",
    "    elif FN == 0:\n",
    "        MCC_denom = 1\n",
    "    elif FP == 0:\n",
    "        MCC_denom = 1\n",
    "    elif TP == 0:\n",
    "        MCC_denom = 1\n",
    "    else:\n",
    "        MCC_denom = np.sqrt((TP + FP) * (TP + FN) * (TN + FP) * (TN + FN))\n",
    "    return MCC_numer / MCC_denom\n",
    "    "
   ]
  },
  {
   "cell_type": "code",
   "execution_count": 9,
   "metadata": {},
   "outputs": [],
   "source": [
    "def ML_pipeline_KFold_acc_f1_SVC(X, y, preprocessor, param_grid):\n",
    "    \"\"\"\n",
    "    This function splits the data into other and test sets (80-20 split) and\n",
    "    then applies KFold with 4 folds to other set. It employs Support Vector\n",
    "    Classification and gives results for accuracy,f1, and Matthews Correlation\n",
    "    Coefficient scores.\n",
    "    \"\"\"\n",
    "    \n",
    "    test_scores = {'f1': [], 'acc': [], 'mcc':[] }\n",
    "    best_models = []\n",
    "\n",
    "    for i in range(1,11):\n",
    "        random_state = 431 * i\n",
    "        X_other, X_test, y_other, y_test = train_test_split(X, y, test_size = 0.2, random_state=random_state)\n",
    "        kf = KFold(n_splits=4, shuffle=True, random_state=random_state)\n",
    "        svc = SVC(probability=False, random_state=random_state)\n",
    "        clf = make_pipeline(preprocessor, svc)\n",
    "        grid = GridSearchCV(clf, param_grid=param_grid, scoring='f1', cv=kf, verbose=1, n_jobs=-2, pre_dispatch=6)   \n",
    "        grid.fit(X_other, y_other)\n",
    "        print(i, grid.best_params_)\n",
    "        best_models.append(grid.best_params_)\n",
    "        y_pred = grid.predict(X_test)\n",
    "        f1 = f1_score(y_test, y_pred)\n",
    "        acc = accuracy_score(y_test, y_pred)\n",
    "        mcc = matthews_corrcoef(y_test, y_pred)\n",
    "        print(\"scores (acc, f1, mcc)\",  acc, f1, mcc)\n",
    "        test_scores['acc'].append(acc)\n",
    "        test_scores['f1'].append(f1)\n",
    "        test_scores['mcc'].append(mcc)\n",
    "    return best_models, test_scores"
   ]
  },
  {
   "cell_type": "markdown",
   "metadata": {},
   "source": [
    "## SVC"
   ]
  },
  {
   "cell_type": "markdown",
   "metadata": {},
   "source": [
    "#### H1"
   ]
  },
  {
   "cell_type": "code",
   "execution_count": 10,
   "metadata": {
    "scrolled": true
   },
   "outputs": [
    {
     "name": "stdout",
     "output_type": "stream",
     "text": [
      "Fitting 4 folds for each of 256 candidates, totalling 1024 fits\n"
     ]
    },
    {
     "name": "stderr",
     "output_type": "stream",
     "text": [
      "[Parallel(n_jobs=-2)]: Using backend LokyBackend with 7 concurrent workers.\n",
      "[Parallel(n_jobs=-2)]: Done  44 tasks      | elapsed:    4.7s\n",
      "[Parallel(n_jobs=-2)]: Done 194 tasks      | elapsed:   20.3s\n",
      "[Parallel(n_jobs=-2)]: Done 444 tasks      | elapsed:   57.0s\n",
      "[Parallel(n_jobs=-2)]: Done 794 tasks      | elapsed:  2.0min\n",
      "[Parallel(n_jobs=-2)]: Done 1024 out of 1024 | elapsed:  2.9min finished\n"
     ]
    },
    {
     "name": "stdout",
     "output_type": "stream",
     "text": [
      "1 {'svc__C': 32.0, 'svc__gamma': 0.5}\n",
      "scores (acc, f1, mcc) 0.8120915032679739 0.3783783783783784 0.28802280125064256\n",
      "Fitting 4 folds for each of 256 candidates, totalling 1024 fits\n"
     ]
    },
    {
     "name": "stderr",
     "output_type": "stream",
     "text": [
      "[Parallel(n_jobs=-2)]: Using backend LokyBackend with 7 concurrent workers.\n",
      "[Parallel(n_jobs=-2)]: Done  44 tasks      | elapsed:    4.1s\n",
      "[Parallel(n_jobs=-2)]: Done 194 tasks      | elapsed:   21.2s\n",
      "[Parallel(n_jobs=-2)]: Done 444 tasks      | elapsed:   59.5s\n",
      "[Parallel(n_jobs=-2)]: Done 794 tasks      | elapsed:  2.0min\n",
      "[Parallel(n_jobs=-2)]: Done 1024 out of 1024 | elapsed:  2.9min finished\n"
     ]
    },
    {
     "name": "stdout",
     "output_type": "stream",
     "text": [
      "2 {'svc__C': 32.0, 'svc__gamma': 4.0}\n",
      "scores (acc, f1, mcc) 0.8341503267973857 0.3829787234042553 0.31877935285649545\n",
      "Fitting 4 folds for each of 256 candidates, totalling 1024 fits\n"
     ]
    },
    {
     "name": "stderr",
     "output_type": "stream",
     "text": [
      "[Parallel(n_jobs=-2)]: Using backend LokyBackend with 7 concurrent workers.\n",
      "[Parallel(n_jobs=-2)]: Done  44 tasks      | elapsed:    4.0s\n",
      "[Parallel(n_jobs=-2)]: Done 194 tasks      | elapsed:   20.1s\n",
      "[Parallel(n_jobs=-2)]: Done 444 tasks      | elapsed:   58.1s\n",
      "[Parallel(n_jobs=-2)]: Done 794 tasks      | elapsed:  2.0min\n",
      "[Parallel(n_jobs=-2)]: Done 1024 out of 1024 | elapsed:  2.8min finished\n"
     ]
    },
    {
     "name": "stdout",
     "output_type": "stream",
     "text": [
      "3 {'svc__C': 32.0, 'svc__gamma': 1.0}\n",
      "scores (acc, f1, mcc) 0.8300653594771242 0.3953488372093023 0.3099117194932223\n",
      "Fitting 4 folds for each of 256 candidates, totalling 1024 fits\n"
     ]
    },
    {
     "name": "stderr",
     "output_type": "stream",
     "text": [
      "[Parallel(n_jobs=-2)]: Using backend LokyBackend with 7 concurrent workers.\n",
      "[Parallel(n_jobs=-2)]: Done  44 tasks      | elapsed:    4.0s\n",
      "[Parallel(n_jobs=-2)]: Done 194 tasks      | elapsed:   20.0s\n",
      "[Parallel(n_jobs=-2)]: Done 444 tasks      | elapsed:   57.7s\n",
      "[Parallel(n_jobs=-2)]: Done 794 tasks      | elapsed:  2.0min\n",
      "[Parallel(n_jobs=-2)]: Done 1024 out of 1024 | elapsed:  2.8min finished\n"
     ]
    },
    {
     "name": "stdout",
     "output_type": "stream",
     "text": [
      "4 {'svc__C': 32.0, 'svc__gamma': 0.5}\n",
      "scores (acc, f1, mcc) 0.829248366013072 0.37611940298507457 0.300473187122996\n",
      "Fitting 4 folds for each of 256 candidates, totalling 1024 fits\n"
     ]
    },
    {
     "name": "stderr",
     "output_type": "stream",
     "text": [
      "[Parallel(n_jobs=-2)]: Using backend LokyBackend with 7 concurrent workers.\n",
      "[Parallel(n_jobs=-2)]: Done  44 tasks      | elapsed:    4.2s\n",
      "[Parallel(n_jobs=-2)]: Done 194 tasks      | elapsed:   20.3s\n",
      "[Parallel(n_jobs=-2)]: Done 444 tasks      | elapsed:  1.1min\n",
      "[Parallel(n_jobs=-2)]: Done 794 tasks      | elapsed:  2.1min\n",
      "[Parallel(n_jobs=-2)]: Done 1024 out of 1024 | elapsed:  3.1min finished\n"
     ]
    },
    {
     "name": "stdout",
     "output_type": "stream",
     "text": [
      "5 {'svc__C': 32.0, 'svc__gamma': 0.5}\n",
      "scores (acc, f1, mcc) 0.815359477124183 0.3651685393258427 0.282238545719523\n",
      "Fitting 4 folds for each of 256 candidates, totalling 1024 fits\n"
     ]
    },
    {
     "name": "stderr",
     "output_type": "stream",
     "text": [
      "[Parallel(n_jobs=-2)]: Using backend LokyBackend with 7 concurrent workers.\n",
      "[Parallel(n_jobs=-2)]: Done  44 tasks      | elapsed:    4.3s\n",
      "[Parallel(n_jobs=-2)]: Done 194 tasks      | elapsed:   20.5s\n",
      "[Parallel(n_jobs=-2)]: Done 444 tasks      | elapsed:  1.0min\n",
      "[Parallel(n_jobs=-2)]: Done 794 tasks      | elapsed:  2.1min\n",
      "[Parallel(n_jobs=-2)]: Done 1024 out of 1024 | elapsed:  3.0min finished\n"
     ]
    },
    {
     "name": "stdout",
     "output_type": "stream",
     "text": [
      "6 {'svc__C': 32.0, 'svc__gamma': 1.0}\n",
      "scores (acc, f1, mcc) 0.8455882352941176 0.43243243243243246 0.36921096305695006\n",
      "Fitting 4 folds for each of 256 candidates, totalling 1024 fits\n"
     ]
    },
    {
     "name": "stderr",
     "output_type": "stream",
     "text": [
      "[Parallel(n_jobs=-2)]: Using backend LokyBackend with 7 concurrent workers.\n",
      "[Parallel(n_jobs=-2)]: Done  44 tasks      | elapsed:    3.9s\n",
      "[Parallel(n_jobs=-2)]: Done 194 tasks      | elapsed:   19.3s\n",
      "[Parallel(n_jobs=-2)]: Done 444 tasks      | elapsed:   55.7s\n",
      "[Parallel(n_jobs=-2)]: Done 794 tasks      | elapsed:  1.9min\n",
      "[Parallel(n_jobs=-2)]: Done 1024 out of 1024 | elapsed:  2.7min finished\n"
     ]
    },
    {
     "name": "stdout",
     "output_type": "stream",
     "text": [
      "7 {'svc__C': 32.0, 'svc__gamma': 0.25}\n",
      "scores (acc, f1, mcc) 0.8161764705882353 0.3835616438356164 0.30669081373500573\n",
      "Fitting 4 folds for each of 256 candidates, totalling 1024 fits\n"
     ]
    },
    {
     "name": "stderr",
     "output_type": "stream",
     "text": [
      "[Parallel(n_jobs=-2)]: Using backend LokyBackend with 7 concurrent workers.\n",
      "[Parallel(n_jobs=-2)]: Done  44 tasks      | elapsed:    3.9s\n",
      "[Parallel(n_jobs=-2)]: Done 194 tasks      | elapsed:   19.4s\n",
      "[Parallel(n_jobs=-2)]: Done 444 tasks      | elapsed:   55.2s\n",
      "[Parallel(n_jobs=-2)]: Done 794 tasks      | elapsed:  1.9min\n",
      "[Parallel(n_jobs=-2)]: Done 1024 out of 1024 | elapsed:  2.8min finished\n"
     ]
    },
    {
     "name": "stdout",
     "output_type": "stream",
     "text": [
      "8 {'svc__C': 32.0, 'svc__gamma': 2.0}\n",
      "scores (acc, f1, mcc) 0.8349673202614379 0.39156626506024095 0.3270944053566954\n",
      "Fitting 4 folds for each of 256 candidates, totalling 1024 fits\n"
     ]
    },
    {
     "name": "stderr",
     "output_type": "stream",
     "text": [
      "[Parallel(n_jobs=-2)]: Using backend LokyBackend with 7 concurrent workers.\n",
      "[Parallel(n_jobs=-2)]: Done  44 tasks      | elapsed:    4.2s\n",
      "[Parallel(n_jobs=-2)]: Done 194 tasks      | elapsed:   21.4s\n",
      "[Parallel(n_jobs=-2)]: Done 444 tasks      | elapsed:  1.0min\n",
      "[Parallel(n_jobs=-2)]: Done 794 tasks      | elapsed:  2.2min\n",
      "[Parallel(n_jobs=-2)]: Done 1024 out of 1024 | elapsed:  3.1min finished\n"
     ]
    },
    {
     "name": "stdout",
     "output_type": "stream",
     "text": [
      "9 {'svc__C': 16.0, 'svc__gamma': 2.0}\n",
      "scores (acc, f1, mcc) 0.8251633986928104 0.35928143712574856 0.2945485403013772\n",
      "Fitting 4 folds for each of 256 candidates, totalling 1024 fits\n"
     ]
    },
    {
     "name": "stderr",
     "output_type": "stream",
     "text": [
      "[Parallel(n_jobs=-2)]: Using backend LokyBackend with 7 concurrent workers.\n",
      "[Parallel(n_jobs=-2)]: Done  44 tasks      | elapsed:    3.9s\n",
      "[Parallel(n_jobs=-2)]: Done 194 tasks      | elapsed:   19.8s\n",
      "[Parallel(n_jobs=-2)]: Done 444 tasks      | elapsed:   57.8s\n",
      "[Parallel(n_jobs=-2)]: Done 794 tasks      | elapsed:  2.1min\n",
      "[Parallel(n_jobs=-2)]: Done 1024 out of 1024 | elapsed:  3.0min finished\n"
     ]
    },
    {
     "name": "stdout",
     "output_type": "stream",
     "text": [
      "10 {'svc__C': 32.0, 'svc__gamma': 1.0}\n",
      "scores (acc, f1, mcc) 0.829248366013072 0.364741641337386 0.2854364422591711\n"
     ]
    }
   ],
   "source": [
    "param_grid = {'svc__C': np.logspace(-10, 5, base=2, num=16),'svc__gamma': np.logspace(-5, 10, base=2, num=16)}\n",
    "pg = ParameterGrid(param_grid)\n",
    "\n",
    "best_models, test_scores = ML_pipeline_KFold_acc_f1_SVC(X, y['H1_Best'], preprocessor, param_grid)"
   ]
  },
  {
   "cell_type": "markdown",
   "metadata": {},
   "source": [
    "#### H2"
   ]
  },
  {
   "cell_type": "code",
   "execution_count": null,
   "metadata": {},
   "outputs": [],
   "source": [
    "param_grid = {'svc__C': np.logspace(-10, 5, base=2, num=16), 'svc__gamma': np.logspace(-5, 10, base=2, num=16)}\n",
    "pg = ParameterGrid(param_grid)\n",
    "\n",
    "best_models, test_scores = ML_pipeline_KFold_acc_f1_SVC(X, y['H2_Best'], preprocessor, param_grid)"
   ]
  },
  {
   "cell_type": "markdown",
   "metadata": {},
   "source": [
    "#### H3"
   ]
  },
  {
   "cell_type": "code",
   "execution_count": null,
   "metadata": {},
   "outputs": [],
   "source": [
    "param_grid = {'svc__C': np.logspace(-10, 5, base=2, num=16), 'svc__gamma': np.logspace(-5, 10, base=2, num=16)}\n",
    "pg = ParameterGrid(param_grid)\n",
    "\n",
    "best_models, test_scores = ML_pipeline_KFold_acc_f1_SVC(X, y['H3_Best'], preprocessor, param_grid)"
   ]
  },
  {
   "cell_type": "markdown",
   "metadata": {},
   "source": [
    "#### H4"
   ]
  },
  {
   "cell_type": "code",
   "execution_count": null,
   "metadata": {},
   "outputs": [],
   "source": [
    "param_grid = {'svc__C': np.logspace(-10, 5, base=2, num=16), 'svc__gamma': np.logspace(-5, 10, base=2, num=16)}\n",
    "pg = ParameterGrid(param_grid)\n",
    "\n",
    "best_models, test_scores = ML_pipeline_KFold_acc_f1_SVC(X, y['H4_Best'], preprocessor, param_grid)"
   ]
  },
  {
   "cell_type": "markdown",
   "metadata": {},
   "source": [
    "#### H5"
   ]
  },
  {
   "cell_type": "code",
   "execution_count": null,
   "metadata": {},
   "outputs": [],
   "source": [
    "param_grid = {'svc__C': np.logspace(-10, 5, base=2, num=16), 'svc__gamma': np.logspace(-5, 10, base=2, num=16)}\n",
    "pg = ParameterGrid(param_grid)\n",
    "\n",
    "best_models, test_scores = ML_pipeline_KFold_acc_f1_SVC(X, y['H5_Best'], preprocessor, param_grid)"
   ]
  },
  {
   "cell_type": "markdown",
   "metadata": {},
   "source": [
    "#### H0"
   ]
  },
  {
   "cell_type": "code",
   "execution_count": null,
   "metadata": {},
   "outputs": [],
   "source": [
    "param_grid = {'svc__C': np.logspace(-10, 5, base=2, num=16), 'svc__gamma': np.logspace(-5, 10, base=2, num=16)}\n",
    "pg = ParameterGrid(param_grid)\n",
    "\n",
    "best_models, test_scores = ML_pipeline_KFold_acc_f1_SVC(X, y['H0_Best'], preprocessor, param_grid)"
   ]
  }
 ],
 "metadata": {
  "kernelspec": {
   "display_name": "Python 3",
   "language": "python",
   "name": "python3"
  },
  "language_info": {
   "codemirror_mode": {
    "name": "ipython",
    "version": 3
   },
   "file_extension": ".py",
   "mimetype": "text/x-python",
   "name": "python",
   "nbconvert_exporter": "python",
   "pygments_lexer": "ipython3",
   "version": "3.7.8"
  }
 },
 "nbformat": 4,
 "nbformat_minor": 4
}
