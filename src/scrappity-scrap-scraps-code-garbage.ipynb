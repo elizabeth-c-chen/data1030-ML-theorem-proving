{
 "cells": [
  {
   "cell_type": "code",
   "execution_count": null,
   "metadata": {},
   "outputs": [],
   "source": [
    "for S in range(6):\n",
    "    print(\"SUM = \", S)\n",
    "    for a in range(len(counts_strict)):\n",
    "        if np.sum(unique_rows_strict[a]) == S:\n",
    "            print(unique_rows_strict[a], counts_strict[a]) \n",
    "        "
   ]
  },
  {
   "cell_type": "code",
   "execution_count": null,
   "metadata": {},
   "outputs": [],
   "source": [
    "heuristic_positives = {i:0 for i in range(6)}\n",
    "\n",
    "for s in range(len(unique_rows_strict[a])):\n",
    "    print(\"heuristic 1 positive\", s)\n",
    "    for a in range(len(counts_strict)):\n",
    "        if unique_rows_strict[a][s] == 1:\n",
    "            print(unique_rows_strict[a], counts_strict[a])\n",
    "            heuristic_positives[s] += counts_strict[a]\n",
    "heuristic_positives"
   ]
  },
  {
   "cell_type": "markdown",
   "metadata": {},
   "source": [
    "# Scatter Matrix:"
   ]
  },
  {
   "cell_type": "code",
   "execution_count": null,
   "metadata": {},
   "outputs": [],
   "source": [
    "#plt.rcParams['axes.facecolor'] = 'white'\n",
    "#colors = ['b','g','r','c','m','y']\n",
    "#pd.plotting.scatter_matrix(df[static_colnames], figsize=(26,26), marker='o', hist_kwds={'bins': 30}, s=20, alpha=.1)\n",
    "#figname = '../figures/scatter_matrix_static.png'\n",
    "#plt.savefig(figname, dpi=300, format='png')\n",
    "#plt.show()"
   ]
  },
  {
   "cell_type": "code",
   "execution_count": null,
   "metadata": {},
   "outputs": [],
   "source": [
    "#plt.rcParams['axes.facecolor'] = 'white'\n",
    "#pd.plotting.scatter_matrix(df[dynamic_colnames], figsize=(70,70), marker='o',hist_kwds={'bins': 30}, s=20, alpha=.1)\n",
    "#figname = '../figures/scatter_matrix_dynamic.png'\n",
    "#plt.savefig(figname, dpi=300, format='png')\n",
    "#plt.show()"
   ]
  },
  {
   "cell_type": "code",
   "execution_count": null,
   "metadata": {},
   "outputs": [],
   "source": []
  },
  {
   "cell_type": "code",
   "execution_count": null,
   "metadata": {},
   "outputs": [],
   "source": []
  },
  {
   "cell_type": "code",
   "execution_count": null,
   "metadata": {},
   "outputs": [],
   "source": []
  }
 ],
 "metadata": {
  "kernelspec": {
   "display_name": "Python 3",
   "language": "python",
   "name": "python3"
  },
  "language_info": {
   "codemirror_mode": {
    "name": "ipython",
    "version": 3
   },
   "file_extension": ".py",
   "mimetype": "text/x-python",
   "name": "python",
   "nbconvert_exporter": "python",
   "pygments_lexer": "ipython3",
   "version": "3.7.8"
  }
 },
 "nbformat": 4,
 "nbformat_minor": 4
}
